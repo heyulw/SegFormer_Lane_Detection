{
 "cells": [
  {
   "cell_type": "code",
   "execution_count": 1,
   "id": "e1bd6993",
   "metadata": {
    "_cell_guid": "b1076dfc-b9ad-4769-8c92-a6c4dae69d19",
    "_uuid": "8f2839f25d086af736a60e9eeb907d3b93b6e0e5",
    "execution": {
     "iopub.execute_input": "2024-06-27T14:50:43.682279Z",
     "iopub.status.busy": "2024-06-27T14:50:43.681966Z"
    },
    "papermill": {
     "duration": null,
     "end_time": null,
     "exception": false,
     "start_time": "2024-06-27T14:50:43.676445",
     "status": "running"
    },
    "tags": []
   },
   "outputs": [
    {
     "name": "stderr",
     "output_type": "stream",
     "text": [
      "/opt/conda/lib/python3.10/site-packages/torch/utils/data/dataloader.py:557: UserWarning: This DataLoader will create 6 worker processes in total. Our suggested max number of worker in current system is 4, which is smaller than what this DataLoader is going to create. Please be aware that excessive worker creation might get DataLoader running slow or even freeze, lower the worker number to avoid potential slowness/freeze if necessary.\n",
      "  warnings.warn(_create_warning_msg(\n"
     ]
    },
    {
     "data": {
      "application/vnd.jupyter.widget-view+json": {
       "model_id": "20fe36a72cc342ea895d758294afb2a0",
       "version_major": 2,
       "version_minor": 0
      },
      "text/plain": [
       "config.json:   0%|          | 0.00/6.88k [00:00<?, ?B/s]"
      ]
     },
     "metadata": {},
     "output_type": "display_data"
    },
    {
     "data": {
      "application/vnd.jupyter.widget-view+json": {
       "model_id": "0e41678af49a4e5482b273d1cc7e674d",
       "version_major": 2,
       "version_minor": 0
      },
      "text/plain": [
       "pytorch_model.bin:   0%|          | 0.00/110M [00:00<?, ?B/s]"
      ]
     },
     "metadata": {},
     "output_type": "display_data"
    },
    {
     "name": "stderr",
     "output_type": "stream",
     "text": [
      "/opt/conda/lib/python3.10/site-packages/torch/_utils.py:831: UserWarning: TypedStorage is deprecated. It will be removed in the future and UntypedStorage will be the only storage class. This should only matter to you if you are using storages directly.  To access UntypedStorage directly, use tensor.untyped_storage() instead of tensor.storage()\n",
      "  return self.fget.__get__(instance, owner)()\n"
     ]
    },
    {
     "name": "stderr",
     "output_type": "stream",
     "text": [
      "\r",
      "Epoch 1/20:   0%|          | 0/250 [00:00<?, ?batch/s]"
     ]
    },
    {
     "name": "stderr",
     "output_type": "stream",
     "text": [
      "\r",
      "Epoch 1/20:   0%|          | 0/250 [00:02<?, ?batch/s, loss=5.73]"
     ]
    },
    {
     "name": "stderr",
     "output_type": "stream",
     "text": [
      "\r",
      "Epoch 1/20:   0%|          | 1/250 [00:02<11:51,  2.86s/batch, loss=5.73]"
     ]
    },
    {
     "name": "stderr",
     "output_type": "stream",
     "text": [
      "\r",
      "Epoch 1/20:   0%|          | 1/250 [00:03<11:51,  2.86s/batch, loss=4.7] "
     ]
    },
    {
     "name": "stderr",
     "output_type": "stream",
     "text": [
      "\r",
      "Epoch 1/20:   1%|          | 2/250 [00:03<06:29,  1.57s/batch, loss=4.7]"
     ]
    },
    {
     "name": "stderr",
     "output_type": "stream",
     "text": [
      "\r",
      "Epoch 1/20:   1%|          | 2/250 [00:04<06:29,  1.57s/batch, loss=5.16]"
     ]
    },
    {
     "name": "stderr",
     "output_type": "stream",
     "text": [
      "\r",
      "Epoch 1/20:   1%|          | 3/250 [00:04<04:48,  1.17s/batch, loss=5.16]"
     ]
    },
    {
     "name": "stderr",
     "output_type": "stream",
     "text": [
      "\r",
      "Epoch 1/20:   1%|          | 3/250 [00:04<04:48,  1.17s/batch, loss=3.94]"
     ]
    },
    {
     "name": "stderr",
     "output_type": "stream",
     "text": [
      "\r",
      "Epoch 1/20:   2%|▏         | 4/250 [00:04<04:02,  1.01batch/s, loss=3.94]"
     ]
    },
    {
     "name": "stderr",
     "output_type": "stream",
     "text": [
      "\r",
      "Epoch 1/20:   2%|▏         | 4/250 [00:05<04:02,  1.01batch/s, loss=4.47]"
     ]
    },
    {
     "name": "stderr",
     "output_type": "stream",
     "text": [
      "\r",
      "Epoch 1/20:   2%|▏         | 5/250 [00:05<03:35,  1.14batch/s, loss=4.47]"
     ]
    },
    {
     "name": "stderr",
     "output_type": "stream",
     "text": [
      "\r",
      "Epoch 1/20:   2%|▏         | 5/250 [00:06<03:35,  1.14batch/s, loss=3.39]"
     ]
    },
    {
     "name": "stderr",
     "output_type": "stream",
     "text": [
      "\r",
      "Epoch 1/20:   2%|▏         | 6/250 [00:06<03:19,  1.23batch/s, loss=3.39]"
     ]
    },
    {
     "name": "stderr",
     "output_type": "stream",
     "text": [
      "\r",
      "Epoch 1/20:   2%|▏         | 6/250 [00:07<03:19,  1.23batch/s, loss=3.08]"
     ]
    },
    {
     "name": "stderr",
     "output_type": "stream",
     "text": [
      "\r",
      "Epoch 1/20:   3%|▎         | 7/250 [00:07<03:09,  1.28batch/s, loss=3.08]"
     ]
    },
    {
     "name": "stderr",
     "output_type": "stream",
     "text": [
      "\r",
      "Epoch 1/20:   3%|▎         | 7/250 [00:07<03:09,  1.28batch/s, loss=2.69]"
     ]
    },
    {
     "name": "stderr",
     "output_type": "stream",
     "text": [
      "\r",
      "Epoch 1/20:   3%|▎         | 8/250 [00:07<03:01,  1.34batch/s, loss=2.69]"
     ]
    },
    {
     "name": "stderr",
     "output_type": "stream",
     "text": [
      "\r",
      "Epoch 1/20:   3%|▎         | 8/250 [00:08<03:01,  1.34batch/s, loss=3.2] "
     ]
    },
    {
     "name": "stderr",
     "output_type": "stream",
     "text": [
      "\r",
      "Epoch 1/20:   4%|▎         | 9/250 [00:08<02:55,  1.37batch/s, loss=3.2]"
     ]
    },
    {
     "name": "stderr",
     "output_type": "stream",
     "text": [
      "\r",
      "Epoch 1/20:   4%|▎         | 9/250 [00:09<02:55,  1.37batch/s, loss=2.31]"
     ]
    },
    {
     "name": "stderr",
     "output_type": "stream",
     "text": [
      "\r",
      "Epoch 1/20:   4%|▍         | 10/250 [00:09<02:54,  1.38batch/s, loss=2.31]"
     ]
    },
    {
     "name": "stderr",
     "output_type": "stream",
     "text": [
      "\r",
      "Epoch 1/20:   4%|▍         | 10/250 [00:09<02:54,  1.38batch/s, loss=3.1] "
     ]
    },
    {
     "name": "stderr",
     "output_type": "stream",
     "text": [
      "\r",
      "Epoch 1/20:   4%|▍         | 11/250 [00:09<02:54,  1.37batch/s, loss=3.1]"
     ]
    },
    {
     "name": "stderr",
     "output_type": "stream",
     "text": [
      "\r",
      "Epoch 1/20:   4%|▍         | 11/250 [00:10<02:54,  1.37batch/s, loss=2]  "
     ]
    },
    {
     "name": "stderr",
     "output_type": "stream",
     "text": [
      "\r",
      "Epoch 1/20:   5%|▍         | 12/250 [00:10<02:52,  1.38batch/s, loss=2]"
     ]
    },
    {
     "name": "stderr",
     "output_type": "stream",
     "text": [
      "\r",
      "Epoch 1/20:   5%|▍         | 12/250 [00:11<02:52,  1.38batch/s, loss=2.13]"
     ]
    },
    {
     "name": "stderr",
     "output_type": "stream",
     "text": [
      "\r",
      "Epoch 1/20:   5%|▌         | 13/250 [00:11<02:50,  1.39batch/s, loss=2.13]"
     ]
    },
    {
     "name": "stderr",
     "output_type": "stream",
     "text": [
      "\r",
      "Epoch 1/20:   5%|▌         | 13/250 [00:11<02:50,  1.39batch/s, loss=1.77]"
     ]
    },
    {
     "name": "stderr",
     "output_type": "stream",
     "text": [
      "\r",
      "Epoch 1/20:   6%|▌         | 14/250 [00:11<02:48,  1.40batch/s, loss=1.77]"
     ]
    },
    {
     "name": "stderr",
     "output_type": "stream",
     "text": [
      "\r",
      "Epoch 1/20:   6%|▌         | 14/250 [00:12<02:48,  1.40batch/s, loss=1.61]"
     ]
    },
    {
     "name": "stderr",
     "output_type": "stream",
     "text": [
      "\r",
      "Epoch 1/20:   6%|▌         | 15/250 [00:12<02:48,  1.40batch/s, loss=1.61]"
     ]
    },
    {
     "name": "stderr",
     "output_type": "stream",
     "text": [
      "\r",
      "Epoch 1/20:   6%|▌         | 15/250 [00:13<02:48,  1.40batch/s, loss=1.33]"
     ]
    },
    {
     "name": "stderr",
     "output_type": "stream",
     "text": [
      "\r",
      "Epoch 1/20:   6%|▋         | 16/250 [00:13<02:46,  1.41batch/s, loss=1.33]"
     ]
    },
    {
     "name": "stderr",
     "output_type": "stream",
     "text": [
      "\r",
      "Epoch 1/20:   6%|▋         | 16/250 [00:14<02:46,  1.41batch/s, loss=1.62]"
     ]
    },
    {
     "name": "stderr",
     "output_type": "stream",
     "text": [
      "\r",
      "Epoch 1/20:   7%|▋         | 17/250 [00:14<02:47,  1.39batch/s, loss=1.62]"
     ]
    },
    {
     "name": "stderr",
     "output_type": "stream",
     "text": [
      "\r",
      "Epoch 1/20:   7%|▋         | 17/250 [00:14<02:47,  1.39batch/s, loss=1.4] "
     ]
    },
    {
     "name": "stderr",
     "output_type": "stream",
     "text": [
      "\r",
      "Epoch 1/20:   7%|▋         | 18/250 [00:14<02:47,  1.39batch/s, loss=1.4]"
     ]
    },
    {
     "name": "stderr",
     "output_type": "stream",
     "text": [
      "\r",
      "Epoch 1/20:   7%|▋         | 18/250 [00:15<02:47,  1.39batch/s, loss=1.19]"
     ]
    },
    {
     "name": "stderr",
     "output_type": "stream",
     "text": [
      "\r",
      "Epoch 1/20:   8%|▊         | 19/250 [00:15<02:45,  1.39batch/s, loss=1.19]"
     ]
    },
    {
     "name": "stderr",
     "output_type": "stream",
     "text": [
      "\r",
      "Epoch 1/20:   8%|▊         | 19/250 [00:16<02:45,  1.39batch/s, loss=1.3] "
     ]
    },
    {
     "name": "stderr",
     "output_type": "stream",
     "text": [
      "\r",
      "Epoch 1/20:   8%|▊         | 20/250 [00:16<02:44,  1.40batch/s, loss=1.3]"
     ]
    },
    {
     "name": "stderr",
     "output_type": "stream",
     "text": [
      "\r",
      "Epoch 1/20:   8%|▊         | 20/250 [00:16<02:44,  1.40batch/s, loss=1.03]"
     ]
    },
    {
     "name": "stderr",
     "output_type": "stream",
     "text": [
      "\r",
      "Epoch 1/20:   8%|▊         | 21/250 [00:16<02:40,  1.42batch/s, loss=1.03]"
     ]
    },
    {
     "name": "stderr",
     "output_type": "stream",
     "text": [
      "\r",
      "Epoch 1/20:   8%|▊         | 21/250 [00:17<02:40,  1.42batch/s, loss=1.05]"
     ]
    },
    {
     "name": "stderr",
     "output_type": "stream",
     "text": [
      "\r",
      "Epoch 1/20:   9%|▉         | 22/250 [00:17<02:41,  1.41batch/s, loss=1.05]"
     ]
    },
    {
     "name": "stderr",
     "output_type": "stream",
     "text": [
      "\r",
      "Epoch 1/20:   9%|▉         | 22/250 [00:18<02:41,  1.41batch/s, loss=0.932]"
     ]
    },
    {
     "name": "stderr",
     "output_type": "stream",
     "text": [
      "\r",
      "Epoch 1/20:   9%|▉         | 23/250 [00:18<02:41,  1.40batch/s, loss=0.932]"
     ]
    },
    {
     "name": "stderr",
     "output_type": "stream",
     "text": [
      "\r",
      "Epoch 1/20:   9%|▉         | 23/250 [00:19<02:41,  1.40batch/s, loss=0.776]"
     ]
    },
    {
     "name": "stderr",
     "output_type": "stream",
     "text": [
      "\r",
      "Epoch 1/20:  10%|▉         | 24/250 [00:19<02:41,  1.40batch/s, loss=0.776]"
     ]
    },
    {
     "name": "stderr",
     "output_type": "stream",
     "text": [
      "\r",
      "Epoch 1/20:  10%|▉         | 24/250 [00:19<02:41,  1.40batch/s, loss=0.83] "
     ]
    },
    {
     "name": "stderr",
     "output_type": "stream",
     "text": [
      "\r",
      "Epoch 1/20:  10%|█         | 25/250 [00:19<02:40,  1.40batch/s, loss=0.83]"
     ]
    },
    {
     "name": "stderr",
     "output_type": "stream",
     "text": [
      "\r",
      "Epoch 1/20:  10%|█         | 25/250 [00:20<02:40,  1.40batch/s, loss=0.913]"
     ]
    },
    {
     "name": "stderr",
     "output_type": "stream",
     "text": [
      "\r",
      "Epoch 1/20:  10%|█         | 26/250 [00:20<02:40,  1.40batch/s, loss=0.913]"
     ]
    },
    {
     "name": "stderr",
     "output_type": "stream",
     "text": [
      "\r",
      "Epoch 1/20:  10%|█         | 26/250 [00:21<02:40,  1.40batch/s, loss=0.754]"
     ]
    },
    {
     "name": "stderr",
     "output_type": "stream",
     "text": [
      "\r",
      "Epoch 1/20:  11%|█         | 27/250 [00:21<02:40,  1.39batch/s, loss=0.754]"
     ]
    },
    {
     "name": "stderr",
     "output_type": "stream",
     "text": [
      "\r",
      "Epoch 1/20:  11%|█         | 27/250 [00:21<02:40,  1.39batch/s, loss=0.829]"
     ]
    },
    {
     "name": "stderr",
     "output_type": "stream",
     "text": [
      "\r",
      "Epoch 1/20:  11%|█         | 28/250 [00:21<02:39,  1.39batch/s, loss=0.829]"
     ]
    },
    {
     "name": "stderr",
     "output_type": "stream",
     "text": [
      "\r",
      "Epoch 1/20:  11%|█         | 28/250 [00:22<02:39,  1.39batch/s, loss=0.726]"
     ]
    },
    {
     "name": "stderr",
     "output_type": "stream",
     "text": [
      "\r",
      "Epoch 1/20:  12%|█▏        | 29/250 [00:22<02:38,  1.39batch/s, loss=0.726]"
     ]
    },
    {
     "name": "stderr",
     "output_type": "stream",
     "text": [
      "\r",
      "Epoch 1/20:  12%|█▏        | 29/250 [00:23<02:38,  1.39batch/s, loss=0.565]"
     ]
    },
    {
     "name": "stderr",
     "output_type": "stream",
     "text": [
      "\r",
      "Epoch 1/20:  12%|█▏        | 30/250 [00:23<02:38,  1.39batch/s, loss=0.565]"
     ]
    },
    {
     "name": "stderr",
     "output_type": "stream",
     "text": [
      "\r",
      "Epoch 1/20:  12%|█▏        | 30/250 [00:24<02:38,  1.39batch/s, loss=0.662]"
     ]
    },
    {
     "name": "stderr",
     "output_type": "stream",
     "text": [
      "\r",
      "Epoch 1/20:  12%|█▏        | 31/250 [00:24<02:38,  1.38batch/s, loss=0.662]"
     ]
    },
    {
     "name": "stderr",
     "output_type": "stream",
     "text": [
      "\r",
      "Epoch 1/20:  12%|█▏        | 31/250 [00:24<02:38,  1.38batch/s, loss=0.521]"
     ]
    },
    {
     "name": "stderr",
     "output_type": "stream",
     "text": [
      "\r",
      "Epoch 1/20:  13%|█▎        | 32/250 [00:24<02:37,  1.39batch/s, loss=0.521]"
     ]
    },
    {
     "name": "stderr",
     "output_type": "stream",
     "text": [
      "\r",
      "Epoch 1/20:  13%|█▎        | 32/250 [00:25<02:37,  1.39batch/s, loss=0.585]"
     ]
    },
    {
     "name": "stderr",
     "output_type": "stream",
     "text": [
      "\r",
      "Epoch 1/20:  13%|█▎        | 33/250 [00:25<02:36,  1.38batch/s, loss=0.585]"
     ]
    },
    {
     "name": "stderr",
     "output_type": "stream",
     "text": [
      "\r",
      "Epoch 1/20:  13%|█▎        | 33/250 [00:26<02:36,  1.38batch/s, loss=0.535]"
     ]
    },
    {
     "name": "stderr",
     "output_type": "stream",
     "text": [
      "\r",
      "Epoch 1/20:  14%|█▎        | 34/250 [00:26<02:36,  1.38batch/s, loss=0.535]"
     ]
    },
    {
     "name": "stderr",
     "output_type": "stream",
     "text": [
      "\r",
      "Epoch 1/20:  14%|█▎        | 34/250 [00:27<02:36,  1.38batch/s, loss=0.619]"
     ]
    },
    {
     "name": "stderr",
     "output_type": "stream",
     "text": [
      "\r",
      "Epoch 1/20:  14%|█▍        | 35/250 [00:27<02:35,  1.38batch/s, loss=0.619]"
     ]
    },
    {
     "name": "stderr",
     "output_type": "stream",
     "text": [
      "\r",
      "Epoch 1/20:  14%|█▍        | 35/250 [00:27<02:35,  1.38batch/s, loss=0.651]"
     ]
    },
    {
     "name": "stderr",
     "output_type": "stream",
     "text": [
      "\r",
      "Epoch 1/20:  14%|█▍        | 36/250 [00:27<02:34,  1.38batch/s, loss=0.651]"
     ]
    },
    {
     "name": "stderr",
     "output_type": "stream",
     "text": [
      "\r",
      "Epoch 1/20:  14%|█▍        | 36/250 [00:28<02:34,  1.38batch/s, loss=0.41] "
     ]
    },
    {
     "name": "stderr",
     "output_type": "stream",
     "text": [
      "\r",
      "Epoch 1/20:  15%|█▍        | 37/250 [00:28<02:33,  1.39batch/s, loss=0.41]"
     ]
    },
    {
     "name": "stderr",
     "output_type": "stream",
     "text": [
      "\r",
      "Epoch 1/20:  15%|█▍        | 37/250 [00:29<02:33,  1.39batch/s, loss=0.569]"
     ]
    },
    {
     "name": "stderr",
     "output_type": "stream",
     "text": [
      "\r",
      "Epoch 1/20:  15%|█▌        | 38/250 [00:29<02:33,  1.38batch/s, loss=0.569]"
     ]
    },
    {
     "name": "stderr",
     "output_type": "stream",
     "text": [
      "\r",
      "Epoch 1/20:  15%|█▌        | 38/250 [00:29<02:33,  1.38batch/s, loss=0.484]"
     ]
    },
    {
     "name": "stderr",
     "output_type": "stream",
     "text": [
      "\r",
      "Epoch 1/20:  16%|█▌        | 39/250 [00:29<02:31,  1.40batch/s, loss=0.484]"
     ]
    },
    {
     "name": "stderr",
     "output_type": "stream",
     "text": [
      "\r",
      "Epoch 1/20:  16%|█▌        | 39/250 [00:30<02:31,  1.40batch/s, loss=0.535]"
     ]
    },
    {
     "name": "stderr",
     "output_type": "stream",
     "text": [
      "\r",
      "Epoch 1/20:  16%|█▌        | 40/250 [00:30<02:29,  1.41batch/s, loss=0.535]"
     ]
    },
    {
     "name": "stderr",
     "output_type": "stream",
     "text": [
      "\r",
      "Epoch 1/20:  16%|█▌        | 40/250 [00:31<02:29,  1.41batch/s, loss=0.398]"
     ]
    },
    {
     "name": "stderr",
     "output_type": "stream",
     "text": [
      "\r",
      "Epoch 1/20:  16%|█▋        | 41/250 [00:31<02:29,  1.40batch/s, loss=0.398]"
     ]
    },
    {
     "name": "stderr",
     "output_type": "stream",
     "text": [
      "\r",
      "Epoch 1/20:  16%|█▋        | 41/250 [00:32<02:29,  1.40batch/s, loss=0.413]"
     ]
    },
    {
     "name": "stderr",
     "output_type": "stream",
     "text": [
      "\r",
      "Epoch 1/20:  17%|█▋        | 42/250 [00:32<02:28,  1.40batch/s, loss=0.413]"
     ]
    },
    {
     "name": "stderr",
     "output_type": "stream",
     "text": [
      "\r",
      "Epoch 1/20:  17%|█▋        | 42/250 [00:32<02:28,  1.40batch/s, loss=0.429]"
     ]
    },
    {
     "name": "stderr",
     "output_type": "stream",
     "text": [
      "\r",
      "Epoch 1/20:  17%|█▋        | 43/250 [00:32<02:29,  1.38batch/s, loss=0.429]"
     ]
    },
    {
     "name": "stderr",
     "output_type": "stream",
     "text": [
      "\r",
      "Epoch 1/20:  17%|█▋        | 43/250 [00:33<02:29,  1.38batch/s, loss=0.404]"
     ]
    },
    {
     "name": "stderr",
     "output_type": "stream",
     "text": [
      "\r",
      "Epoch 1/20:  18%|█▊        | 44/250 [00:33<02:30,  1.37batch/s, loss=0.404]"
     ]
    },
    {
     "name": "stderr",
     "output_type": "stream",
     "text": [
      "\r",
      "Epoch 1/20:  18%|█▊        | 44/250 [00:34<02:30,  1.37batch/s, loss=0.361]"
     ]
    },
    {
     "name": "stderr",
     "output_type": "stream",
     "text": [
      "\r",
      "Epoch 1/20:  18%|█▊        | 45/250 [00:34<02:30,  1.36batch/s, loss=0.361]"
     ]
    },
    {
     "name": "stderr",
     "output_type": "stream",
     "text": [
      "\r",
      "Epoch 1/20:  18%|█▊        | 45/250 [00:35<02:30,  1.36batch/s, loss=0.613]"
     ]
    },
    {
     "name": "stderr",
     "output_type": "stream",
     "text": [
      "\r",
      "Epoch 1/20:  18%|█▊        | 46/250 [00:35<02:29,  1.36batch/s, loss=0.613]"
     ]
    },
    {
     "name": "stderr",
     "output_type": "stream",
     "text": [
      "\r",
      "Epoch 1/20:  18%|█▊        | 46/250 [00:35<02:29,  1.36batch/s, loss=0.428]"
     ]
    },
    {
     "name": "stderr",
     "output_type": "stream",
     "text": [
      "\r",
      "Epoch 1/20:  19%|█▉        | 47/250 [00:35<02:29,  1.36batch/s, loss=0.428]"
     ]
    },
    {
     "name": "stderr",
     "output_type": "stream",
     "text": [
      "\r",
      "Epoch 1/20:  19%|█▉        | 47/250 [00:36<02:29,  1.36batch/s, loss=0.329]"
     ]
    },
    {
     "name": "stderr",
     "output_type": "stream",
     "text": [
      "\r",
      "Epoch 1/20:  19%|█▉        | 48/250 [00:36<02:28,  1.36batch/s, loss=0.329]"
     ]
    },
    {
     "name": "stderr",
     "output_type": "stream",
     "text": [
      "\r",
      "Epoch 1/20:  19%|█▉        | 48/250 [00:37<02:28,  1.36batch/s, loss=0.304]"
     ]
    },
    {
     "name": "stderr",
     "output_type": "stream",
     "text": [
      "\r",
      "Epoch 1/20:  20%|█▉        | 49/250 [00:37<02:26,  1.37batch/s, loss=0.304]"
     ]
    },
    {
     "name": "stderr",
     "output_type": "stream",
     "text": [
      "\r",
      "Epoch 1/20:  20%|█▉        | 49/250 [00:37<02:26,  1.37batch/s, loss=0.326]"
     ]
    },
    {
     "name": "stderr",
     "output_type": "stream",
     "text": [
      "\r",
      "Epoch 1/20:  20%|██        | 50/250 [00:37<02:25,  1.37batch/s, loss=0.326]"
     ]
    },
    {
     "name": "stderr",
     "output_type": "stream",
     "text": [
      "\r",
      "Epoch 1/20:  20%|██        | 50/250 [00:38<02:25,  1.37batch/s, loss=0.312]"
     ]
    },
    {
     "name": "stderr",
     "output_type": "stream",
     "text": [
      "\r",
      "Epoch 1/20:  20%|██        | 51/250 [00:38<02:25,  1.37batch/s, loss=0.312]"
     ]
    },
    {
     "name": "stderr",
     "output_type": "stream",
     "text": [
      "\r",
      "Epoch 1/20:  20%|██        | 51/250 [00:39<02:25,  1.37batch/s, loss=0.486]"
     ]
    },
    {
     "name": "stderr",
     "output_type": "stream",
     "text": [
      "\r",
      "Epoch 1/20:  21%|██        | 52/250 [00:39<02:25,  1.36batch/s, loss=0.486]"
     ]
    },
    {
     "name": "stderr",
     "output_type": "stream",
     "text": [
      "\r",
      "Epoch 1/20:  21%|██        | 52/250 [00:40<02:25,  1.36batch/s, loss=0.267]"
     ]
    },
    {
     "name": "stderr",
     "output_type": "stream",
     "text": [
      "\r",
      "Epoch 1/20:  21%|██        | 53/250 [00:40<02:28,  1.32batch/s, loss=0.267]"
     ]
    },
    {
     "name": "stderr",
     "output_type": "stream",
     "text": [
      "\r",
      "Epoch 1/20:  21%|██        | 53/250 [00:40<02:28,  1.32batch/s, loss=0.364]"
     ]
    },
    {
     "name": "stderr",
     "output_type": "stream",
     "text": [
      "\r",
      "Epoch 1/20:  22%|██▏       | 54/250 [00:40<02:26,  1.34batch/s, loss=0.364]"
     ]
    },
    {
     "name": "stderr",
     "output_type": "stream",
     "text": [
      "\r",
      "Epoch 1/20:  22%|██▏       | 54/250 [00:41<02:26,  1.34batch/s, loss=0.304]"
     ]
    },
    {
     "name": "stderr",
     "output_type": "stream",
     "text": [
      "\r",
      "Epoch 1/20:  22%|██▏       | 55/250 [00:41<02:25,  1.34batch/s, loss=0.304]"
     ]
    },
    {
     "name": "stderr",
     "output_type": "stream",
     "text": [
      "\r",
      "Epoch 1/20:  22%|██▏       | 55/250 [00:42<02:25,  1.34batch/s, loss=0.329]"
     ]
    },
    {
     "name": "stderr",
     "output_type": "stream",
     "text": [
      "\r",
      "Epoch 1/20:  22%|██▏       | 56/250 [00:42<02:23,  1.35batch/s, loss=0.329]"
     ]
    },
    {
     "name": "stderr",
     "output_type": "stream",
     "text": [
      "\r",
      "Epoch 1/20:  22%|██▏       | 56/250 [00:43<02:23,  1.35batch/s, loss=0.267]"
     ]
    },
    {
     "name": "stderr",
     "output_type": "stream",
     "text": [
      "\r",
      "Epoch 1/20:  23%|██▎       | 57/250 [00:43<02:20,  1.38batch/s, loss=0.267]"
     ]
    },
    {
     "name": "stderr",
     "output_type": "stream",
     "text": [
      "\r",
      "Epoch 1/20:  23%|██▎       | 57/250 [00:43<02:20,  1.38batch/s, loss=0.261]"
     ]
    },
    {
     "name": "stderr",
     "output_type": "stream",
     "text": [
      "\r",
      "Epoch 1/20:  23%|██▎       | 58/250 [00:43<02:19,  1.38batch/s, loss=0.261]"
     ]
    },
    {
     "name": "stderr",
     "output_type": "stream",
     "text": [
      "\r",
      "Epoch 1/20:  23%|██▎       | 58/250 [00:44<02:19,  1.38batch/s, loss=0.27] "
     ]
    },
    {
     "name": "stderr",
     "output_type": "stream",
     "text": [
      "\r",
      "Epoch 1/20:  24%|██▎       | 59/250 [00:44<02:19,  1.37batch/s, loss=0.27]"
     ]
    },
    {
     "name": "stderr",
     "output_type": "stream",
     "text": [
      "\r",
      "Epoch 1/20:  24%|██▎       | 59/250 [00:45<02:19,  1.37batch/s, loss=0.261]"
     ]
    },
    {
     "name": "stderr",
     "output_type": "stream",
     "text": [
      "\r",
      "Epoch 1/20:  24%|██▍       | 60/250 [00:45<02:18,  1.37batch/s, loss=0.261]"
     ]
    },
    {
     "name": "stderr",
     "output_type": "stream",
     "text": [
      "\r",
      "Epoch 1/20:  24%|██▍       | 60/250 [00:46<02:18,  1.37batch/s, loss=0.219]"
     ]
    },
    {
     "name": "stderr",
     "output_type": "stream",
     "text": [
      "\r",
      "Epoch 1/20:  24%|██▍       | 61/250 [00:46<02:19,  1.36batch/s, loss=0.219]"
     ]
    },
    {
     "name": "stderr",
     "output_type": "stream",
     "text": [
      "\r",
      "Epoch 1/20:  24%|██▍       | 61/250 [00:46<02:19,  1.36batch/s, loss=0.268]"
     ]
    },
    {
     "name": "stderr",
     "output_type": "stream",
     "text": [
      "\r",
      "Epoch 1/20:  25%|██▍       | 62/250 [00:46<02:17,  1.37batch/s, loss=0.268]"
     ]
    },
    {
     "name": "stderr",
     "output_type": "stream",
     "text": [
      "\r",
      "Epoch 1/20:  25%|██▍       | 62/250 [00:47<02:17,  1.37batch/s, loss=0.249]"
     ]
    },
    {
     "name": "stderr",
     "output_type": "stream",
     "text": [
      "\r",
      "Epoch 1/20:  25%|██▌       | 63/250 [00:47<02:16,  1.37batch/s, loss=0.249]"
     ]
    },
    {
     "name": "stderr",
     "output_type": "stream",
     "text": [
      "\r",
      "Epoch 1/20:  25%|██▌       | 63/250 [00:48<02:16,  1.37batch/s, loss=0.253]"
     ]
    },
    {
     "name": "stderr",
     "output_type": "stream",
     "text": [
      "\r",
      "Epoch 1/20:  26%|██▌       | 64/250 [00:48<02:15,  1.37batch/s, loss=0.253]"
     ]
    },
    {
     "name": "stderr",
     "output_type": "stream",
     "text": [
      "\r",
      "Epoch 1/20:  26%|██▌       | 64/250 [00:48<02:15,  1.37batch/s, loss=0.28] "
     ]
    },
    {
     "name": "stderr",
     "output_type": "stream",
     "text": [
      "\r",
      "Epoch 1/20:  26%|██▌       | 65/250 [00:48<02:15,  1.36batch/s, loss=0.28]"
     ]
    },
    {
     "name": "stderr",
     "output_type": "stream",
     "text": [
      "\r",
      "Epoch 1/20:  26%|██▌       | 65/250 [00:49<02:15,  1.36batch/s, loss=0.247]"
     ]
    },
    {
     "name": "stderr",
     "output_type": "stream",
     "text": [
      "\r",
      "Epoch 1/20:  26%|██▋       | 66/250 [00:49<02:15,  1.36batch/s, loss=0.247]"
     ]
    },
    {
     "name": "stderr",
     "output_type": "stream",
     "text": [
      "\r",
      "Epoch 1/20:  26%|██▋       | 66/250 [00:50<02:15,  1.36batch/s, loss=0.294]"
     ]
    },
    {
     "name": "stderr",
     "output_type": "stream",
     "text": [
      "\r",
      "Epoch 1/20:  27%|██▋       | 67/250 [00:50<02:14,  1.36batch/s, loss=0.294]"
     ]
    },
    {
     "name": "stderr",
     "output_type": "stream",
     "text": [
      "\r",
      "Epoch 1/20:  27%|██▋       | 67/250 [00:51<02:14,  1.36batch/s, loss=0.254]"
     ]
    },
    {
     "name": "stderr",
     "output_type": "stream",
     "text": [
      "\r",
      "Epoch 1/20:  27%|██▋       | 68/250 [00:51<02:14,  1.36batch/s, loss=0.254]"
     ]
    },
    {
     "name": "stderr",
     "output_type": "stream",
     "text": [
      "\r",
      "Epoch 1/20:  27%|██▋       | 68/250 [00:51<02:14,  1.36batch/s, loss=0.232]"
     ]
    },
    {
     "name": "stderr",
     "output_type": "stream",
     "text": [
      "\r",
      "Epoch 1/20:  28%|██▊       | 69/250 [00:51<02:14,  1.35batch/s, loss=0.232]"
     ]
    },
    {
     "name": "stderr",
     "output_type": "stream",
     "text": [
      "\r",
      "Epoch 1/20:  28%|██▊       | 69/250 [00:52<02:14,  1.35batch/s, loss=0.258]"
     ]
    },
    {
     "name": "stderr",
     "output_type": "stream",
     "text": [
      "\r",
      "Epoch 1/20:  28%|██▊       | 70/250 [00:52<02:14,  1.34batch/s, loss=0.258]"
     ]
    },
    {
     "name": "stderr",
     "output_type": "stream",
     "text": [
      "\r",
      "Epoch 1/20:  28%|██▊       | 70/250 [00:53<02:14,  1.34batch/s, loss=0.283]"
     ]
    },
    {
     "name": "stderr",
     "output_type": "stream",
     "text": [
      "\r",
      "Epoch 1/20:  28%|██▊       | 71/250 [00:53<02:13,  1.34batch/s, loss=0.283]"
     ]
    },
    {
     "name": "stderr",
     "output_type": "stream",
     "text": [
      "\r",
      "Epoch 1/20:  28%|██▊       | 71/250 [00:54<02:13,  1.34batch/s, loss=0.181]"
     ]
    },
    {
     "name": "stderr",
     "output_type": "stream",
     "text": [
      "\r",
      "Epoch 1/20:  29%|██▉       | 72/250 [00:54<02:11,  1.35batch/s, loss=0.181]"
     ]
    },
    {
     "name": "stderr",
     "output_type": "stream",
     "text": [
      "\r",
      "Epoch 1/20:  29%|██▉       | 72/250 [00:54<02:11,  1.35batch/s, loss=0.204]"
     ]
    },
    {
     "name": "stderr",
     "output_type": "stream",
     "text": [
      "\r",
      "Epoch 1/20:  29%|██▉       | 73/250 [00:54<02:11,  1.35batch/s, loss=0.204]"
     ]
    },
    {
     "name": "stderr",
     "output_type": "stream",
     "text": [
      "\r",
      "Epoch 1/20:  29%|██▉       | 73/250 [00:55<02:11,  1.35batch/s, loss=0.232]"
     ]
    },
    {
     "name": "stderr",
     "output_type": "stream",
     "text": [
      "\r",
      "Epoch 1/20:  30%|██▉       | 74/250 [00:55<02:11,  1.34batch/s, loss=0.232]"
     ]
    },
    {
     "name": "stderr",
     "output_type": "stream",
     "text": [
      "\r",
      "Epoch 1/20:  30%|██▉       | 74/250 [00:56<02:11,  1.34batch/s, loss=0.216]"
     ]
    },
    {
     "name": "stderr",
     "output_type": "stream",
     "text": [
      "\r",
      "Epoch 1/20:  30%|███       | 75/250 [00:56<02:10,  1.34batch/s, loss=0.216]"
     ]
    },
    {
     "name": "stderr",
     "output_type": "stream",
     "text": [
      "\r",
      "Epoch 1/20:  30%|███       | 75/250 [00:57<02:10,  1.34batch/s, loss=0.328]"
     ]
    },
    {
     "name": "stderr",
     "output_type": "stream",
     "text": [
      "\r",
      "Epoch 1/20:  30%|███       | 76/250 [00:57<02:08,  1.35batch/s, loss=0.328]"
     ]
    },
    {
     "name": "stderr",
     "output_type": "stream",
     "text": [
      "\r",
      "Epoch 1/20:  30%|███       | 76/250 [00:57<02:08,  1.35batch/s, loss=0.203]"
     ]
    },
    {
     "name": "stderr",
     "output_type": "stream",
     "text": [
      "\r",
      "Epoch 1/20:  31%|███       | 77/250 [00:57<02:07,  1.35batch/s, loss=0.203]"
     ]
    },
    {
     "name": "stderr",
     "output_type": "stream",
     "text": [
      "\r",
      "Epoch 1/20:  31%|███       | 77/250 [00:58<02:07,  1.35batch/s, loss=0.207]"
     ]
    },
    {
     "name": "stderr",
     "output_type": "stream",
     "text": [
      "\r",
      "Epoch 1/20:  31%|███       | 78/250 [00:58<02:07,  1.35batch/s, loss=0.207]"
     ]
    },
    {
     "name": "stderr",
     "output_type": "stream",
     "text": [
      "\r",
      "Epoch 1/20:  31%|███       | 78/250 [00:59<02:07,  1.35batch/s, loss=0.245]"
     ]
    },
    {
     "name": "stderr",
     "output_type": "stream",
     "text": [
      "\r",
      "Epoch 1/20:  32%|███▏      | 79/250 [00:59<02:06,  1.36batch/s, loss=0.245]"
     ]
    },
    {
     "name": "stderr",
     "output_type": "stream",
     "text": [
      "\r",
      "Epoch 1/20:  32%|███▏      | 79/250 [01:00<02:06,  1.36batch/s, loss=0.19] "
     ]
    },
    {
     "name": "stderr",
     "output_type": "stream",
     "text": [
      "\r",
      "Epoch 1/20:  32%|███▏      | 80/250 [01:00<02:05,  1.36batch/s, loss=0.19]"
     ]
    },
    {
     "name": "stderr",
     "output_type": "stream",
     "text": [
      "\r",
      "Epoch 1/20:  32%|███▏      | 80/250 [01:00<02:05,  1.36batch/s, loss=0.234]"
     ]
    },
    {
     "name": "stderr",
     "output_type": "stream",
     "text": [
      "\r",
      "Epoch 1/20:  32%|███▏      | 81/250 [01:00<02:02,  1.38batch/s, loss=0.234]"
     ]
    },
    {
     "name": "stderr",
     "output_type": "stream",
     "text": [
      "\r",
      "Epoch 1/20:  32%|███▏      | 81/250 [01:01<02:02,  1.38batch/s, loss=0.193]"
     ]
    },
    {
     "name": "stderr",
     "output_type": "stream",
     "text": [
      "\r",
      "Epoch 1/20:  33%|███▎      | 82/250 [01:01<02:03,  1.36batch/s, loss=0.193]"
     ]
    },
    {
     "name": "stderr",
     "output_type": "stream",
     "text": [
      "\r",
      "Epoch 1/20:  33%|███▎      | 82/250 [01:02<02:03,  1.36batch/s, loss=0.126]"
     ]
    },
    {
     "name": "stderr",
     "output_type": "stream",
     "text": [
      "\r",
      "Epoch 1/20:  33%|███▎      | 83/250 [01:02<02:04,  1.35batch/s, loss=0.126]"
     ]
    },
    {
     "name": "stderr",
     "output_type": "stream",
     "text": [
      "\r",
      "Epoch 1/20:  33%|███▎      | 83/250 [01:03<02:04,  1.35batch/s, loss=0.211]"
     ]
    },
    {
     "name": "stderr",
     "output_type": "stream",
     "text": [
      "\r",
      "Epoch 1/20:  34%|███▎      | 84/250 [01:03<02:04,  1.33batch/s, loss=0.211]"
     ]
    },
    {
     "name": "stderr",
     "output_type": "stream",
     "text": [
      "\r",
      "Epoch 1/20:  34%|███▎      | 84/250 [01:03<02:04,  1.33batch/s, loss=0.234]"
     ]
    },
    {
     "name": "stderr",
     "output_type": "stream",
     "text": [
      "\r",
      "Epoch 1/20:  34%|███▍      | 85/250 [01:03<02:03,  1.33batch/s, loss=0.234]"
     ]
    },
    {
     "name": "stderr",
     "output_type": "stream",
     "text": [
      "\r",
      "Epoch 1/20:  34%|███▍      | 85/250 [01:04<02:03,  1.33batch/s, loss=0.147]"
     ]
    },
    {
     "name": "stderr",
     "output_type": "stream",
     "text": [
      "\r",
      "Epoch 1/20:  34%|███▍      | 86/250 [01:04<02:03,  1.33batch/s, loss=0.147]"
     ]
    },
    {
     "name": "stderr",
     "output_type": "stream",
     "text": [
      "\r",
      "Epoch 1/20:  34%|███▍      | 86/250 [01:05<02:03,  1.33batch/s, loss=0.176]"
     ]
    },
    {
     "name": "stderr",
     "output_type": "stream",
     "text": [
      "\r",
      "Epoch 1/20:  35%|███▍      | 87/250 [01:05<02:02,  1.33batch/s, loss=0.176]"
     ]
    },
    {
     "name": "stderr",
     "output_type": "stream",
     "text": [
      "\r",
      "Epoch 1/20:  35%|███▍      | 87/250 [01:06<02:02,  1.33batch/s, loss=0.208]"
     ]
    },
    {
     "name": "stderr",
     "output_type": "stream",
     "text": [
      "\r",
      "Epoch 1/20:  35%|███▌      | 88/250 [01:06<02:01,  1.34batch/s, loss=0.208]"
     ]
    },
    {
     "name": "stderr",
     "output_type": "stream",
     "text": [
      "\r",
      "Epoch 1/20:  35%|███▌      | 88/250 [01:06<02:01,  1.34batch/s, loss=0.171]"
     ]
    },
    {
     "name": "stderr",
     "output_type": "stream",
     "text": [
      "\r",
      "Epoch 1/20:  36%|███▌      | 89/250 [01:06<02:00,  1.34batch/s, loss=0.171]"
     ]
    },
    {
     "name": "stderr",
     "output_type": "stream",
     "text": [
      "\r",
      "Epoch 1/20:  36%|███▌      | 89/250 [01:07<02:00,  1.34batch/s, loss=0.148]"
     ]
    },
    {
     "name": "stderr",
     "output_type": "stream",
     "text": [
      "\r",
      "Epoch 1/20:  36%|███▌      | 90/250 [01:07<02:00,  1.33batch/s, loss=0.148]"
     ]
    },
    {
     "name": "stderr",
     "output_type": "stream",
     "text": [
      "\r",
      "Epoch 1/20:  36%|███▌      | 90/250 [01:08<02:00,  1.33batch/s, loss=0.209]"
     ]
    },
    {
     "name": "stderr",
     "output_type": "stream",
     "text": [
      "\r",
      "Epoch 1/20:  36%|███▋      | 91/250 [01:08<01:59,  1.33batch/s, loss=0.209]"
     ]
    },
    {
     "name": "stderr",
     "output_type": "stream",
     "text": [
      "\r",
      "Epoch 1/20:  36%|███▋      | 91/250 [01:09<01:59,  1.33batch/s, loss=0.163]"
     ]
    },
    {
     "name": "stderr",
     "output_type": "stream",
     "text": [
      "\r",
      "Epoch 1/20:  37%|███▋      | 92/250 [01:09<01:58,  1.34batch/s, loss=0.163]"
     ]
    },
    {
     "name": "stderr",
     "output_type": "stream",
     "text": [
      "\r",
      "Epoch 1/20:  37%|███▋      | 92/250 [01:09<01:58,  1.34batch/s, loss=0.133]"
     ]
    },
    {
     "name": "stderr",
     "output_type": "stream",
     "text": [
      "\r",
      "Epoch 1/20:  37%|███▋      | 93/250 [01:09<01:58,  1.33batch/s, loss=0.133]"
     ]
    },
    {
     "name": "stderr",
     "output_type": "stream",
     "text": [
      "\r",
      "Epoch 1/20:  37%|███▋      | 93/250 [01:10<01:58,  1.33batch/s, loss=0.246]"
     ]
    },
    {
     "name": "stderr",
     "output_type": "stream",
     "text": [
      "\r",
      "Epoch 1/20:  38%|███▊      | 94/250 [01:10<01:57,  1.33batch/s, loss=0.246]"
     ]
    },
    {
     "name": "stderr",
     "output_type": "stream",
     "text": [
      "\r",
      "Epoch 1/20:  38%|███▊      | 94/250 [01:11<01:57,  1.33batch/s, loss=0.178]"
     ]
    },
    {
     "name": "stderr",
     "output_type": "stream",
     "text": [
      "\r",
      "Epoch 1/20:  38%|███▊      | 95/250 [01:11<01:56,  1.33batch/s, loss=0.178]"
     ]
    },
    {
     "name": "stderr",
     "output_type": "stream",
     "text": [
      "\r",
      "Epoch 1/20:  38%|███▊      | 95/250 [01:12<01:56,  1.33batch/s, loss=0.153]"
     ]
    },
    {
     "name": "stderr",
     "output_type": "stream",
     "text": [
      "\r",
      "Epoch 1/20:  38%|███▊      | 96/250 [01:12<01:55,  1.33batch/s, loss=0.153]"
     ]
    },
    {
     "name": "stderr",
     "output_type": "stream",
     "text": [
      "\r",
      "Epoch 1/20:  38%|███▊      | 96/250 [01:12<01:55,  1.33batch/s, loss=0.173]"
     ]
    },
    {
     "name": "stderr",
     "output_type": "stream",
     "text": [
      "\r",
      "Epoch 1/20:  39%|███▉      | 97/250 [01:12<01:55,  1.33batch/s, loss=0.173]"
     ]
    },
    {
     "name": "stderr",
     "output_type": "stream",
     "text": [
      "\r",
      "Epoch 1/20:  39%|███▉      | 97/250 [01:13<01:55,  1.33batch/s, loss=0.134]"
     ]
    },
    {
     "name": "stderr",
     "output_type": "stream",
     "text": [
      "\r",
      "Epoch 1/20:  39%|███▉      | 98/250 [01:13<01:54,  1.33batch/s, loss=0.134]"
     ]
    },
    {
     "name": "stderr",
     "output_type": "stream",
     "text": [
      "\r",
      "Epoch 1/20:  39%|███▉      | 98/250 [01:14<01:54,  1.33batch/s, loss=0.197]"
     ]
    },
    {
     "name": "stderr",
     "output_type": "stream",
     "text": [
      "\r",
      "Epoch 1/20:  40%|███▉      | 99/250 [01:14<01:52,  1.34batch/s, loss=0.197]"
     ]
    },
    {
     "name": "stderr",
     "output_type": "stream",
     "text": [
      "\r",
      "Epoch 1/20:  40%|███▉      | 99/250 [01:15<01:52,  1.34batch/s, loss=0.18] "
     ]
    },
    {
     "name": "stderr",
     "output_type": "stream",
     "text": [
      "\r",
      "Epoch 1/20:  40%|████      | 100/250 [01:15<01:52,  1.33batch/s, loss=0.18]"
     ]
    },
    {
     "name": "stderr",
     "output_type": "stream",
     "text": [
      "\r",
      "Epoch 1/20:  40%|████      | 100/250 [01:15<01:52,  1.33batch/s, loss=0.146]"
     ]
    },
    {
     "name": "stderr",
     "output_type": "stream",
     "text": [
      "\r",
      "Epoch 1/20:  40%|████      | 101/250 [01:15<01:51,  1.33batch/s, loss=0.146]"
     ]
    },
    {
     "name": "stderr",
     "output_type": "stream",
     "text": [
      "\r",
      "Epoch 1/20:  40%|████      | 101/250 [01:16<01:51,  1.33batch/s, loss=0.161]"
     ]
    },
    {
     "name": "stderr",
     "output_type": "stream",
     "text": [
      "\r",
      "Epoch 1/20:  41%|████      | 102/250 [01:16<01:50,  1.33batch/s, loss=0.161]"
     ]
    },
    {
     "name": "stderr",
     "output_type": "stream",
     "text": [
      "\r",
      "Epoch 1/20:  41%|████      | 102/250 [01:17<01:50,  1.33batch/s, loss=0.164]"
     ]
    },
    {
     "name": "stderr",
     "output_type": "stream",
     "text": [
      "\r",
      "Epoch 1/20:  41%|████      | 103/250 [01:17<01:51,  1.32batch/s, loss=0.164]"
     ]
    },
    {
     "name": "stderr",
     "output_type": "stream",
     "text": [
      "\r",
      "Epoch 1/20:  41%|████      | 103/250 [01:18<01:51,  1.32batch/s, loss=0.208]"
     ]
    },
    {
     "name": "stderr",
     "output_type": "stream",
     "text": [
      "\r",
      "Epoch 1/20:  42%|████▏     | 104/250 [01:18<01:50,  1.32batch/s, loss=0.208]"
     ]
    },
    {
     "name": "stderr",
     "output_type": "stream",
     "text": [
      "\r",
      "Epoch 1/20:  42%|████▏     | 104/250 [01:18<01:50,  1.32batch/s, loss=0.147]"
     ]
    },
    {
     "name": "stderr",
     "output_type": "stream",
     "text": [
      "\r",
      "Epoch 1/20:  42%|████▏     | 105/250 [01:18<01:49,  1.33batch/s, loss=0.147]"
     ]
    },
    {
     "name": "stderr",
     "output_type": "stream",
     "text": [
      "\r",
      "Epoch 1/20:  42%|████▏     | 105/250 [01:19<01:49,  1.33batch/s, loss=0.147]"
     ]
    },
    {
     "name": "stderr",
     "output_type": "stream",
     "text": [
      "\r",
      "Epoch 1/20:  42%|████▏     | 106/250 [01:19<01:48,  1.33batch/s, loss=0.147]"
     ]
    },
    {
     "name": "stderr",
     "output_type": "stream",
     "text": [
      "\r",
      "Epoch 1/20:  42%|████▏     | 106/250 [01:20<01:48,  1.33batch/s, loss=0.201]"
     ]
    },
    {
     "name": "stderr",
     "output_type": "stream",
     "text": [
      "\r",
      "Epoch 1/20:  43%|████▎     | 107/250 [01:20<01:48,  1.32batch/s, loss=0.201]"
     ]
    },
    {
     "name": "stderr",
     "output_type": "stream",
     "text": [
      "\r",
      "Epoch 1/20:  43%|████▎     | 107/250 [01:21<01:48,  1.32batch/s, loss=0.153]"
     ]
    },
    {
     "name": "stderr",
     "output_type": "stream",
     "text": [
      "\r",
      "Epoch 1/20:  43%|████▎     | 108/250 [01:21<01:46,  1.33batch/s, loss=0.153]"
     ]
    },
    {
     "name": "stderr",
     "output_type": "stream",
     "text": [
      "\r",
      "Epoch 1/20:  43%|████▎     | 108/250 [01:21<01:46,  1.33batch/s, loss=0.12] "
     ]
    },
    {
     "name": "stderr",
     "output_type": "stream",
     "text": [
      "\r",
      "Epoch 1/20:  44%|████▎     | 109/250 [01:21<01:45,  1.33batch/s, loss=0.12]"
     ]
    },
    {
     "name": "stderr",
     "output_type": "stream",
     "text": [
      "\r",
      "Epoch 1/20:  44%|████▎     | 109/250 [01:22<01:45,  1.33batch/s, loss=0.131]"
     ]
    },
    {
     "name": "stderr",
     "output_type": "stream",
     "text": [
      "\r",
      "Epoch 1/20:  44%|████▍     | 110/250 [01:22<01:45,  1.32batch/s, loss=0.131]"
     ]
    },
    {
     "name": "stderr",
     "output_type": "stream",
     "text": [
      "\r",
      "Epoch 1/20:  44%|████▍     | 110/250 [01:23<01:45,  1.32batch/s, loss=0.124]"
     ]
    },
    {
     "name": "stderr",
     "output_type": "stream",
     "text": [
      "\r",
      "Epoch 1/20:  44%|████▍     | 111/250 [01:23<01:45,  1.32batch/s, loss=0.124]"
     ]
    },
    {
     "name": "stderr",
     "output_type": "stream",
     "text": [
      "\r",
      "Epoch 1/20:  44%|████▍     | 111/250 [01:24<01:45,  1.32batch/s, loss=0.146]"
     ]
    },
    {
     "name": "stderr",
     "output_type": "stream",
     "text": [
      "\r",
      "Epoch 1/20:  45%|████▍     | 112/250 [01:24<01:43,  1.33batch/s, loss=0.146]"
     ]
    },
    {
     "name": "stderr",
     "output_type": "stream",
     "text": [
      "\r",
      "Epoch 1/20:  45%|████▍     | 112/250 [01:24<01:43,  1.33batch/s, loss=0.16] "
     ]
    },
    {
     "name": "stderr",
     "output_type": "stream",
     "text": [
      "\r",
      "Epoch 1/20:  45%|████▌     | 113/250 [01:24<01:42,  1.34batch/s, loss=0.16]"
     ]
    },
    {
     "name": "stderr",
     "output_type": "stream",
     "text": [
      "\r",
      "Epoch 1/20:  45%|████▌     | 113/250 [01:25<01:42,  1.34batch/s, loss=0.14]"
     ]
    },
    {
     "name": "stderr",
     "output_type": "stream",
     "text": [
      "\r",
      "Epoch 1/20:  46%|████▌     | 114/250 [01:25<01:41,  1.33batch/s, loss=0.14]"
     ]
    },
    {
     "name": "stderr",
     "output_type": "stream",
     "text": [
      "\r",
      "Epoch 1/20:  46%|████▌     | 114/250 [01:26<01:41,  1.33batch/s, loss=0.195]"
     ]
    },
    {
     "name": "stderr",
     "output_type": "stream",
     "text": [
      "\r",
      "Epoch 1/20:  46%|████▌     | 115/250 [01:26<01:41,  1.33batch/s, loss=0.195]"
     ]
    },
    {
     "name": "stderr",
     "output_type": "stream",
     "text": [
      "\r",
      "Epoch 1/20:  46%|████▌     | 115/250 [01:27<01:41,  1.33batch/s, loss=0.192]"
     ]
    },
    {
     "name": "stderr",
     "output_type": "stream",
     "text": [
      "\r",
      "Epoch 1/20:  46%|████▋     | 116/250 [01:27<01:40,  1.33batch/s, loss=0.192]"
     ]
    },
    {
     "name": "stderr",
     "output_type": "stream",
     "text": [
      "\r",
      "Epoch 1/20:  46%|████▋     | 116/250 [01:27<01:40,  1.33batch/s, loss=0.144]"
     ]
    },
    {
     "name": "stderr",
     "output_type": "stream",
     "text": [
      "\r",
      "Epoch 1/20:  47%|████▋     | 117/250 [01:27<01:39,  1.33batch/s, loss=0.144]"
     ]
    },
    {
     "name": "stderr",
     "output_type": "stream",
     "text": [
      "\r",
      "Epoch 1/20:  47%|████▋     | 117/250 [01:28<01:39,  1.33batch/s, loss=0.151]"
     ]
    },
    {
     "name": "stderr",
     "output_type": "stream",
     "text": [
      "\r",
      "Epoch 1/20:  47%|████▋     | 118/250 [01:28<01:40,  1.32batch/s, loss=0.151]"
     ]
    },
    {
     "name": "stderr",
     "output_type": "stream",
     "text": [
      "\r",
      "Epoch 1/20:  47%|████▋     | 118/250 [01:29<01:40,  1.32batch/s, loss=0.104]"
     ]
    },
    {
     "name": "stderr",
     "output_type": "stream",
     "text": [
      "\r",
      "Epoch 1/20:  48%|████▊     | 119/250 [01:29<01:39,  1.32batch/s, loss=0.104]"
     ]
    },
    {
     "name": "stderr",
     "output_type": "stream",
     "text": [
      "\r",
      "Epoch 1/20:  48%|████▊     | 119/250 [01:30<01:39,  1.32batch/s, loss=0.179]"
     ]
    },
    {
     "name": "stderr",
     "output_type": "stream",
     "text": [
      "\r",
      "Epoch 1/20:  48%|████▊     | 120/250 [01:30<01:38,  1.32batch/s, loss=0.179]"
     ]
    },
    {
     "name": "stderr",
     "output_type": "stream",
     "text": [
      "\r",
      "Epoch 1/20:  48%|████▊     | 120/250 [01:30<01:38,  1.32batch/s, loss=0.123]"
     ]
    },
    {
     "name": "stderr",
     "output_type": "stream",
     "text": [
      "\r",
      "Epoch 1/20:  48%|████▊     | 121/250 [01:30<01:38,  1.31batch/s, loss=0.123]"
     ]
    },
    {
     "name": "stderr",
     "output_type": "stream",
     "text": [
      "\r",
      "Epoch 1/20:  48%|████▊     | 121/250 [01:31<01:38,  1.31batch/s, loss=0.158]"
     ]
    },
    {
     "name": "stderr",
     "output_type": "stream",
     "text": [
      "\r",
      "Epoch 1/20:  49%|████▉     | 122/250 [01:31<01:37,  1.31batch/s, loss=0.158]"
     ]
    },
    {
     "name": "stderr",
     "output_type": "stream",
     "text": [
      "\r",
      "Epoch 1/20:  49%|████▉     | 122/250 [01:32<01:37,  1.31batch/s, loss=0.113]"
     ]
    },
    {
     "name": "stderr",
     "output_type": "stream",
     "text": [
      "\r",
      "Epoch 1/20:  49%|████▉     | 123/250 [01:32<01:35,  1.32batch/s, loss=0.113]"
     ]
    },
    {
     "name": "stderr",
     "output_type": "stream",
     "text": [
      "\r",
      "Epoch 1/20:  49%|████▉     | 123/250 [01:33<01:35,  1.32batch/s, loss=0.128]"
     ]
    },
    {
     "name": "stderr",
     "output_type": "stream",
     "text": [
      "\r",
      "Epoch 1/20:  50%|████▉     | 124/250 [01:33<01:36,  1.31batch/s, loss=0.128]"
     ]
    },
    {
     "name": "stderr",
     "output_type": "stream",
     "text": [
      "\r",
      "Epoch 1/20:  50%|████▉     | 124/250 [01:33<01:36,  1.31batch/s, loss=0.157]"
     ]
    },
    {
     "name": "stderr",
     "output_type": "stream",
     "text": [
      "\r",
      "Epoch 1/20:  50%|█████     | 125/250 [01:33<01:35,  1.31batch/s, loss=0.157]"
     ]
    },
    {
     "name": "stderr",
     "output_type": "stream",
     "text": [
      "\r",
      "Epoch 1/20:  50%|█████     | 125/250 [01:34<01:35,  1.31batch/s, loss=0.125]"
     ]
    },
    {
     "name": "stderr",
     "output_type": "stream",
     "text": [
      "\r",
      "Epoch 1/20:  50%|█████     | 126/250 [01:34<01:34,  1.31batch/s, loss=0.125]"
     ]
    },
    {
     "name": "stderr",
     "output_type": "stream",
     "text": [
      "\r",
      "Epoch 1/20:  50%|█████     | 126/250 [01:35<01:34,  1.31batch/s, loss=0.151]"
     ]
    },
    {
     "name": "stderr",
     "output_type": "stream",
     "text": [
      "\r",
      "Epoch 1/20:  51%|█████     | 127/250 [01:35<01:33,  1.32batch/s, loss=0.151]"
     ]
    },
    {
     "name": "stderr",
     "output_type": "stream",
     "text": [
      "\r",
      "Epoch 1/20:  51%|█████     | 127/250 [01:36<01:33,  1.32batch/s, loss=0.147]"
     ]
    },
    {
     "name": "stderr",
     "output_type": "stream",
     "text": [
      "\r",
      "Epoch 1/20:  51%|█████     | 128/250 [01:36<01:32,  1.31batch/s, loss=0.147]"
     ]
    },
    {
     "name": "stderr",
     "output_type": "stream",
     "text": [
      "\r",
      "Epoch 1/20:  51%|█████     | 128/250 [01:37<01:32,  1.31batch/s, loss=0.129]"
     ]
    },
    {
     "name": "stderr",
     "output_type": "stream",
     "text": [
      "\r",
      "Epoch 1/20:  52%|█████▏    | 129/250 [01:37<01:32,  1.31batch/s, loss=0.129]"
     ]
    },
    {
     "name": "stderr",
     "output_type": "stream",
     "text": [
      "\r",
      "Epoch 1/20:  52%|█████▏    | 129/250 [01:37<01:32,  1.31batch/s, loss=0.134]"
     ]
    },
    {
     "name": "stderr",
     "output_type": "stream",
     "text": [
      "\r",
      "Epoch 1/20:  52%|█████▏    | 130/250 [01:37<01:32,  1.30batch/s, loss=0.134]"
     ]
    },
    {
     "name": "stderr",
     "output_type": "stream",
     "text": [
      "\r",
      "Epoch 1/20:  52%|█████▏    | 130/250 [01:38<01:32,  1.30batch/s, loss=0.132]"
     ]
    },
    {
     "name": "stderr",
     "output_type": "stream",
     "text": [
      "\r",
      "Epoch 1/20:  52%|█████▏    | 131/250 [01:38<01:30,  1.31batch/s, loss=0.132]"
     ]
    },
    {
     "name": "stderr",
     "output_type": "stream",
     "text": [
      "\r",
      "Epoch 1/20:  52%|█████▏    | 131/250 [01:39<01:30,  1.31batch/s, loss=0.176]"
     ]
    },
    {
     "name": "stderr",
     "output_type": "stream",
     "text": [
      "\r",
      "Epoch 1/20:  53%|█████▎    | 132/250 [01:39<01:30,  1.31batch/s, loss=0.176]"
     ]
    },
    {
     "name": "stderr",
     "output_type": "stream",
     "text": [
      "\r",
      "Epoch 1/20:  53%|█████▎    | 132/250 [01:40<01:30,  1.31batch/s, loss=0.153]"
     ]
    },
    {
     "name": "stderr",
     "output_type": "stream",
     "text": [
      "\r",
      "Epoch 1/20:  53%|█████▎    | 133/250 [01:40<01:29,  1.31batch/s, loss=0.153]"
     ]
    },
    {
     "name": "stderr",
     "output_type": "stream",
     "text": [
      "\r",
      "Epoch 1/20:  53%|█████▎    | 133/250 [01:40<01:29,  1.31batch/s, loss=0.145]"
     ]
    },
    {
     "name": "stderr",
     "output_type": "stream",
     "text": [
      "\r",
      "Epoch 1/20:  54%|█████▎    | 134/250 [01:40<01:29,  1.30batch/s, loss=0.145]"
     ]
    },
    {
     "name": "stderr",
     "output_type": "stream",
     "text": [
      "\r",
      "Epoch 1/20:  54%|█████▎    | 134/250 [01:41<01:29,  1.30batch/s, loss=0.119]"
     ]
    },
    {
     "name": "stderr",
     "output_type": "stream",
     "text": [
      "\r",
      "Epoch 1/20:  54%|█████▍    | 135/250 [01:41<01:28,  1.30batch/s, loss=0.119]"
     ]
    },
    {
     "name": "stderr",
     "output_type": "stream",
     "text": [
      "\r",
      "Epoch 1/20:  54%|█████▍    | 135/250 [01:42<01:28,  1.30batch/s, loss=0.135]"
     ]
    },
    {
     "name": "stderr",
     "output_type": "stream",
     "text": [
      "\r",
      "Epoch 1/20:  54%|█████▍    | 136/250 [01:42<01:27,  1.30batch/s, loss=0.135]"
     ]
    },
    {
     "name": "stderr",
     "output_type": "stream",
     "text": [
      "\r",
      "Epoch 1/20:  54%|█████▍    | 136/250 [01:43<01:27,  1.30batch/s, loss=0.135]"
     ]
    },
    {
     "name": "stderr",
     "output_type": "stream",
     "text": [
      "\r",
      "Epoch 1/20:  55%|█████▍    | 137/250 [01:43<01:26,  1.30batch/s, loss=0.135]"
     ]
    },
    {
     "name": "stderr",
     "output_type": "stream",
     "text": [
      "\r",
      "Epoch 1/20:  55%|█████▍    | 137/250 [01:43<01:26,  1.30batch/s, loss=0.39] "
     ]
    },
    {
     "name": "stderr",
     "output_type": "stream",
     "text": [
      "\r",
      "Epoch 1/20:  55%|█████▌    | 138/250 [01:43<01:25,  1.31batch/s, loss=0.39]"
     ]
    },
    {
     "name": "stderr",
     "output_type": "stream",
     "text": [
      "\r",
      "Epoch 1/20:  55%|█████▌    | 138/250 [01:44<01:25,  1.31batch/s, loss=0.111]"
     ]
    },
    {
     "name": "stderr",
     "output_type": "stream",
     "text": [
      "\r",
      "Epoch 1/20:  56%|█████▌    | 139/250 [01:44<01:24,  1.31batch/s, loss=0.111]"
     ]
    },
    {
     "name": "stderr",
     "output_type": "stream",
     "text": [
      "\r",
      "Epoch 1/20:  56%|█████▌    | 139/250 [01:45<01:24,  1.31batch/s, loss=0.121]"
     ]
    },
    {
     "name": "stderr",
     "output_type": "stream",
     "text": [
      "\r",
      "Epoch 1/20:  56%|█████▌    | 140/250 [01:45<01:24,  1.31batch/s, loss=0.121]"
     ]
    },
    {
     "name": "stderr",
     "output_type": "stream",
     "text": [
      "\r",
      "Epoch 1/20:  56%|█████▌    | 140/250 [01:46<01:24,  1.31batch/s, loss=0.124]"
     ]
    },
    {
     "name": "stderr",
     "output_type": "stream",
     "text": [
      "\r",
      "Epoch 1/20:  56%|█████▋    | 141/250 [01:46<01:23,  1.31batch/s, loss=0.124]"
     ]
    },
    {
     "name": "stderr",
     "output_type": "stream",
     "text": [
      "\r",
      "Epoch 1/20:  56%|█████▋    | 141/250 [01:46<01:23,  1.31batch/s, loss=0.144]"
     ]
    },
    {
     "name": "stderr",
     "output_type": "stream",
     "text": [
      "\r",
      "Epoch 1/20:  57%|█████▋    | 142/250 [01:46<01:22,  1.31batch/s, loss=0.144]"
     ]
    },
    {
     "name": "stderr",
     "output_type": "stream",
     "text": [
      "\r",
      "Epoch 1/20:  57%|█████▋    | 142/250 [01:47<01:22,  1.31batch/s, loss=0.167]"
     ]
    },
    {
     "name": "stderr",
     "output_type": "stream",
     "text": [
      "\r",
      "Epoch 1/20:  57%|█████▋    | 143/250 [01:47<01:22,  1.30batch/s, loss=0.167]"
     ]
    },
    {
     "name": "stderr",
     "output_type": "stream",
     "text": [
      "\r",
      "Epoch 1/20:  57%|█████▋    | 143/250 [01:48<01:22,  1.30batch/s, loss=0.105]"
     ]
    },
    {
     "name": "stderr",
     "output_type": "stream",
     "text": [
      "\r",
      "Epoch 1/20:  58%|█████▊    | 144/250 [01:48<01:21,  1.30batch/s, loss=0.105]"
     ]
    },
    {
     "name": "stderr",
     "output_type": "stream",
     "text": [
      "\r",
      "Epoch 1/20:  58%|█████▊    | 144/250 [01:49<01:21,  1.30batch/s, loss=0.116]"
     ]
    },
    {
     "name": "stderr",
     "output_type": "stream",
     "text": [
      "\r",
      "Epoch 1/20:  58%|█████▊    | 145/250 [01:49<01:20,  1.30batch/s, loss=0.116]"
     ]
    },
    {
     "name": "stderr",
     "output_type": "stream",
     "text": [
      "\r",
      "Epoch 1/20:  58%|█████▊    | 145/250 [01:50<01:20,  1.30batch/s, loss=0.152]"
     ]
    },
    {
     "name": "stderr",
     "output_type": "stream",
     "text": [
      "\r",
      "Epoch 1/20:  58%|█████▊    | 146/250 [01:50<01:20,  1.30batch/s, loss=0.152]"
     ]
    },
    {
     "name": "stderr",
     "output_type": "stream",
     "text": [
      "\r",
      "Epoch 1/20:  58%|█████▊    | 146/250 [01:50<01:20,  1.30batch/s, loss=0.0919]"
     ]
    },
    {
     "name": "stderr",
     "output_type": "stream",
     "text": [
      "\r",
      "Epoch 1/20:  59%|█████▉    | 147/250 [01:50<01:19,  1.30batch/s, loss=0.0919]"
     ]
    },
    {
     "name": "stderr",
     "output_type": "stream",
     "text": [
      "\r",
      "Epoch 1/20:  59%|█████▉    | 147/250 [01:51<01:19,  1.30batch/s, loss=0.101] "
     ]
    },
    {
     "name": "stderr",
     "output_type": "stream",
     "text": [
      "\r",
      "Epoch 1/20:  59%|█████▉    | 148/250 [01:51<01:18,  1.30batch/s, loss=0.101]"
     ]
    },
    {
     "name": "stderr",
     "output_type": "stream",
     "text": [
      "\r",
      "Epoch 1/20:  59%|█████▉    | 148/250 [01:52<01:18,  1.30batch/s, loss=0.12] "
     ]
    },
    {
     "name": "stderr",
     "output_type": "stream",
     "text": [
      "\r",
      "Epoch 1/20:  60%|█████▉    | 149/250 [01:52<01:18,  1.29batch/s, loss=0.12]"
     ]
    },
    {
     "name": "stderr",
     "output_type": "stream",
     "text": [
      "\r",
      "Epoch 1/20:  60%|█████▉    | 149/250 [01:53<01:18,  1.29batch/s, loss=0.134]"
     ]
    },
    {
     "name": "stderr",
     "output_type": "stream",
     "text": [
      "\r",
      "Epoch 1/20:  60%|██████    | 150/250 [01:53<01:17,  1.29batch/s, loss=0.134]"
     ]
    },
    {
     "name": "stderr",
     "output_type": "stream",
     "text": [
      "\r",
      "Epoch 1/20:  60%|██████    | 150/250 [01:53<01:17,  1.29batch/s, loss=0.113]"
     ]
    },
    {
     "name": "stderr",
     "output_type": "stream",
     "text": [
      "\r",
      "Epoch 1/20:  60%|██████    | 151/250 [01:53<01:16,  1.29batch/s, loss=0.113]"
     ]
    },
    {
     "name": "stderr",
     "output_type": "stream",
     "text": [
      "\r",
      "Epoch 1/20:  60%|██████    | 151/250 [01:54<01:16,  1.29batch/s, loss=0.144]"
     ]
    },
    {
     "name": "stderr",
     "output_type": "stream",
     "text": [
      "\r",
      "Epoch 1/20:  61%|██████    | 152/250 [01:54<01:15,  1.30batch/s, loss=0.144]"
     ]
    },
    {
     "name": "stderr",
     "output_type": "stream",
     "text": [
      "\r",
      "Epoch 1/20:  61%|██████    | 152/250 [01:55<01:15,  1.30batch/s, loss=0.126]"
     ]
    },
    {
     "name": "stderr",
     "output_type": "stream",
     "text": [
      "\r",
      "Epoch 1/20:  61%|██████    | 153/250 [01:55<01:15,  1.29batch/s, loss=0.126]"
     ]
    },
    {
     "name": "stderr",
     "output_type": "stream",
     "text": [
      "\r",
      "Epoch 1/20:  61%|██████    | 153/250 [01:56<01:15,  1.29batch/s, loss=0.12] "
     ]
    },
    {
     "name": "stderr",
     "output_type": "stream",
     "text": [
      "\r",
      "Epoch 1/20:  62%|██████▏   | 154/250 [01:56<01:14,  1.29batch/s, loss=0.12]"
     ]
    },
    {
     "name": "stderr",
     "output_type": "stream",
     "text": [
      "\r",
      "Epoch 1/20:  62%|██████▏   | 154/250 [01:57<01:14,  1.29batch/s, loss=0.0829]"
     ]
    },
    {
     "name": "stderr",
     "output_type": "stream",
     "text": [
      "\r",
      "Epoch 1/20:  62%|██████▏   | 155/250 [01:57<01:14,  1.28batch/s, loss=0.0829]"
     ]
    },
    {
     "name": "stderr",
     "output_type": "stream",
     "text": [
      "\r",
      "Epoch 1/20:  62%|██████▏   | 155/250 [01:57<01:14,  1.28batch/s, loss=0.118] "
     ]
    },
    {
     "name": "stderr",
     "output_type": "stream",
     "text": [
      "\r",
      "Epoch 1/20:  62%|██████▏   | 156/250 [01:57<01:13,  1.28batch/s, loss=0.118]"
     ]
    },
    {
     "name": "stderr",
     "output_type": "stream",
     "text": [
      "\r",
      "Epoch 1/20:  62%|██████▏   | 156/250 [01:58<01:13,  1.28batch/s, loss=0.107]"
     ]
    },
    {
     "name": "stderr",
     "output_type": "stream",
     "text": [
      "\r",
      "Epoch 1/20:  63%|██████▎   | 157/250 [01:58<01:12,  1.29batch/s, loss=0.107]"
     ]
    },
    {
     "name": "stderr",
     "output_type": "stream",
     "text": [
      "\r",
      "Epoch 1/20:  63%|██████▎   | 157/250 [01:59<01:12,  1.29batch/s, loss=0.0937]"
     ]
    },
    {
     "name": "stderr",
     "output_type": "stream",
     "text": [
      "\r",
      "Epoch 1/20:  63%|██████▎   | 158/250 [01:59<01:11,  1.29batch/s, loss=0.0937]"
     ]
    },
    {
     "name": "stderr",
     "output_type": "stream",
     "text": [
      "\r",
      "Epoch 1/20:  63%|██████▎   | 158/250 [02:00<01:11,  1.29batch/s, loss=0.135] "
     ]
    },
    {
     "name": "stderr",
     "output_type": "stream",
     "text": [
      "\r",
      "Epoch 1/20:  64%|██████▎   | 159/250 [02:00<01:10,  1.29batch/s, loss=0.135]"
     ]
    },
    {
     "name": "stderr",
     "output_type": "stream",
     "text": [
      "\r",
      "Epoch 1/20:  64%|██████▎   | 159/250 [02:00<01:10,  1.29batch/s, loss=0.127]"
     ]
    },
    {
     "name": "stderr",
     "output_type": "stream",
     "text": [
      "\r",
      "Epoch 1/20:  64%|██████▍   | 160/250 [02:00<01:10,  1.28batch/s, loss=0.127]"
     ]
    },
    {
     "name": "stderr",
     "output_type": "stream",
     "text": [
      "\r",
      "Epoch 1/20:  64%|██████▍   | 160/250 [02:01<01:10,  1.28batch/s, loss=0.118]"
     ]
    },
    {
     "name": "stderr",
     "output_type": "stream",
     "text": [
      "\r",
      "Epoch 1/20:  64%|██████▍   | 161/250 [02:01<01:09,  1.28batch/s, loss=0.118]"
     ]
    },
    {
     "name": "stderr",
     "output_type": "stream",
     "text": [
      "\r",
      "Epoch 1/20:  64%|██████▍   | 161/250 [02:02<01:09,  1.28batch/s, loss=0.138]"
     ]
    },
    {
     "name": "stderr",
     "output_type": "stream",
     "text": [
      "\r",
      "Epoch 1/20:  65%|██████▍   | 162/250 [02:02<01:08,  1.28batch/s, loss=0.138]"
     ]
    },
    {
     "name": "stderr",
     "output_type": "stream",
     "text": [
      "\r",
      "Epoch 1/20:  65%|██████▍   | 162/250 [02:03<01:08,  1.28batch/s, loss=0.109]"
     ]
    },
    {
     "name": "stderr",
     "output_type": "stream",
     "text": [
      "\r",
      "Epoch 1/20:  65%|██████▌   | 163/250 [02:03<01:07,  1.28batch/s, loss=0.109]"
     ]
    },
    {
     "name": "stderr",
     "output_type": "stream",
     "text": [
      "\r",
      "Epoch 1/20:  65%|██████▌   | 163/250 [02:04<01:07,  1.28batch/s, loss=0.113]"
     ]
    },
    {
     "name": "stderr",
     "output_type": "stream",
     "text": [
      "\r",
      "Epoch 1/20:  66%|██████▌   | 164/250 [02:04<01:07,  1.28batch/s, loss=0.113]"
     ]
    },
    {
     "name": "stderr",
     "output_type": "stream",
     "text": [
      "\r",
      "Epoch 1/20:  66%|██████▌   | 164/250 [02:04<01:07,  1.28batch/s, loss=0.283]"
     ]
    },
    {
     "name": "stderr",
     "output_type": "stream",
     "text": [
      "\r",
      "Epoch 1/20:  66%|██████▌   | 165/250 [02:04<01:06,  1.29batch/s, loss=0.283]"
     ]
    },
    {
     "name": "stderr",
     "output_type": "stream",
     "text": [
      "\r",
      "Epoch 1/20:  66%|██████▌   | 165/250 [02:05<01:06,  1.29batch/s, loss=0.0862]"
     ]
    },
    {
     "name": "stderr",
     "output_type": "stream",
     "text": [
      "\r",
      "Epoch 1/20:  66%|██████▋   | 166/250 [02:05<01:05,  1.28batch/s, loss=0.0862]"
     ]
    },
    {
     "name": "stderr",
     "output_type": "stream",
     "text": [
      "\r",
      "Epoch 1/20:  66%|██████▋   | 166/250 [02:06<01:05,  1.28batch/s, loss=0.125] "
     ]
    },
    {
     "name": "stderr",
     "output_type": "stream",
     "text": [
      "\r",
      "Epoch 1/20:  67%|██████▋   | 167/250 [02:06<01:04,  1.28batch/s, loss=0.125]"
     ]
    },
    {
     "name": "stderr",
     "output_type": "stream",
     "text": [
      "\r",
      "Epoch 1/20:  67%|██████▋   | 167/250 [02:07<01:04,  1.28batch/s, loss=0.124]"
     ]
    },
    {
     "name": "stderr",
     "output_type": "stream",
     "text": [
      "\r",
      "Epoch 1/20:  67%|██████▋   | 168/250 [02:07<01:04,  1.28batch/s, loss=0.124]"
     ]
    },
    {
     "name": "stderr",
     "output_type": "stream",
     "text": [
      "\r",
      "Epoch 1/20:  67%|██████▋   | 168/250 [02:07<01:04,  1.28batch/s, loss=0.1]  "
     ]
    },
    {
     "name": "stderr",
     "output_type": "stream",
     "text": [
      "\r",
      "Epoch 1/20:  68%|██████▊   | 169/250 [02:07<01:03,  1.27batch/s, loss=0.1]"
     ]
    },
    {
     "name": "stderr",
     "output_type": "stream",
     "text": [
      "\r",
      "Epoch 1/20:  68%|██████▊   | 169/250 [02:08<01:03,  1.27batch/s, loss=0.103]"
     ]
    },
    {
     "name": "stderr",
     "output_type": "stream",
     "text": [
      "\r",
      "Epoch 1/20:  68%|██████▊   | 170/250 [02:08<01:02,  1.27batch/s, loss=0.103]"
     ]
    },
    {
     "name": "stderr",
     "output_type": "stream",
     "text": [
      "\r",
      "Epoch 1/20:  68%|██████▊   | 170/250 [02:09<01:02,  1.27batch/s, loss=0.198]"
     ]
    },
    {
     "name": "stderr",
     "output_type": "stream",
     "text": [
      "\r",
      "Epoch 1/20:  68%|██████▊   | 171/250 [02:09<01:01,  1.28batch/s, loss=0.198]"
     ]
    },
    {
     "name": "stderr",
     "output_type": "stream",
     "text": [
      "\r",
      "Epoch 1/20:  68%|██████▊   | 171/250 [02:10<01:01,  1.28batch/s, loss=0.0787]"
     ]
    },
    {
     "name": "stderr",
     "output_type": "stream",
     "text": [
      "\r",
      "Epoch 1/20:  69%|██████▉   | 172/250 [02:10<01:01,  1.28batch/s, loss=0.0787]"
     ]
    },
    {
     "name": "stderr",
     "output_type": "stream",
     "text": [
      "\r",
      "Epoch 1/20:  69%|██████▉   | 172/250 [02:11<01:01,  1.28batch/s, loss=0.123] "
     ]
    },
    {
     "name": "stderr",
     "output_type": "stream",
     "text": [
      "\r",
      "Epoch 1/20:  69%|██████▉   | 173/250 [02:11<01:01,  1.26batch/s, loss=0.123]"
     ]
    },
    {
     "name": "stderr",
     "output_type": "stream",
     "text": [
      "\r",
      "Epoch 1/20:  69%|██████▉   | 173/250 [02:11<01:01,  1.26batch/s, loss=0.113]"
     ]
    },
    {
     "name": "stderr",
     "output_type": "stream",
     "text": [
      "\r",
      "Epoch 1/20:  70%|██████▉   | 174/250 [02:11<01:00,  1.26batch/s, loss=0.113]"
     ]
    },
    {
     "name": "stderr",
     "output_type": "stream",
     "text": [
      "\r",
      "Epoch 1/20:  70%|██████▉   | 174/250 [02:12<01:00,  1.26batch/s, loss=0.0801]"
     ]
    },
    {
     "name": "stderr",
     "output_type": "stream",
     "text": [
      "\r",
      "Epoch 1/20:  70%|███████   | 175/250 [02:12<00:59,  1.25batch/s, loss=0.0801]"
     ]
    },
    {
     "name": "stderr",
     "output_type": "stream",
     "text": [
      "\r",
      "Epoch 1/20:  70%|███████   | 175/250 [02:13<00:59,  1.25batch/s, loss=0.112] "
     ]
    },
    {
     "name": "stderr",
     "output_type": "stream",
     "text": [
      "\r",
      "Epoch 1/20:  70%|███████   | 176/250 [02:13<00:58,  1.26batch/s, loss=0.112]"
     ]
    },
    {
     "name": "stderr",
     "output_type": "stream",
     "text": [
      "\r",
      "Epoch 1/20:  70%|███████   | 176/250 [02:14<00:58,  1.26batch/s, loss=0.131]"
     ]
    },
    {
     "name": "stderr",
     "output_type": "stream",
     "text": [
      "\r",
      "Epoch 1/20:  71%|███████   | 177/250 [02:14<00:57,  1.26batch/s, loss=0.131]"
     ]
    },
    {
     "name": "stderr",
     "output_type": "stream",
     "text": [
      "\r",
      "Epoch 1/20:  71%|███████   | 177/250 [02:15<00:57,  1.26batch/s, loss=0.108]"
     ]
    },
    {
     "name": "stderr",
     "output_type": "stream",
     "text": [
      "\r",
      "Epoch 1/20:  71%|███████   | 178/250 [02:15<00:56,  1.26batch/s, loss=0.108]"
     ]
    },
    {
     "name": "stderr",
     "output_type": "stream",
     "text": [
      "\r",
      "Epoch 1/20:  71%|███████   | 178/250 [02:15<00:56,  1.26batch/s, loss=0.105]"
     ]
    },
    {
     "name": "stderr",
     "output_type": "stream",
     "text": [
      "\r",
      "Epoch 1/20:  72%|███████▏  | 179/250 [02:15<00:56,  1.26batch/s, loss=0.105]"
     ]
    },
    {
     "name": "stderr",
     "output_type": "stream",
     "text": [
      "\r",
      "Epoch 1/20:  72%|███████▏  | 179/250 [02:16<00:56,  1.26batch/s, loss=0.0861]"
     ]
    },
    {
     "name": "stderr",
     "output_type": "stream",
     "text": [
      "\r",
      "Epoch 1/20:  72%|███████▏  | 180/250 [02:16<00:55,  1.26batch/s, loss=0.0861]"
     ]
    },
    {
     "name": "stderr",
     "output_type": "stream",
     "text": [
      "\r",
      "Epoch 1/20:  72%|███████▏  | 180/250 [02:17<00:55,  1.26batch/s, loss=0.0849]"
     ]
    },
    {
     "name": "stderr",
     "output_type": "stream",
     "text": [
      "\r",
      "Epoch 1/20:  72%|███████▏  | 181/250 [02:17<00:54,  1.26batch/s, loss=0.0849]"
     ]
    },
    {
     "name": "stderr",
     "output_type": "stream",
     "text": [
      "\r",
      "Epoch 1/20:  72%|███████▏  | 181/250 [02:18<00:54,  1.26batch/s, loss=0.102] "
     ]
    },
    {
     "name": "stderr",
     "output_type": "stream",
     "text": [
      "\r",
      "Epoch 1/20:  73%|███████▎  | 182/250 [02:18<00:54,  1.26batch/s, loss=0.102]"
     ]
    },
    {
     "name": "stderr",
     "output_type": "stream",
     "text": [
      "\r",
      "Epoch 1/20:  73%|███████▎  | 182/250 [02:19<00:54,  1.26batch/s, loss=0.125]"
     ]
    },
    {
     "name": "stderr",
     "output_type": "stream",
     "text": [
      "\r",
      "Epoch 1/20:  73%|███████▎  | 183/250 [02:19<00:53,  1.26batch/s, loss=0.125]"
     ]
    },
    {
     "name": "stderr",
     "output_type": "stream",
     "text": [
      "\r",
      "Epoch 1/20:  73%|███████▎  | 183/250 [02:19<00:53,  1.26batch/s, loss=0.0973]"
     ]
    },
    {
     "name": "stderr",
     "output_type": "stream",
     "text": [
      "\r",
      "Epoch 1/20:  74%|███████▎  | 184/250 [02:19<00:52,  1.26batch/s, loss=0.0973]"
     ]
    },
    {
     "name": "stderr",
     "output_type": "stream",
     "text": [
      "\r",
      "Epoch 1/20:  74%|███████▎  | 184/250 [02:20<00:52,  1.26batch/s, loss=0.129] "
     ]
    },
    {
     "name": "stderr",
     "output_type": "stream",
     "text": [
      "\r",
      "Epoch 1/20:  74%|███████▍  | 185/250 [02:20<00:51,  1.26batch/s, loss=0.129]"
     ]
    },
    {
     "name": "stderr",
     "output_type": "stream",
     "text": [
      "\r",
      "Epoch 1/20:  74%|███████▍  | 185/250 [02:21<00:51,  1.26batch/s, loss=0.134]"
     ]
    },
    {
     "name": "stderr",
     "output_type": "stream",
     "text": [
      "\r",
      "Epoch 1/20:  74%|███████▍  | 186/250 [02:21<00:51,  1.25batch/s, loss=0.134]"
     ]
    },
    {
     "name": "stderr",
     "output_type": "stream",
     "text": [
      "\r",
      "Epoch 1/20:  74%|███████▍  | 186/250 [02:22<00:51,  1.25batch/s, loss=0.0917]"
     ]
    },
    {
     "name": "stderr",
     "output_type": "stream",
     "text": [
      "\r",
      "Epoch 1/20:  75%|███████▍  | 187/250 [02:22<00:50,  1.24batch/s, loss=0.0917]"
     ]
    },
    {
     "name": "stderr",
     "output_type": "stream",
     "text": [
      "\r",
      "Epoch 1/20:  75%|███████▍  | 187/250 [02:23<00:50,  1.24batch/s, loss=0.104] "
     ]
    },
    {
     "name": "stderr",
     "output_type": "stream",
     "text": [
      "\r",
      "Epoch 1/20:  75%|███████▌  | 188/250 [02:23<00:49,  1.25batch/s, loss=0.104]"
     ]
    },
    {
     "name": "stderr",
     "output_type": "stream",
     "text": [
      "\r",
      "Epoch 1/20:  75%|███████▌  | 188/250 [02:23<00:49,  1.25batch/s, loss=0.0922]"
     ]
    },
    {
     "name": "stderr",
     "output_type": "stream",
     "text": [
      "\r",
      "Epoch 1/20:  76%|███████▌  | 189/250 [02:23<00:49,  1.24batch/s, loss=0.0922]"
     ]
    },
    {
     "name": "stderr",
     "output_type": "stream",
     "text": [
      "\r",
      "Epoch 1/20:  76%|███████▌  | 189/250 [02:24<00:49,  1.24batch/s, loss=0.101] "
     ]
    },
    {
     "name": "stderr",
     "output_type": "stream",
     "text": [
      "\r",
      "Epoch 1/20:  76%|███████▌  | 190/250 [02:24<00:48,  1.25batch/s, loss=0.101]"
     ]
    },
    {
     "name": "stderr",
     "output_type": "stream",
     "text": [
      "\r",
      "Epoch 1/20:  76%|███████▌  | 190/250 [02:25<00:48,  1.25batch/s, loss=0.127]"
     ]
    },
    {
     "name": "stderr",
     "output_type": "stream",
     "text": [
      "\r",
      "Epoch 1/20:  76%|███████▋  | 191/250 [02:25<00:47,  1.25batch/s, loss=0.127]"
     ]
    },
    {
     "name": "stderr",
     "output_type": "stream",
     "text": [
      "\r",
      "Epoch 1/20:  76%|███████▋  | 191/250 [02:26<00:47,  1.25batch/s, loss=0.0888]"
     ]
    },
    {
     "name": "stderr",
     "output_type": "stream",
     "text": [
      "\r",
      "Epoch 1/20:  77%|███████▋  | 192/250 [02:26<00:46,  1.25batch/s, loss=0.0888]"
     ]
    },
    {
     "name": "stderr",
     "output_type": "stream",
     "text": [
      "\r",
      "Epoch 1/20:  77%|███████▋  | 192/250 [02:27<00:46,  1.25batch/s, loss=0.0974]"
     ]
    },
    {
     "name": "stderr",
     "output_type": "stream",
     "text": [
      "\r",
      "Epoch 1/20:  77%|███████▋  | 193/250 [02:27<00:45,  1.25batch/s, loss=0.0974]"
     ]
    },
    {
     "name": "stderr",
     "output_type": "stream",
     "text": [
      "\r",
      "Epoch 1/20:  77%|███████▋  | 193/250 [02:27<00:45,  1.25batch/s, loss=0.0708]"
     ]
    },
    {
     "name": "stderr",
     "output_type": "stream",
     "text": [
      "\r",
      "Epoch 1/20:  78%|███████▊  | 194/250 [02:27<00:44,  1.25batch/s, loss=0.0708]"
     ]
    },
    {
     "name": "stderr",
     "output_type": "stream",
     "text": [
      "\r",
      "Epoch 1/20:  78%|███████▊  | 194/250 [02:28<00:44,  1.25batch/s, loss=0.156] "
     ]
    },
    {
     "name": "stderr",
     "output_type": "stream",
     "text": [
      "\r",
      "Epoch 1/20:  78%|███████▊  | 195/250 [02:28<00:44,  1.25batch/s, loss=0.156]"
     ]
    },
    {
     "name": "stderr",
     "output_type": "stream",
     "text": [
      "\r",
      "Epoch 1/20:  78%|███████▊  | 195/250 [02:29<00:44,  1.25batch/s, loss=0.122]"
     ]
    },
    {
     "name": "stderr",
     "output_type": "stream",
     "text": [
      "\r",
      "Epoch 1/20:  78%|███████▊  | 196/250 [02:29<00:42,  1.26batch/s, loss=0.122]"
     ]
    },
    {
     "name": "stderr",
     "output_type": "stream",
     "text": [
      "\r",
      "Epoch 1/20:  78%|███████▊  | 196/250 [02:30<00:42,  1.26batch/s, loss=0.113]"
     ]
    },
    {
     "name": "stderr",
     "output_type": "stream",
     "text": [
      "\r",
      "Epoch 1/20:  79%|███████▉  | 197/250 [02:30<00:42,  1.26batch/s, loss=0.113]"
     ]
    },
    {
     "name": "stderr",
     "output_type": "stream",
     "text": [
      "\r",
      "Epoch 1/20:  79%|███████▉  | 197/250 [02:31<00:42,  1.26batch/s, loss=0.129]"
     ]
    },
    {
     "name": "stderr",
     "output_type": "stream",
     "text": [
      "\r",
      "Epoch 1/20:  79%|███████▉  | 198/250 [02:31<00:41,  1.26batch/s, loss=0.129]"
     ]
    },
    {
     "name": "stderr",
     "output_type": "stream",
     "text": [
      "\r",
      "Epoch 1/20:  79%|███████▉  | 198/250 [02:31<00:41,  1.26batch/s, loss=0.0754]"
     ]
    },
    {
     "name": "stderr",
     "output_type": "stream",
     "text": [
      "\r",
      "Epoch 1/20:  80%|███████▉  | 199/250 [02:31<00:40,  1.26batch/s, loss=0.0754]"
     ]
    },
    {
     "name": "stderr",
     "output_type": "stream",
     "text": [
      "\r",
      "Epoch 1/20:  80%|███████▉  | 199/250 [02:32<00:40,  1.26batch/s, loss=0.0908]"
     ]
    },
    {
     "name": "stderr",
     "output_type": "stream",
     "text": [
      "\r",
      "Epoch 1/20:  80%|████████  | 200/250 [02:32<00:39,  1.26batch/s, loss=0.0908]"
     ]
    },
    {
     "name": "stderr",
     "output_type": "stream",
     "text": [
      "\r",
      "Epoch 1/20:  80%|████████  | 200/250 [02:33<00:39,  1.26batch/s, loss=0.0848]"
     ]
    },
    {
     "name": "stderr",
     "output_type": "stream",
     "text": [
      "\r",
      "Epoch 1/20:  80%|████████  | 201/250 [02:33<00:39,  1.25batch/s, loss=0.0848]"
     ]
    },
    {
     "name": "stderr",
     "output_type": "stream",
     "text": [
      "\r",
      "Epoch 1/20:  80%|████████  | 201/250 [02:34<00:39,  1.25batch/s, loss=0.116] "
     ]
    },
    {
     "name": "stderr",
     "output_type": "stream",
     "text": [
      "\r",
      "Epoch 1/20:  81%|████████  | 202/250 [02:34<00:38,  1.25batch/s, loss=0.116]"
     ]
    },
    {
     "name": "stderr",
     "output_type": "stream",
     "text": [
      "\r",
      "Epoch 1/20:  81%|████████  | 202/250 [02:35<00:38,  1.25batch/s, loss=0.138]"
     ]
    },
    {
     "name": "stderr",
     "output_type": "stream",
     "text": [
      "\r",
      "Epoch 1/20:  81%|████████  | 203/250 [02:35<00:37,  1.25batch/s, loss=0.138]"
     ]
    },
    {
     "name": "stderr",
     "output_type": "stream",
     "text": [
      "\r",
      "Epoch 1/20:  81%|████████  | 203/250 [02:35<00:37,  1.25batch/s, loss=0.107]"
     ]
    },
    {
     "name": "stderr",
     "output_type": "stream",
     "text": [
      "\r",
      "Epoch 1/20:  82%|████████▏ | 204/250 [02:35<00:36,  1.26batch/s, loss=0.107]"
     ]
    },
    {
     "name": "stderr",
     "output_type": "stream",
     "text": [
      "\r",
      "Epoch 1/20:  82%|████████▏ | 204/250 [02:36<00:36,  1.26batch/s, loss=0.108]"
     ]
    },
    {
     "name": "stderr",
     "output_type": "stream",
     "text": [
      "\r",
      "Epoch 1/20:  82%|████████▏ | 205/250 [02:36<00:35,  1.27batch/s, loss=0.108]"
     ]
    },
    {
     "name": "stderr",
     "output_type": "stream",
     "text": [
      "\r",
      "Epoch 1/20:  82%|████████▏ | 205/250 [02:37<00:35,  1.27batch/s, loss=0.0939]"
     ]
    },
    {
     "name": "stderr",
     "output_type": "stream",
     "text": [
      "\r",
      "Epoch 1/20:  82%|████████▏ | 206/250 [02:37<00:34,  1.26batch/s, loss=0.0939]"
     ]
    },
    {
     "name": "stderr",
     "output_type": "stream",
     "text": [
      "\r",
      "Epoch 1/20:  82%|████████▏ | 206/250 [02:38<00:34,  1.26batch/s, loss=0.0845]"
     ]
    },
    {
     "name": "stderr",
     "output_type": "stream",
     "text": [
      "\r",
      "Epoch 1/20:  83%|████████▎ | 207/250 [02:38<00:34,  1.26batch/s, loss=0.0845]"
     ]
    },
    {
     "name": "stderr",
     "output_type": "stream",
     "text": [
      "\r",
      "Epoch 1/20:  83%|████████▎ | 207/250 [02:39<00:34,  1.26batch/s, loss=0.104] "
     ]
    },
    {
     "name": "stderr",
     "output_type": "stream",
     "text": [
      "\r",
      "Epoch 1/20:  83%|████████▎ | 208/250 [02:39<00:33,  1.25batch/s, loss=0.104]"
     ]
    },
    {
     "name": "stderr",
     "output_type": "stream",
     "text": [
      "\r",
      "Epoch 1/20:  83%|████████▎ | 208/250 [02:39<00:33,  1.25batch/s, loss=0.0854]"
     ]
    },
    {
     "name": "stderr",
     "output_type": "stream",
     "text": [
      "\r",
      "Epoch 1/20:  84%|████████▎ | 209/250 [02:39<00:32,  1.26batch/s, loss=0.0854]"
     ]
    },
    {
     "name": "stderr",
     "output_type": "stream",
     "text": [
      "\r",
      "Epoch 1/20:  84%|████████▎ | 209/250 [02:40<00:32,  1.26batch/s, loss=0.0893]"
     ]
    },
    {
     "name": "stderr",
     "output_type": "stream",
     "text": [
      "\r",
      "Epoch 1/20:  84%|████████▍ | 210/250 [02:40<00:31,  1.26batch/s, loss=0.0893]"
     ]
    },
    {
     "name": "stderr",
     "output_type": "stream",
     "text": [
      "\r",
      "Epoch 1/20:  84%|████████▍ | 210/250 [02:41<00:31,  1.26batch/s, loss=0.106] "
     ]
    },
    {
     "name": "stderr",
     "output_type": "stream",
     "text": [
      "\r",
      "Epoch 1/20:  84%|████████▍ | 211/250 [02:41<00:30,  1.26batch/s, loss=0.106]"
     ]
    },
    {
     "name": "stderr",
     "output_type": "stream",
     "text": [
      "\r",
      "Epoch 1/20:  84%|████████▍ | 211/250 [02:42<00:30,  1.26batch/s, loss=0.116]"
     ]
    },
    {
     "name": "stderr",
     "output_type": "stream",
     "text": [
      "\r",
      "Epoch 1/20:  85%|████████▍ | 212/250 [02:42<00:30,  1.27batch/s, loss=0.116]"
     ]
    },
    {
     "name": "stderr",
     "output_type": "stream",
     "text": [
      "\r",
      "Epoch 1/20:  85%|████████▍ | 212/250 [02:42<00:30,  1.27batch/s, loss=0.0785]"
     ]
    },
    {
     "name": "stderr",
     "output_type": "stream",
     "text": [
      "\r",
      "Epoch 1/20:  85%|████████▌ | 213/250 [02:42<00:29,  1.28batch/s, loss=0.0785]"
     ]
    },
    {
     "name": "stderr",
     "output_type": "stream",
     "text": [
      "\r",
      "Epoch 1/20:  85%|████████▌ | 213/250 [02:43<00:29,  1.28batch/s, loss=0.128] "
     ]
    },
    {
     "name": "stderr",
     "output_type": "stream",
     "text": [
      "\r",
      "Epoch 1/20:  86%|████████▌ | 214/250 [02:43<00:28,  1.28batch/s, loss=0.128]"
     ]
    },
    {
     "name": "stderr",
     "output_type": "stream",
     "text": [
      "\r",
      "Epoch 1/20:  86%|████████▌ | 214/250 [02:44<00:28,  1.28batch/s, loss=0.0719]"
     ]
    },
    {
     "name": "stderr",
     "output_type": "stream",
     "text": [
      "\r",
      "Epoch 1/20:  86%|████████▌ | 215/250 [02:44<00:27,  1.28batch/s, loss=0.0719]"
     ]
    },
    {
     "name": "stderr",
     "output_type": "stream",
     "text": [
      "\r",
      "Epoch 1/20:  86%|████████▌ | 215/250 [02:45<00:27,  1.28batch/s, loss=0.0973]"
     ]
    },
    {
     "name": "stderr",
     "output_type": "stream",
     "text": [
      "\r",
      "Epoch 1/20:  86%|████████▋ | 216/250 [02:45<00:26,  1.28batch/s, loss=0.0973]"
     ]
    },
    {
     "name": "stderr",
     "output_type": "stream",
     "text": [
      "\r",
      "Epoch 1/20:  86%|████████▋ | 216/250 [02:46<00:26,  1.28batch/s, loss=0.0973]"
     ]
    },
    {
     "name": "stderr",
     "output_type": "stream",
     "text": [
      "\r",
      "Epoch 1/20:  87%|████████▋ | 217/250 [02:46<00:25,  1.29batch/s, loss=0.0973]"
     ]
    },
    {
     "name": "stderr",
     "output_type": "stream",
     "text": [
      "\r",
      "Epoch 1/20:  87%|████████▋ | 217/250 [02:46<00:25,  1.29batch/s, loss=0.105] "
     ]
    },
    {
     "name": "stderr",
     "output_type": "stream",
     "text": [
      "\r",
      "Epoch 1/20:  87%|████████▋ | 218/250 [02:46<00:25,  1.28batch/s, loss=0.105]"
     ]
    },
    {
     "name": "stderr",
     "output_type": "stream",
     "text": [
      "\r",
      "Epoch 1/20:  87%|████████▋ | 218/250 [02:47<00:25,  1.28batch/s, loss=0.0982]"
     ]
    },
    {
     "name": "stderr",
     "output_type": "stream",
     "text": [
      "\r",
      "Epoch 1/20:  88%|████████▊ | 219/250 [02:47<00:24,  1.28batch/s, loss=0.0982]"
     ]
    },
    {
     "name": "stderr",
     "output_type": "stream",
     "text": [
      "\r",
      "Epoch 1/20:  88%|████████▊ | 219/250 [02:48<00:24,  1.28batch/s, loss=0.0851]"
     ]
    },
    {
     "name": "stderr",
     "output_type": "stream",
     "text": [
      "\r",
      "Epoch 1/20:  88%|████████▊ | 220/250 [02:48<00:23,  1.28batch/s, loss=0.0851]"
     ]
    },
    {
     "name": "stderr",
     "output_type": "stream",
     "text": [
      "\r",
      "Epoch 1/20:  88%|████████▊ | 220/250 [02:49<00:23,  1.28batch/s, loss=0.0941]"
     ]
    },
    {
     "name": "stderr",
     "output_type": "stream",
     "text": [
      "\r",
      "Epoch 1/20:  88%|████████▊ | 221/250 [02:49<00:22,  1.27batch/s, loss=0.0941]"
     ]
    },
    {
     "name": "stderr",
     "output_type": "stream",
     "text": [
      "\r",
      "Epoch 1/20:  88%|████████▊ | 221/250 [02:50<00:22,  1.27batch/s, loss=0.103] "
     ]
    },
    {
     "name": "stderr",
     "output_type": "stream",
     "text": [
      "\r",
      "Epoch 1/20:  89%|████████▉ | 222/250 [02:50<00:21,  1.27batch/s, loss=0.103]"
     ]
    },
    {
     "name": "stderr",
     "output_type": "stream",
     "text": [
      "\r",
      "Epoch 1/20:  89%|████████▉ | 222/250 [02:50<00:21,  1.27batch/s, loss=0.0945]"
     ]
    },
    {
     "name": "stderr",
     "output_type": "stream",
     "text": [
      "\r",
      "Epoch 1/20:  89%|████████▉ | 223/250 [02:50<00:21,  1.27batch/s, loss=0.0945]"
     ]
    },
    {
     "name": "stderr",
     "output_type": "stream",
     "text": [
      "\r",
      "Epoch 1/20:  89%|████████▉ | 223/250 [02:51<00:21,  1.27batch/s, loss=0.0914]"
     ]
    },
    {
     "name": "stderr",
     "output_type": "stream",
     "text": [
      "\r",
      "Epoch 1/20:  90%|████████▉ | 224/250 [02:51<00:20,  1.27batch/s, loss=0.0914]"
     ]
    },
    {
     "name": "stderr",
     "output_type": "stream",
     "text": [
      "\r",
      "Epoch 1/20:  90%|████████▉ | 224/250 [02:52<00:20,  1.27batch/s, loss=0.105] "
     ]
    },
    {
     "name": "stderr",
     "output_type": "stream",
     "text": [
      "\r",
      "Epoch 1/20:  90%|█████████ | 225/250 [02:52<00:19,  1.27batch/s, loss=0.105]"
     ]
    },
    {
     "name": "stderr",
     "output_type": "stream",
     "text": [
      "\r",
      "Epoch 1/20:  90%|█████████ | 225/250 [02:53<00:19,  1.27batch/s, loss=0.0911]"
     ]
    },
    {
     "name": "stderr",
     "output_type": "stream",
     "text": [
      "\r",
      "Epoch 1/20:  90%|█████████ | 226/250 [02:53<00:18,  1.28batch/s, loss=0.0911]"
     ]
    },
    {
     "name": "stderr",
     "output_type": "stream",
     "text": [
      "\r",
      "Epoch 1/20:  90%|█████████ | 226/250 [02:53<00:18,  1.28batch/s, loss=0.0984]"
     ]
    },
    {
     "name": "stderr",
     "output_type": "stream",
     "text": [
      "\r",
      "Epoch 1/20:  91%|█████████ | 227/250 [02:53<00:17,  1.29batch/s, loss=0.0984]"
     ]
    },
    {
     "name": "stderr",
     "output_type": "stream",
     "text": [
      "\r",
      "Epoch 1/20:  91%|█████████ | 227/250 [02:54<00:17,  1.29batch/s, loss=0.119] "
     ]
    },
    {
     "name": "stderr",
     "output_type": "stream",
     "text": [
      "\r",
      "Epoch 1/20:  91%|█████████ | 228/250 [02:54<00:17,  1.29batch/s, loss=0.119]"
     ]
    },
    {
     "name": "stderr",
     "output_type": "stream",
     "text": [
      "\r",
      "Epoch 1/20:  91%|█████████ | 228/250 [02:55<00:17,  1.29batch/s, loss=0.0894]"
     ]
    },
    {
     "name": "stderr",
     "output_type": "stream",
     "text": [
      "\r",
      "Epoch 1/20:  92%|█████████▏| 229/250 [02:55<00:16,  1.29batch/s, loss=0.0894]"
     ]
    },
    {
     "name": "stderr",
     "output_type": "stream",
     "text": [
      "\r",
      "Epoch 1/20:  92%|█████████▏| 229/250 [02:56<00:16,  1.29batch/s, loss=0.124] "
     ]
    },
    {
     "name": "stderr",
     "output_type": "stream",
     "text": [
      "\r",
      "Epoch 1/20:  92%|█████████▏| 230/250 [02:56<00:15,  1.29batch/s, loss=0.124]"
     ]
    },
    {
     "name": "stderr",
     "output_type": "stream",
     "text": [
      "\r",
      "Epoch 1/20:  92%|█████████▏| 230/250 [02:56<00:15,  1.29batch/s, loss=0.0661]"
     ]
    },
    {
     "name": "stderr",
     "output_type": "stream",
     "text": [
      "\r",
      "Epoch 1/20:  92%|█████████▏| 231/250 [02:56<00:14,  1.31batch/s, loss=0.0661]"
     ]
    },
    {
     "name": "stderr",
     "output_type": "stream",
     "text": [
      "\r",
      "Epoch 1/20:  92%|█████████▏| 231/250 [02:57<00:14,  1.31batch/s, loss=0.0876]"
     ]
    },
    {
     "name": "stderr",
     "output_type": "stream",
     "text": [
      "\r",
      "Epoch 1/20:  93%|█████████▎| 232/250 [02:57<00:13,  1.31batch/s, loss=0.0876]"
     ]
    },
    {
     "name": "stderr",
     "output_type": "stream",
     "text": [
      "\r",
      "Epoch 1/20:  93%|█████████▎| 232/250 [02:58<00:13,  1.31batch/s, loss=0.054] "
     ]
    },
    {
     "name": "stderr",
     "output_type": "stream",
     "text": [
      "\r",
      "Epoch 1/20:  93%|█████████▎| 233/250 [02:58<00:13,  1.29batch/s, loss=0.054]"
     ]
    },
    {
     "name": "stderr",
     "output_type": "stream",
     "text": [
      "\r",
      "Epoch 1/20:  93%|█████████▎| 233/250 [02:59<00:13,  1.29batch/s, loss=0.135]"
     ]
    },
    {
     "name": "stderr",
     "output_type": "stream",
     "text": [
      "\r",
      "Epoch 1/20:  94%|█████████▎| 234/250 [02:59<00:12,  1.30batch/s, loss=0.135]"
     ]
    },
    {
     "name": "stderr",
     "output_type": "stream",
     "text": [
      "\r",
      "Epoch 1/20:  94%|█████████▎| 234/250 [03:00<00:12,  1.30batch/s, loss=0.0923]"
     ]
    },
    {
     "name": "stderr",
     "output_type": "stream",
     "text": [
      "\r",
      "Epoch 1/20:  94%|█████████▍| 235/250 [03:00<00:11,  1.30batch/s, loss=0.0923]"
     ]
    },
    {
     "name": "stderr",
     "output_type": "stream",
     "text": [
      "\r",
      "Epoch 1/20:  94%|█████████▍| 235/250 [03:00<00:11,  1.30batch/s, loss=0.107] "
     ]
    },
    {
     "name": "stderr",
     "output_type": "stream",
     "text": [
      "\r",
      "Epoch 1/20:  94%|█████████▍| 236/250 [03:00<00:10,  1.29batch/s, loss=0.107]"
     ]
    },
    {
     "name": "stderr",
     "output_type": "stream",
     "text": [
      "\r",
      "Epoch 1/20:  94%|█████████▍| 236/250 [03:01<00:10,  1.29batch/s, loss=0.0934]"
     ]
    },
    {
     "name": "stderr",
     "output_type": "stream",
     "text": [
      "\r",
      "Epoch 1/20:  95%|█████████▍| 237/250 [03:01<00:10,  1.29batch/s, loss=0.0934]"
     ]
    },
    {
     "name": "stderr",
     "output_type": "stream",
     "text": [
      "\r",
      "Epoch 1/20:  95%|█████████▍| 237/250 [03:02<00:10,  1.29batch/s, loss=0.058] "
     ]
    },
    {
     "name": "stderr",
     "output_type": "stream",
     "text": [
      "\r",
      "Epoch 1/20:  95%|█████████▌| 238/250 [03:02<00:09,  1.29batch/s, loss=0.058]"
     ]
    },
    {
     "name": "stderr",
     "output_type": "stream",
     "text": [
      "\r",
      "Epoch 1/20:  95%|█████████▌| 238/250 [03:03<00:09,  1.29batch/s, loss=0.0893]"
     ]
    },
    {
     "name": "stderr",
     "output_type": "stream",
     "text": [
      "\r",
      "Epoch 1/20:  96%|█████████▌| 239/250 [03:03<00:08,  1.29batch/s, loss=0.0893]"
     ]
    },
    {
     "name": "stderr",
     "output_type": "stream",
     "text": [
      "\r",
      "Epoch 1/20:  96%|█████████▌| 239/250 [03:03<00:08,  1.29batch/s, loss=0.0853]"
     ]
    },
    {
     "name": "stderr",
     "output_type": "stream",
     "text": [
      "\r",
      "Epoch 1/20:  96%|█████████▌| 240/250 [03:03<00:07,  1.29batch/s, loss=0.0853]"
     ]
    },
    {
     "name": "stderr",
     "output_type": "stream",
     "text": [
      "\r",
      "Epoch 1/20:  96%|█████████▌| 240/250 [03:04<00:07,  1.29batch/s, loss=0.0708]"
     ]
    },
    {
     "name": "stderr",
     "output_type": "stream",
     "text": [
      "\r",
      "Epoch 1/20:  96%|█████████▋| 241/250 [03:04<00:06,  1.29batch/s, loss=0.0708]"
     ]
    },
    {
     "name": "stderr",
     "output_type": "stream",
     "text": [
      "\r",
      "Epoch 1/20:  96%|█████████▋| 241/250 [03:05<00:06,  1.29batch/s, loss=0.098] "
     ]
    },
    {
     "name": "stderr",
     "output_type": "stream",
     "text": [
      "\r",
      "Epoch 1/20:  97%|█████████▋| 242/250 [03:05<00:06,  1.29batch/s, loss=0.098]"
     ]
    },
    {
     "name": "stderr",
     "output_type": "stream",
     "text": [
      "\r",
      "Epoch 1/20:  97%|█████████▋| 242/250 [03:06<00:06,  1.29batch/s, loss=0.0848]"
     ]
    },
    {
     "name": "stderr",
     "output_type": "stream",
     "text": [
      "\r",
      "Epoch 1/20:  97%|█████████▋| 243/250 [03:06<00:05,  1.29batch/s, loss=0.0848]"
     ]
    },
    {
     "name": "stderr",
     "output_type": "stream",
     "text": [
      "\r",
      "Epoch 1/20:  97%|█████████▋| 243/250 [03:07<00:05,  1.29batch/s, loss=0.0604]"
     ]
    },
    {
     "name": "stderr",
     "output_type": "stream",
     "text": [
      "\r",
      "Epoch 1/20:  98%|█████████▊| 244/250 [03:07<00:04,  1.30batch/s, loss=0.0604]"
     ]
    },
    {
     "name": "stderr",
     "output_type": "stream",
     "text": [
      "\r",
      "Epoch 1/20:  98%|█████████▊| 244/250 [03:07<00:04,  1.30batch/s, loss=0.0987]"
     ]
    },
    {
     "name": "stderr",
     "output_type": "stream",
     "text": [
      "\r",
      "Epoch 1/20:  98%|█████████▊| 245/250 [03:07<00:03,  1.30batch/s, loss=0.0987]"
     ]
    },
    {
     "name": "stderr",
     "output_type": "stream",
     "text": [
      "\r",
      "Epoch 1/20:  98%|█████████▊| 245/250 [03:08<00:03,  1.30batch/s, loss=0.104] "
     ]
    },
    {
     "name": "stderr",
     "output_type": "stream",
     "text": [
      "\r",
      "Epoch 1/20:  98%|█████████▊| 246/250 [03:08<00:03,  1.30batch/s, loss=0.104]"
     ]
    },
    {
     "name": "stderr",
     "output_type": "stream",
     "text": [
      "\r",
      "Epoch 1/20:  98%|█████████▊| 246/250 [03:09<00:03,  1.30batch/s, loss=0.0682]"
     ]
    },
    {
     "name": "stderr",
     "output_type": "stream",
     "text": [
      "\r",
      "Epoch 1/20:  99%|█████████▉| 247/250 [03:09<00:02,  1.30batch/s, loss=0.0682]"
     ]
    },
    {
     "name": "stderr",
     "output_type": "stream",
     "text": [
      "\r",
      "Epoch 1/20:  99%|█████████▉| 247/250 [03:10<00:02,  1.30batch/s, loss=0.0828]"
     ]
    },
    {
     "name": "stderr",
     "output_type": "stream",
     "text": [
      "\r",
      "Epoch 1/20:  99%|█████████▉| 248/250 [03:10<00:01,  1.29batch/s, loss=0.0828]"
     ]
    },
    {
     "name": "stderr",
     "output_type": "stream",
     "text": [
      "\r",
      "Epoch 1/20:  99%|█████████▉| 248/250 [03:10<00:01,  1.29batch/s, loss=0.0948]"
     ]
    },
    {
     "name": "stderr",
     "output_type": "stream",
     "text": [
      "\r",
      "Epoch 1/20: 100%|█████████▉| 249/250 [03:10<00:00,  1.29batch/s, loss=0.0948]"
     ]
    },
    {
     "name": "stderr",
     "output_type": "stream",
     "text": [
      "\r",
      "Epoch 1/20: 100%|█████████▉| 249/250 [03:11<00:00,  1.29batch/s, loss=0.0546]"
     ]
    },
    {
     "name": "stderr",
     "output_type": "stream",
     "text": [
      "\r",
      "Epoch 1/20: 100%|██████████| 250/250 [03:11<00:00,  1.30batch/s, loss=0.0546]"
     ]
    },
    {
     "name": "stderr",
     "output_type": "stream",
     "text": [
      "\r",
      "Epoch 1/20: 100%|██████████| 250/250 [03:11<00:00,  1.30batch/s, loss=0.0546]"
     ]
    },
    {
     "name": "stderr",
     "output_type": "stream",
     "text": [
      "\n"
     ]
    },
    {
     "name": "stderr",
     "output_type": "stream",
     "text": [
      "\r",
      "Validation:   0%|          | 0/63 [00:00<?, ?batch/s]"
     ]
    },
    {
     "name": "stderr",
     "output_type": "stream",
     "text": [
      "\r",
      "Validation:   0%|          | 0/63 [00:01<?, ?batch/s, mean_iou=0.538]"
     ]
    },
    {
     "name": "stderr",
     "output_type": "stream",
     "text": [
      "\r",
      "Validation:   2%|▏         | 1/63 [00:01<01:20,  1.30s/batch, mean_iou=0.538]"
     ]
    },
    {
     "name": "stderr",
     "output_type": "stream",
     "text": [
      "\r",
      "Validation:   2%|▏         | 1/63 [00:02<01:20,  1.30s/batch, mean_iou=0.518]"
     ]
    },
    {
     "name": "stderr",
     "output_type": "stream",
     "text": [
      "\r",
      "Validation:   3%|▎         | 2/63 [00:02<01:02,  1.02s/batch, mean_iou=0.518]"
     ]
    },
    {
     "name": "stderr",
     "output_type": "stream",
     "text": [
      "\r",
      "Validation:   3%|▎         | 2/63 [00:02<01:02,  1.02s/batch, mean_iou=0.549]"
     ]
    },
    {
     "name": "stderr",
     "output_type": "stream",
     "text": [
      "\r",
      "Validation:   5%|▍         | 3/63 [00:02<00:55,  1.08batch/s, mean_iou=0.549]"
     ]
    },
    {
     "name": "stderr",
     "output_type": "stream",
     "text": [
      "\r",
      "Validation:   5%|▍         | 3/63 [00:03<00:55,  1.08batch/s, mean_iou=0.568]"
     ]
    },
    {
     "name": "stderr",
     "output_type": "stream",
     "text": [
      "\r",
      "Validation:   6%|▋         | 4/63 [00:03<00:52,  1.13batch/s, mean_iou=0.568]"
     ]
    },
    {
     "name": "stderr",
     "output_type": "stream",
     "text": [
      "\r",
      "Validation:   6%|▋         | 4/63 [00:04<00:52,  1.13batch/s, mean_iou=0.522]"
     ]
    },
    {
     "name": "stderr",
     "output_type": "stream",
     "text": [
      "\r",
      "Validation:   8%|▊         | 5/63 [00:04<00:50,  1.15batch/s, mean_iou=0.522]"
     ]
    },
    {
     "name": "stderr",
     "output_type": "stream",
     "text": [
      "\r",
      "Validation:   8%|▊         | 5/63 [00:05<00:50,  1.15batch/s, mean_iou=0.527]"
     ]
    },
    {
     "name": "stderr",
     "output_type": "stream",
     "text": [
      "\r",
      "Validation:  10%|▉         | 6/63 [00:05<00:48,  1.17batch/s, mean_iou=0.527]"
     ]
    },
    {
     "name": "stderr",
     "output_type": "stream",
     "text": [
      "\r",
      "Validation:  10%|▉         | 6/63 [00:06<00:48,  1.17batch/s, mean_iou=0.516]"
     ]
    },
    {
     "name": "stderr",
     "output_type": "stream",
     "text": [
      "\r",
      "Validation:  11%|█         | 7/63 [00:06<00:47,  1.18batch/s, mean_iou=0.516]"
     ]
    },
    {
     "name": "stderr",
     "output_type": "stream",
     "text": [
      "\r",
      "Validation:  11%|█         | 7/63 [00:07<00:47,  1.18batch/s, mean_iou=0.521]"
     ]
    },
    {
     "name": "stderr",
     "output_type": "stream",
     "text": [
      "\r",
      "Validation:  13%|█▎        | 8/63 [00:07<00:45,  1.20batch/s, mean_iou=0.521]"
     ]
    },
    {
     "name": "stderr",
     "output_type": "stream",
     "text": [
      "\r",
      "Validation:  13%|█▎        | 8/63 [00:07<00:45,  1.20batch/s, mean_iou=0.551]"
     ]
    },
    {
     "name": "stderr",
     "output_type": "stream",
     "text": [
      "\r",
      "Validation:  14%|█▍        | 9/63 [00:07<00:44,  1.21batch/s, mean_iou=0.551]"
     ]
    },
    {
     "name": "stderr",
     "output_type": "stream",
     "text": [
      "\r",
      "Validation:  14%|█▍        | 9/63 [00:08<00:44,  1.21batch/s, mean_iou=0.534]"
     ]
    },
    {
     "name": "stderr",
     "output_type": "stream",
     "text": [
      "\r",
      "Validation:  16%|█▌        | 10/63 [00:08<00:43,  1.22batch/s, mean_iou=0.534]"
     ]
    },
    {
     "name": "stderr",
     "output_type": "stream",
     "text": [
      "\r",
      "Validation:  16%|█▌        | 10/63 [00:09<00:43,  1.22batch/s, mean_iou=0.549]"
     ]
    },
    {
     "name": "stderr",
     "output_type": "stream",
     "text": [
      "\r",
      "Validation:  17%|█▋        | 11/63 [00:09<00:43,  1.19batch/s, mean_iou=0.549]"
     ]
    },
    {
     "name": "stderr",
     "output_type": "stream",
     "text": [
      "\r",
      "Validation:  17%|█▋        | 11/63 [00:10<00:43,  1.19batch/s, mean_iou=0.526]"
     ]
    },
    {
     "name": "stderr",
     "output_type": "stream",
     "text": [
      "\r",
      "Validation:  19%|█▉        | 12/63 [00:10<00:42,  1.20batch/s, mean_iou=0.526]"
     ]
    },
    {
     "name": "stderr",
     "output_type": "stream",
     "text": [
      "\r",
      "Validation:  19%|█▉        | 12/63 [00:11<00:42,  1.20batch/s, mean_iou=0.533]"
     ]
    },
    {
     "name": "stderr",
     "output_type": "stream",
     "text": [
      "\r",
      "Validation:  21%|██        | 13/63 [00:11<00:41,  1.21batch/s, mean_iou=0.533]"
     ]
    },
    {
     "name": "stderr",
     "output_type": "stream",
     "text": [
      "\r",
      "Validation:  21%|██        | 13/63 [00:12<00:41,  1.21batch/s, mean_iou=0.563]"
     ]
    },
    {
     "name": "stderr",
     "output_type": "stream",
     "text": [
      "\r",
      "Validation:  22%|██▏       | 14/63 [00:12<00:40,  1.20batch/s, mean_iou=0.563]"
     ]
    },
    {
     "name": "stderr",
     "output_type": "stream",
     "text": [
      "\r",
      "Validation:  22%|██▏       | 14/63 [00:12<00:40,  1.20batch/s, mean_iou=0.501]"
     ]
    },
    {
     "name": "stderr",
     "output_type": "stream",
     "text": [
      "\r",
      "Validation:  24%|██▍       | 15/63 [00:12<00:39,  1.20batch/s, mean_iou=0.501]"
     ]
    },
    {
     "name": "stderr",
     "output_type": "stream",
     "text": [
      "\r",
      "Validation:  24%|██▍       | 15/63 [00:13<00:39,  1.20batch/s, mean_iou=0.529]"
     ]
    },
    {
     "name": "stderr",
     "output_type": "stream",
     "text": [
      "\r",
      "Validation:  25%|██▌       | 16/63 [00:13<00:38,  1.21batch/s, mean_iou=0.529]"
     ]
    },
    {
     "name": "stderr",
     "output_type": "stream",
     "text": [
      "\r",
      "Validation:  25%|██▌       | 16/63 [00:14<00:38,  1.21batch/s, mean_iou=0.537]"
     ]
    },
    {
     "name": "stderr",
     "output_type": "stream",
     "text": [
      "\r",
      "Validation:  27%|██▋       | 17/63 [00:14<00:38,  1.21batch/s, mean_iou=0.537]"
     ]
    },
    {
     "name": "stderr",
     "output_type": "stream",
     "text": [
      "\r",
      "Validation:  27%|██▋       | 17/63 [00:15<00:38,  1.21batch/s, mean_iou=0.51] "
     ]
    },
    {
     "name": "stderr",
     "output_type": "stream",
     "text": [
      "\r",
      "Validation:  29%|██▊       | 18/63 [00:15<00:37,  1.21batch/s, mean_iou=0.51]"
     ]
    },
    {
     "name": "stderr",
     "output_type": "stream",
     "text": [
      "\r",
      "Validation:  29%|██▊       | 18/63 [00:16<00:37,  1.21batch/s, mean_iou=0.538]"
     ]
    },
    {
     "name": "stderr",
     "output_type": "stream",
     "text": [
      "\r",
      "Validation:  30%|███       | 19/63 [00:16<00:36,  1.19batch/s, mean_iou=0.538]"
     ]
    },
    {
     "name": "stderr",
     "output_type": "stream",
     "text": [
      "\r",
      "Validation:  30%|███       | 19/63 [00:17<00:36,  1.19batch/s, mean_iou=0.558]"
     ]
    },
    {
     "name": "stderr",
     "output_type": "stream",
     "text": [
      "\r",
      "Validation:  32%|███▏      | 20/63 [00:17<00:36,  1.19batch/s, mean_iou=0.558]"
     ]
    },
    {
     "name": "stderr",
     "output_type": "stream",
     "text": [
      "\r",
      "Validation:  32%|███▏      | 20/63 [00:17<00:36,  1.19batch/s, mean_iou=0.553]"
     ]
    },
    {
     "name": "stderr",
     "output_type": "stream",
     "text": [
      "\r",
      "Validation:  33%|███▎      | 21/63 [00:17<00:35,  1.19batch/s, mean_iou=0.553]"
     ]
    },
    {
     "name": "stderr",
     "output_type": "stream",
     "text": [
      "\r",
      "Validation:  33%|███▎      | 21/63 [00:18<00:35,  1.19batch/s, mean_iou=0.548]"
     ]
    },
    {
     "name": "stderr",
     "output_type": "stream",
     "text": [
      "\r",
      "Validation:  35%|███▍      | 22/63 [00:18<00:34,  1.19batch/s, mean_iou=0.548]"
     ]
    },
    {
     "name": "stderr",
     "output_type": "stream",
     "text": [
      "\r",
      "Validation:  35%|███▍      | 22/63 [00:19<00:34,  1.19batch/s, mean_iou=0.549]"
     ]
    },
    {
     "name": "stderr",
     "output_type": "stream",
     "text": [
      "\r",
      "Validation:  37%|███▋      | 23/63 [00:19<00:33,  1.19batch/s, mean_iou=0.549]"
     ]
    },
    {
     "name": "stderr",
     "output_type": "stream",
     "text": [
      "\r",
      "Validation:  37%|███▋      | 23/63 [00:20<00:33,  1.19batch/s, mean_iou=0.538]"
     ]
    },
    {
     "name": "stderr",
     "output_type": "stream",
     "text": [
      "\r",
      "Validation:  38%|███▊      | 24/63 [00:20<00:32,  1.19batch/s, mean_iou=0.538]"
     ]
    },
    {
     "name": "stderr",
     "output_type": "stream",
     "text": [
      "\r",
      "Validation:  38%|███▊      | 24/63 [00:21<00:32,  1.19batch/s, mean_iou=0.543]"
     ]
    },
    {
     "name": "stderr",
     "output_type": "stream",
     "text": [
      "\r",
      "Validation:  40%|███▉      | 25/63 [00:21<00:31,  1.20batch/s, mean_iou=0.543]"
     ]
    },
    {
     "name": "stderr",
     "output_type": "stream",
     "text": [
      "\r",
      "Validation:  40%|███▉      | 25/63 [00:22<00:31,  1.20batch/s, mean_iou=0.534]"
     ]
    },
    {
     "name": "stderr",
     "output_type": "stream",
     "text": [
      "\r",
      "Validation:  41%|████▏     | 26/63 [00:22<00:30,  1.20batch/s, mean_iou=0.534]"
     ]
    },
    {
     "name": "stderr",
     "output_type": "stream",
     "text": [
      "\r",
      "Validation:  41%|████▏     | 26/63 [00:22<00:30,  1.20batch/s, mean_iou=0.527]"
     ]
    },
    {
     "name": "stderr",
     "output_type": "stream",
     "text": [
      "\r",
      "Validation:  43%|████▎     | 27/63 [00:22<00:29,  1.21batch/s, mean_iou=0.527]"
     ]
    },
    {
     "name": "stderr",
     "output_type": "stream",
     "text": [
      "\r",
      "Validation:  43%|████▎     | 27/63 [00:23<00:29,  1.21batch/s, mean_iou=0.523]"
     ]
    },
    {
     "name": "stderr",
     "output_type": "stream",
     "text": [
      "\r",
      "Validation:  44%|████▍     | 28/63 [00:23<00:28,  1.21batch/s, mean_iou=0.523]"
     ]
    },
    {
     "name": "stderr",
     "output_type": "stream",
     "text": [
      "\r",
      "Validation:  44%|████▍     | 28/63 [00:24<00:28,  1.21batch/s, mean_iou=0.513]"
     ]
    },
    {
     "name": "stderr",
     "output_type": "stream",
     "text": [
      "\r",
      "Validation:  46%|████▌     | 29/63 [00:24<00:28,  1.20batch/s, mean_iou=0.513]"
     ]
    },
    {
     "name": "stderr",
     "output_type": "stream",
     "text": [
      "\r",
      "Validation:  46%|████▌     | 29/63 [00:25<00:28,  1.20batch/s, mean_iou=0.547]"
     ]
    },
    {
     "name": "stderr",
     "output_type": "stream",
     "text": [
      "\r",
      "Validation:  48%|████▊     | 30/63 [00:25<00:25,  1.27batch/s, mean_iou=0.547]"
     ]
    },
    {
     "name": "stderr",
     "output_type": "stream",
     "text": [
      "\r",
      "Validation:  48%|████▊     | 30/63 [00:26<00:25,  1.27batch/s, mean_iou=0.535]"
     ]
    },
    {
     "name": "stderr",
     "output_type": "stream",
     "text": [
      "\r",
      "Validation:  49%|████▉     | 31/63 [00:26<00:25,  1.26batch/s, mean_iou=0.535]"
     ]
    },
    {
     "name": "stderr",
     "output_type": "stream",
     "text": [
      "\r",
      "Validation:  49%|████▉     | 31/63 [00:26<00:25,  1.26batch/s, mean_iou=0.573]"
     ]
    },
    {
     "name": "stderr",
     "output_type": "stream",
     "text": [
      "\r",
      "Validation:  51%|█████     | 32/63 [00:26<00:24,  1.24batch/s, mean_iou=0.573]"
     ]
    },
    {
     "name": "stderr",
     "output_type": "stream",
     "text": [
      "\r",
      "Validation:  51%|█████     | 32/63 [00:27<00:24,  1.24batch/s, mean_iou=0.559]"
     ]
    },
    {
     "name": "stderr",
     "output_type": "stream",
     "text": [
      "\r",
      "Validation:  52%|█████▏    | 33/63 [00:27<00:24,  1.24batch/s, mean_iou=0.559]"
     ]
    },
    {
     "name": "stderr",
     "output_type": "stream",
     "text": [
      "\r",
      "Validation:  52%|█████▏    | 33/63 [00:28<00:24,  1.24batch/s, mean_iou=0.535]"
     ]
    },
    {
     "name": "stderr",
     "output_type": "stream",
     "text": [
      "\r",
      "Validation:  54%|█████▍    | 34/63 [00:28<00:24,  1.20batch/s, mean_iou=0.535]"
     ]
    },
    {
     "name": "stderr",
     "output_type": "stream",
     "text": [
      "\r",
      "Validation:  54%|█████▍    | 34/63 [00:29<00:24,  1.20batch/s, mean_iou=0.546]"
     ]
    },
    {
     "name": "stderr",
     "output_type": "stream",
     "text": [
      "\r",
      "Validation:  56%|█████▌    | 35/63 [00:29<00:23,  1.19batch/s, mean_iou=0.546]"
     ]
    },
    {
     "name": "stderr",
     "output_type": "stream",
     "text": [
      "\r",
      "Validation:  56%|█████▌    | 35/63 [00:30<00:23,  1.19batch/s, mean_iou=0.512]"
     ]
    },
    {
     "name": "stderr",
     "output_type": "stream",
     "text": [
      "\r",
      "Validation:  57%|█████▋    | 36/63 [00:30<00:22,  1.20batch/s, mean_iou=0.512]"
     ]
    },
    {
     "name": "stderr",
     "output_type": "stream",
     "text": [
      "\r",
      "Validation:  57%|█████▋    | 36/63 [00:30<00:22,  1.20batch/s, mean_iou=0.551]"
     ]
    },
    {
     "name": "stderr",
     "output_type": "stream",
     "text": [
      "\r",
      "Validation:  59%|█████▊    | 37/63 [00:30<00:20,  1.28batch/s, mean_iou=0.551]"
     ]
    },
    {
     "name": "stderr",
     "output_type": "stream",
     "text": [
      "\r",
      "Validation:  59%|█████▊    | 37/63 [00:31<00:20,  1.28batch/s, mean_iou=0.526]"
     ]
    },
    {
     "name": "stderr",
     "output_type": "stream",
     "text": [
      "\r",
      "Validation:  60%|██████    | 38/63 [00:31<00:19,  1.26batch/s, mean_iou=0.526]"
     ]
    },
    {
     "name": "stderr",
     "output_type": "stream",
     "text": [
      "\r",
      "Validation:  60%|██████    | 38/63 [00:32<00:19,  1.26batch/s, mean_iou=0.509]"
     ]
    },
    {
     "name": "stderr",
     "output_type": "stream",
     "text": [
      "\r",
      "Validation:  62%|██████▏   | 39/63 [00:32<00:19,  1.24batch/s, mean_iou=0.509]"
     ]
    },
    {
     "name": "stderr",
     "output_type": "stream",
     "text": [
      "\r",
      "Validation:  62%|██████▏   | 39/63 [00:33<00:19,  1.24batch/s, mean_iou=0.515]"
     ]
    },
    {
     "name": "stderr",
     "output_type": "stream",
     "text": [
      "\r",
      "Validation:  63%|██████▎   | 40/63 [00:33<00:18,  1.22batch/s, mean_iou=0.515]"
     ]
    },
    {
     "name": "stderr",
     "output_type": "stream",
     "text": [
      "\r",
      "Validation:  63%|██████▎   | 40/63 [00:34<00:18,  1.22batch/s, mean_iou=0.537]"
     ]
    },
    {
     "name": "stderr",
     "output_type": "stream",
     "text": [
      "\r",
      "Validation:  65%|██████▌   | 41/63 [00:34<00:17,  1.22batch/s, mean_iou=0.537]"
     ]
    },
    {
     "name": "stderr",
     "output_type": "stream",
     "text": [
      "\r",
      "Validation:  65%|██████▌   | 41/63 [00:35<00:17,  1.22batch/s, mean_iou=0.512]"
     ]
    },
    {
     "name": "stderr",
     "output_type": "stream",
     "text": [
      "\r",
      "Validation:  67%|██████▋   | 42/63 [00:35<00:17,  1.23batch/s, mean_iou=0.512]"
     ]
    },
    {
     "name": "stderr",
     "output_type": "stream",
     "text": [
      "\r",
      "Validation:  67%|██████▋   | 42/63 [00:35<00:17,  1.23batch/s, mean_iou=0.52] "
     ]
    },
    {
     "name": "stderr",
     "output_type": "stream",
     "text": [
      "\r",
      "Validation:  68%|██████▊   | 43/63 [00:35<00:16,  1.23batch/s, mean_iou=0.52]"
     ]
    },
    {
     "name": "stderr",
     "output_type": "stream",
     "text": [
      "\r",
      "Validation:  68%|██████▊   | 43/63 [00:36<00:16,  1.23batch/s, mean_iou=0.563]"
     ]
    },
    {
     "name": "stderr",
     "output_type": "stream",
     "text": [
      "\r",
      "Validation:  70%|██████▉   | 44/63 [00:36<00:15,  1.22batch/s, mean_iou=0.563]"
     ]
    },
    {
     "name": "stderr",
     "output_type": "stream",
     "text": [
      "\r",
      "Validation:  70%|██████▉   | 44/63 [00:37<00:15,  1.22batch/s, mean_iou=0.516]"
     ]
    },
    {
     "name": "stderr",
     "output_type": "stream",
     "text": [
      "\r",
      "Validation:  71%|███████▏  | 45/63 [00:37<00:14,  1.22batch/s, mean_iou=0.516]"
     ]
    },
    {
     "name": "stderr",
     "output_type": "stream",
     "text": [
      "\r",
      "Validation:  71%|███████▏  | 45/63 [00:38<00:14,  1.22batch/s, mean_iou=0.53] "
     ]
    },
    {
     "name": "stderr",
     "output_type": "stream",
     "text": [
      "\r",
      "Validation:  73%|███████▎  | 46/63 [00:38<00:13,  1.22batch/s, mean_iou=0.53]"
     ]
    },
    {
     "name": "stderr",
     "output_type": "stream",
     "text": [
      "\r",
      "Validation:  73%|███████▎  | 46/63 [00:39<00:13,  1.22batch/s, mean_iou=0.547]"
     ]
    },
    {
     "name": "stderr",
     "output_type": "stream",
     "text": [
      "\r",
      "Validation:  75%|███████▍  | 47/63 [00:39<00:13,  1.22batch/s, mean_iou=0.547]"
     ]
    },
    {
     "name": "stderr",
     "output_type": "stream",
     "text": [
      "\r",
      "Validation:  75%|███████▍  | 47/63 [00:39<00:13,  1.22batch/s, mean_iou=0.543]"
     ]
    },
    {
     "name": "stderr",
     "output_type": "stream",
     "text": [
      "\r",
      "Validation:  76%|███████▌  | 48/63 [00:39<00:12,  1.22batch/s, mean_iou=0.543]"
     ]
    },
    {
     "name": "stderr",
     "output_type": "stream",
     "text": [
      "\r",
      "Validation:  76%|███████▌  | 48/63 [00:40<00:12,  1.22batch/s, mean_iou=0.512]"
     ]
    },
    {
     "name": "stderr",
     "output_type": "stream",
     "text": [
      "\r",
      "Validation:  78%|███████▊  | 49/63 [00:40<00:11,  1.22batch/s, mean_iou=0.512]"
     ]
    },
    {
     "name": "stderr",
     "output_type": "stream",
     "text": [
      "\r",
      "Validation:  78%|███████▊  | 49/63 [00:41<00:11,  1.22batch/s, mean_iou=0.531]"
     ]
    },
    {
     "name": "stderr",
     "output_type": "stream",
     "text": [
      "\r",
      "Validation:  79%|███████▉  | 50/63 [00:41<00:10,  1.22batch/s, mean_iou=0.531]"
     ]
    },
    {
     "name": "stderr",
     "output_type": "stream",
     "text": [
      "\r",
      "Validation:  79%|███████▉  | 50/63 [00:42<00:10,  1.22batch/s, mean_iou=0.524]"
     ]
    },
    {
     "name": "stderr",
     "output_type": "stream",
     "text": [
      "\r",
      "Validation:  81%|████████  | 51/63 [00:42<00:09,  1.22batch/s, mean_iou=0.524]"
     ]
    },
    {
     "name": "stderr",
     "output_type": "stream",
     "text": [
      "\r",
      "Validation:  81%|████████  | 51/63 [00:43<00:09,  1.22batch/s, mean_iou=0.52] "
     ]
    },
    {
     "name": "stderr",
     "output_type": "stream",
     "text": [
      "\r",
      "Validation:  83%|████████▎ | 52/63 [00:43<00:09,  1.21batch/s, mean_iou=0.52]"
     ]
    },
    {
     "name": "stderr",
     "output_type": "stream",
     "text": [
      "\r",
      "Validation:  83%|████████▎ | 52/63 [00:44<00:09,  1.21batch/s, mean_iou=0.529]"
     ]
    },
    {
     "name": "stderr",
     "output_type": "stream",
     "text": [
      "\r",
      "Validation:  84%|████████▍ | 53/63 [00:44<00:08,  1.21batch/s, mean_iou=0.529]"
     ]
    },
    {
     "name": "stderr",
     "output_type": "stream",
     "text": [
      "\r",
      "Validation:  84%|████████▍ | 53/63 [00:44<00:08,  1.21batch/s, mean_iou=0.551]"
     ]
    },
    {
     "name": "stderr",
     "output_type": "stream",
     "text": [
      "\r",
      "Validation:  86%|████████▌ | 54/63 [00:44<00:07,  1.22batch/s, mean_iou=0.551]"
     ]
    },
    {
     "name": "stderr",
     "output_type": "stream",
     "text": [
      "\r",
      "Validation:  86%|████████▌ | 54/63 [00:45<00:07,  1.22batch/s, mean_iou=0.529]"
     ]
    },
    {
     "name": "stderr",
     "output_type": "stream",
     "text": [
      "\r",
      "Validation:  87%|████████▋ | 55/63 [00:45<00:06,  1.21batch/s, mean_iou=0.529]"
     ]
    },
    {
     "name": "stderr",
     "output_type": "stream",
     "text": [
      "\r",
      "Validation:  87%|████████▋ | 55/63 [00:46<00:06,  1.21batch/s, mean_iou=0.555]"
     ]
    },
    {
     "name": "stderr",
     "output_type": "stream",
     "text": [
      "\r",
      "Validation:  89%|████████▉ | 56/63 [00:46<00:05,  1.20batch/s, mean_iou=0.555]"
     ]
    },
    {
     "name": "stderr",
     "output_type": "stream",
     "text": [
      "\r",
      "Validation:  89%|████████▉ | 56/63 [00:47<00:05,  1.20batch/s, mean_iou=0.523]"
     ]
    },
    {
     "name": "stderr",
     "output_type": "stream",
     "text": [
      "\r",
      "Validation:  90%|█████████ | 57/63 [00:47<00:04,  1.20batch/s, mean_iou=0.523]"
     ]
    },
    {
     "name": "stderr",
     "output_type": "stream",
     "text": [
      "\r",
      "Validation:  90%|█████████ | 57/63 [00:48<00:04,  1.20batch/s, mean_iou=0.543]"
     ]
    },
    {
     "name": "stderr",
     "output_type": "stream",
     "text": [
      "\r",
      "Validation:  92%|█████████▏| 58/63 [00:48<00:04,  1.21batch/s, mean_iou=0.543]"
     ]
    },
    {
     "name": "stderr",
     "output_type": "stream",
     "text": [
      "\r",
      "Validation:  92%|█████████▏| 58/63 [00:49<00:04,  1.21batch/s, mean_iou=0.53] "
     ]
    },
    {
     "name": "stderr",
     "output_type": "stream",
     "text": [
      "\r",
      "Validation:  94%|█████████▎| 59/63 [00:49<00:03,  1.20batch/s, mean_iou=0.53]"
     ]
    },
    {
     "name": "stderr",
     "output_type": "stream",
     "text": [
      "\r",
      "Validation:  94%|█████████▎| 59/63 [00:49<00:03,  1.20batch/s, mean_iou=0.546]"
     ]
    },
    {
     "name": "stderr",
     "output_type": "stream",
     "text": [
      "\r",
      "Validation:  95%|█████████▌| 60/63 [00:49<00:02,  1.20batch/s, mean_iou=0.546]"
     ]
    },
    {
     "name": "stderr",
     "output_type": "stream",
     "text": [
      "\r",
      "Validation:  95%|█████████▌| 60/63 [00:50<00:02,  1.20batch/s, mean_iou=0.524]"
     ]
    },
    {
     "name": "stderr",
     "output_type": "stream",
     "text": [
      "\r",
      "Validation:  97%|█████████▋| 61/63 [00:50<00:01,  1.20batch/s, mean_iou=0.524]"
     ]
    },
    {
     "name": "stderr",
     "output_type": "stream",
     "text": [
      "\r",
      "Validation:  97%|█████████▋| 61/63 [00:51<00:01,  1.20batch/s, mean_iou=0.518]"
     ]
    },
    {
     "name": "stderr",
     "output_type": "stream",
     "text": [
      "\r",
      "Validation:  98%|█████████▊| 62/63 [00:51<00:00,  1.28batch/s, mean_iou=0.518]"
     ]
    },
    {
     "name": "stderr",
     "output_type": "stream",
     "text": [
      "\r",
      "Validation:  98%|█████████▊| 62/63 [00:51<00:00,  1.28batch/s, mean_iou=0.531]"
     ]
    },
    {
     "name": "stderr",
     "output_type": "stream",
     "text": [
      "\r",
      "Validation: 100%|██████████| 63/63 [00:51<00:00,  1.51batch/s, mean_iou=0.531]"
     ]
    },
    {
     "name": "stderr",
     "output_type": "stream",
     "text": [
      "\r",
      "Validation: 100%|██████████| 63/63 [00:51<00:00,  1.22batch/s, mean_iou=0.531]"
     ]
    },
    {
     "name": "stderr",
     "output_type": "stream",
     "text": [
      "\n"
     ]
    },
    {
     "name": "stdout",
     "output_type": "stream",
     "text": [
      "Epoch 1/20 - Mean IoU: 0.5343\n",
      "Validation IoU improved from 0.0000 to 0.5343\n"
     ]
    },
    {
     "name": "stderr",
     "output_type": "stream",
     "text": [
      "\r",
      "Epoch 2/20:   0%|          | 0/250 [00:00<?, ?batch/s]"
     ]
    },
    {
     "name": "stderr",
     "output_type": "stream",
     "text": [
      "/opt/conda/lib/python3.10/site-packages/torch/utils/data/dataloader.py:557: UserWarning: This DataLoader will create 6 worker processes in total. Our suggested max number of worker in current system is 4, which is smaller than what this DataLoader is going to create. Please be aware that excessive worker creation might get DataLoader running slow or even freeze, lower the worker number to avoid potential slowness/freeze if necessary.\n",
      "  warnings.warn(_create_warning_msg(\n"
     ]
    },
    {
     "name": "stderr",
     "output_type": "stream",
     "text": [
      "\r",
      "Epoch 2/20:   0%|          | 0/250 [00:01<?, ?batch/s, loss=0.063]"
     ]
    },
    {
     "name": "stderr",
     "output_type": "stream",
     "text": [
      "\r",
      "Epoch 2/20:   0%|          | 1/250 [00:01<05:25,  1.31s/batch, loss=0.063]"
     ]
    },
    {
     "name": "stderr",
     "output_type": "stream",
     "text": [
      "\r",
      "Epoch 2/20:   0%|          | 1/250 [00:02<05:25,  1.31s/batch, loss=0.0899]"
     ]
    },
    {
     "name": "stderr",
     "output_type": "stream",
     "text": [
      "\r",
      "Epoch 2/20:   1%|          | 2/250 [00:02<04:09,  1.01s/batch, loss=0.0899]"
     ]
    },
    {
     "name": "stderr",
     "output_type": "stream",
     "text": [
      "\r",
      "Epoch 2/20:   1%|          | 2/250 [00:02<04:09,  1.01s/batch, loss=0.0949]"
     ]
    },
    {
     "name": "stderr",
     "output_type": "stream",
     "text": [
      "\r",
      "Epoch 2/20:   1%|          | 3/250 [00:02<03:44,  1.10batch/s, loss=0.0949]"
     ]
    },
    {
     "name": "stderr",
     "output_type": "stream",
     "text": [
      "\r",
      "Epoch 2/20:   1%|          | 3/250 [00:03<03:44,  1.10batch/s, loss=0.0591]"
     ]
    },
    {
     "name": "stderr",
     "output_type": "stream",
     "text": [
      "\r",
      "Epoch 2/20:   2%|▏         | 4/250 [00:03<03:30,  1.17batch/s, loss=0.0591]"
     ]
    },
    {
     "name": "stderr",
     "output_type": "stream",
     "text": [
      "\r",
      "Epoch 2/20:   2%|▏         | 4/250 [00:04<03:30,  1.17batch/s, loss=0.0968]"
     ]
    },
    {
     "name": "stderr",
     "output_type": "stream",
     "text": [
      "\r",
      "Epoch 2/20:   2%|▏         | 5/250 [00:04<03:22,  1.21batch/s, loss=0.0968]"
     ]
    },
    {
     "name": "stderr",
     "output_type": "stream",
     "text": [
      "\r",
      "Epoch 2/20:   2%|▏         | 5/250 [00:05<03:22,  1.21batch/s, loss=0.0513]"
     ]
    },
    {
     "name": "stderr",
     "output_type": "stream",
     "text": [
      "\r",
      "Epoch 2/20:   2%|▏         | 6/250 [00:05<03:18,  1.23batch/s, loss=0.0513]"
     ]
    },
    {
     "name": "stderr",
     "output_type": "stream",
     "text": [
      "\r",
      "Epoch 2/20:   2%|▏         | 6/250 [00:06<03:18,  1.23batch/s, loss=0.0612]"
     ]
    },
    {
     "name": "stderr",
     "output_type": "stream",
     "text": [
      "\r",
      "Epoch 2/20:   3%|▎         | 7/250 [00:06<03:17,  1.23batch/s, loss=0.0612]"
     ]
    },
    {
     "name": "stderr",
     "output_type": "stream",
     "text": [
      "\r",
      "Epoch 2/20:   3%|▎         | 7/250 [00:06<03:17,  1.23batch/s, loss=0.0905]"
     ]
    },
    {
     "name": "stderr",
     "output_type": "stream",
     "text": [
      "\r",
      "Epoch 2/20:   3%|▎         | 8/250 [00:06<03:15,  1.24batch/s, loss=0.0905]"
     ]
    },
    {
     "name": "stderr",
     "output_type": "stream",
     "text": [
      "\r",
      "Epoch 2/20:   3%|▎         | 8/250 [00:07<03:15,  1.24batch/s, loss=0.125] "
     ]
    },
    {
     "name": "stderr",
     "output_type": "stream",
     "text": [
      "\r",
      "Epoch 2/20:   4%|▎         | 9/250 [00:07<03:14,  1.24batch/s, loss=0.125]"
     ]
    },
    {
     "name": "stderr",
     "output_type": "stream",
     "text": [
      "\r",
      "Epoch 2/20:   4%|▎         | 9/250 [00:08<03:14,  1.24batch/s, loss=0.0827]"
     ]
    },
    {
     "name": "stderr",
     "output_type": "stream",
     "text": [
      "\r",
      "Epoch 2/20:   4%|▍         | 10/250 [00:08<03:13,  1.24batch/s, loss=0.0827]"
     ]
    },
    {
     "name": "stderr",
     "output_type": "stream",
     "text": [
      "\r",
      "Epoch 2/20:   4%|▍         | 10/250 [00:09<03:13,  1.24batch/s, loss=0.0933]"
     ]
    },
    {
     "name": "stderr",
     "output_type": "stream",
     "text": [
      "\r",
      "Epoch 2/20:   4%|▍         | 11/250 [00:09<03:12,  1.24batch/s, loss=0.0933]"
     ]
    },
    {
     "name": "stderr",
     "output_type": "stream",
     "text": [
      "\r",
      "Epoch 2/20:   4%|▍         | 11/250 [00:10<03:12,  1.24batch/s, loss=0.0914]"
     ]
    },
    {
     "name": "stderr",
     "output_type": "stream",
     "text": [
      "\r",
      "Epoch 2/20:   5%|▍         | 12/250 [00:10<03:11,  1.24batch/s, loss=0.0914]"
     ]
    },
    {
     "name": "stderr",
     "output_type": "stream",
     "text": [
      "\r",
      "Epoch 2/20:   5%|▍         | 12/250 [00:10<03:11,  1.24batch/s, loss=0.0853]"
     ]
    },
    {
     "name": "stderr",
     "output_type": "stream",
     "text": [
      "\r",
      "Epoch 2/20:   5%|▌         | 13/250 [00:10<03:10,  1.24batch/s, loss=0.0853]"
     ]
    },
    {
     "name": "stderr",
     "output_type": "stream",
     "text": [
      "\r",
      "Epoch 2/20:   5%|▌         | 13/250 [00:11<03:10,  1.24batch/s, loss=0.0861]"
     ]
    },
    {
     "name": "stderr",
     "output_type": "stream",
     "text": [
      "\r",
      "Epoch 2/20:   6%|▌         | 14/250 [00:11<03:08,  1.25batch/s, loss=0.0861]"
     ]
    },
    {
     "name": "stderr",
     "output_type": "stream",
     "text": [
      "\r",
      "Epoch 2/20:   6%|▌         | 14/250 [00:12<03:08,  1.25batch/s, loss=0.0854]"
     ]
    },
    {
     "name": "stderr",
     "output_type": "stream",
     "text": [
      "\r",
      "Epoch 2/20:   6%|▌         | 15/250 [00:12<03:08,  1.24batch/s, loss=0.0854]"
     ]
    },
    {
     "name": "stderr",
     "output_type": "stream",
     "text": [
      "\r",
      "Epoch 2/20:   6%|▌         | 15/250 [00:13<03:08,  1.24batch/s, loss=0.0858]"
     ]
    },
    {
     "name": "stderr",
     "output_type": "stream",
     "text": [
      "\r",
      "Epoch 2/20:   6%|▋         | 16/250 [00:13<03:08,  1.24batch/s, loss=0.0858]"
     ]
    },
    {
     "name": "stderr",
     "output_type": "stream",
     "text": [
      "\r",
      "Epoch 2/20:   6%|▋         | 16/250 [00:14<03:08,  1.24batch/s, loss=0.0525]"
     ]
    },
    {
     "name": "stderr",
     "output_type": "stream",
     "text": [
      "\r",
      "Epoch 2/20:   7%|▋         | 17/250 [00:14<03:06,  1.25batch/s, loss=0.0525]"
     ]
    },
    {
     "name": "stderr",
     "output_type": "stream",
     "text": [
      "\r",
      "Epoch 2/20:   7%|▋         | 17/250 [00:14<03:06,  1.25batch/s, loss=0.0844]"
     ]
    },
    {
     "name": "stderr",
     "output_type": "stream",
     "text": [
      "\r",
      "Epoch 2/20:   7%|▋         | 18/250 [00:14<03:06,  1.24batch/s, loss=0.0844]"
     ]
    },
    {
     "name": "stderr",
     "output_type": "stream",
     "text": [
      "\r",
      "Epoch 2/20:   7%|▋         | 18/250 [00:15<03:06,  1.24batch/s, loss=0.0761]"
     ]
    },
    {
     "name": "stderr",
     "output_type": "stream",
     "text": [
      "\r",
      "Epoch 2/20:   8%|▊         | 19/250 [00:15<03:05,  1.25batch/s, loss=0.0761]"
     ]
    },
    {
     "name": "stderr",
     "output_type": "stream",
     "text": [
      "\r",
      "Epoch 2/20:   8%|▊         | 19/250 [00:16<03:05,  1.25batch/s, loss=0.0554]"
     ]
    },
    {
     "name": "stderr",
     "output_type": "stream",
     "text": [
      "\r",
      "Epoch 2/20:   8%|▊         | 20/250 [00:16<03:04,  1.25batch/s, loss=0.0554]"
     ]
    },
    {
     "name": "stderr",
     "output_type": "stream",
     "text": [
      "\r",
      "Epoch 2/20:   8%|▊         | 20/250 [00:17<03:04,  1.25batch/s, loss=0.0863]"
     ]
    },
    {
     "name": "stderr",
     "output_type": "stream",
     "text": [
      "\r",
      "Epoch 2/20:   8%|▊         | 21/250 [00:17<03:03,  1.25batch/s, loss=0.0863]"
     ]
    },
    {
     "name": "stderr",
     "output_type": "stream",
     "text": [
      "\r",
      "Epoch 2/20:   8%|▊         | 21/250 [00:18<03:03,  1.25batch/s, loss=0.0668]"
     ]
    },
    {
     "name": "stderr",
     "output_type": "stream",
     "text": [
      "\r",
      "Epoch 2/20:   9%|▉         | 22/250 [00:18<03:03,  1.24batch/s, loss=0.0668]"
     ]
    },
    {
     "name": "stderr",
     "output_type": "stream",
     "text": [
      "\r",
      "Epoch 2/20:   9%|▉         | 22/250 [00:18<03:03,  1.24batch/s, loss=0.0594]"
     ]
    },
    {
     "name": "stderr",
     "output_type": "stream",
     "text": [
      "\r",
      "Epoch 2/20:   9%|▉         | 23/250 [00:18<03:02,  1.24batch/s, loss=0.0594]"
     ]
    },
    {
     "name": "stderr",
     "output_type": "stream",
     "text": [
      "\r",
      "Epoch 2/20:   9%|▉         | 23/250 [00:19<03:02,  1.24batch/s, loss=0.067] "
     ]
    },
    {
     "name": "stderr",
     "output_type": "stream",
     "text": [
      "\r",
      "Epoch 2/20:  10%|▉         | 24/250 [00:19<03:01,  1.24batch/s, loss=0.067]"
     ]
    },
    {
     "name": "stderr",
     "output_type": "stream",
     "text": [
      "\r",
      "Epoch 2/20:  10%|▉         | 24/250 [00:20<03:01,  1.24batch/s, loss=0.0504]"
     ]
    },
    {
     "name": "stderr",
     "output_type": "stream",
     "text": [
      "\r",
      "Epoch 2/20:  10%|█         | 25/250 [00:20<03:00,  1.25batch/s, loss=0.0504]"
     ]
    },
    {
     "name": "stderr",
     "output_type": "stream",
     "text": [
      "\r",
      "Epoch 2/20:  10%|█         | 25/250 [00:21<03:00,  1.25batch/s, loss=0.0505]"
     ]
    },
    {
     "name": "stderr",
     "output_type": "stream",
     "text": [
      "\r",
      "Epoch 2/20:  10%|█         | 26/250 [00:21<03:00,  1.24batch/s, loss=0.0505]"
     ]
    },
    {
     "name": "stderr",
     "output_type": "stream",
     "text": [
      "\r",
      "Epoch 2/20:  10%|█         | 26/250 [00:22<03:00,  1.24batch/s, loss=0.134] "
     ]
    },
    {
     "name": "stderr",
     "output_type": "stream",
     "text": [
      "\r",
      "Epoch 2/20:  11%|█         | 27/250 [00:22<02:59,  1.24batch/s, loss=0.134]"
     ]
    },
    {
     "name": "stderr",
     "output_type": "stream",
     "text": [
      "\r",
      "Epoch 2/20:  11%|█         | 27/250 [00:22<02:59,  1.24batch/s, loss=0.0741]"
     ]
    },
    {
     "name": "stderr",
     "output_type": "stream",
     "text": [
      "\r",
      "Epoch 2/20:  11%|█         | 28/250 [00:22<02:58,  1.24batch/s, loss=0.0741]"
     ]
    },
    {
     "name": "stderr",
     "output_type": "stream",
     "text": [
      "\r",
      "Epoch 2/20:  11%|█         | 28/250 [00:23<02:58,  1.24batch/s, loss=0.129] "
     ]
    },
    {
     "name": "stderr",
     "output_type": "stream",
     "text": [
      "\r",
      "Epoch 2/20:  12%|█▏        | 29/250 [00:23<02:56,  1.25batch/s, loss=0.129]"
     ]
    },
    {
     "name": "stderr",
     "output_type": "stream",
     "text": [
      "\r",
      "Epoch 2/20:  12%|█▏        | 29/250 [00:24<02:56,  1.25batch/s, loss=0.0995]"
     ]
    },
    {
     "name": "stderr",
     "output_type": "stream",
     "text": [
      "\r",
      "Epoch 2/20:  12%|█▏        | 30/250 [00:24<02:56,  1.25batch/s, loss=0.0995]"
     ]
    },
    {
     "name": "stderr",
     "output_type": "stream",
     "text": [
      "\r",
      "Epoch 2/20:  12%|█▏        | 30/250 [00:25<02:56,  1.25batch/s, loss=0.0624]"
     ]
    },
    {
     "name": "stderr",
     "output_type": "stream",
     "text": [
      "\r",
      "Epoch 2/20:  12%|█▏        | 31/250 [00:25<02:54,  1.26batch/s, loss=0.0624]"
     ]
    },
    {
     "name": "stderr",
     "output_type": "stream",
     "text": [
      "\r",
      "Epoch 2/20:  12%|█▏        | 31/250 [00:26<02:54,  1.26batch/s, loss=0.0907]"
     ]
    },
    {
     "name": "stderr",
     "output_type": "stream",
     "text": [
      "\r",
      "Epoch 2/20:  13%|█▎        | 32/250 [00:26<02:54,  1.25batch/s, loss=0.0907]"
     ]
    },
    {
     "name": "stderr",
     "output_type": "stream",
     "text": [
      "\r",
      "Epoch 2/20:  13%|█▎        | 32/250 [00:26<02:54,  1.25batch/s, loss=0.0763]"
     ]
    },
    {
     "name": "stderr",
     "output_type": "stream",
     "text": [
      "\r",
      "Epoch 2/20:  13%|█▎        | 33/250 [00:26<02:54,  1.24batch/s, loss=0.0763]"
     ]
    },
    {
     "name": "stderr",
     "output_type": "stream",
     "text": [
      "\r",
      "Epoch 2/20:  13%|█▎        | 33/250 [00:27<02:54,  1.24batch/s, loss=0.149] "
     ]
    },
    {
     "name": "stderr",
     "output_type": "stream",
     "text": [
      "\r",
      "Epoch 2/20:  14%|█▎        | 34/250 [00:27<02:55,  1.23batch/s, loss=0.149]"
     ]
    },
    {
     "name": "stderr",
     "output_type": "stream",
     "text": [
      "\r",
      "Epoch 2/20:  14%|█▎        | 34/250 [00:28<02:55,  1.23batch/s, loss=0.0932]"
     ]
    },
    {
     "name": "stderr",
     "output_type": "stream",
     "text": [
      "\r",
      "Epoch 2/20:  14%|█▍        | 35/250 [00:28<02:52,  1.24batch/s, loss=0.0932]"
     ]
    },
    {
     "name": "stderr",
     "output_type": "stream",
     "text": [
      "\r",
      "Epoch 2/20:  14%|█▍        | 35/250 [00:29<02:52,  1.24batch/s, loss=0.0814]"
     ]
    },
    {
     "name": "stderr",
     "output_type": "stream",
     "text": [
      "\r",
      "Epoch 2/20:  14%|█▍        | 36/250 [00:29<02:51,  1.25batch/s, loss=0.0814]"
     ]
    },
    {
     "name": "stderr",
     "output_type": "stream",
     "text": [
      "\r",
      "Epoch 2/20:  14%|█▍        | 36/250 [00:30<02:51,  1.25batch/s, loss=0.0895]"
     ]
    },
    {
     "name": "stderr",
     "output_type": "stream",
     "text": [
      "\r",
      "Epoch 2/20:  15%|█▍        | 37/250 [00:30<02:50,  1.25batch/s, loss=0.0895]"
     ]
    },
    {
     "name": "stderr",
     "output_type": "stream",
     "text": [
      "\r",
      "Epoch 2/20:  15%|█▍        | 37/250 [00:30<02:50,  1.25batch/s, loss=0.0613]"
     ]
    },
    {
     "name": "stderr",
     "output_type": "stream",
     "text": [
      "\r",
      "Epoch 2/20:  15%|█▌        | 38/250 [00:30<02:48,  1.26batch/s, loss=0.0613]"
     ]
    },
    {
     "name": "stderr",
     "output_type": "stream",
     "text": [
      "\r",
      "Epoch 2/20:  15%|█▌        | 38/250 [00:31<02:48,  1.26batch/s, loss=0.103] "
     ]
    },
    {
     "name": "stderr",
     "output_type": "stream",
     "text": [
      "\r",
      "Epoch 2/20:  16%|█▌        | 39/250 [00:31<02:48,  1.25batch/s, loss=0.103]"
     ]
    },
    {
     "name": "stderr",
     "output_type": "stream",
     "text": [
      "\r",
      "Epoch 2/20:  16%|█▌        | 39/250 [00:32<02:48,  1.25batch/s, loss=0.0684]"
     ]
    },
    {
     "name": "stderr",
     "output_type": "stream",
     "text": [
      "\r",
      "Epoch 2/20:  16%|█▌        | 40/250 [00:32<02:45,  1.27batch/s, loss=0.0684]"
     ]
    },
    {
     "name": "stderr",
     "output_type": "stream",
     "text": [
      "\r",
      "Epoch 2/20:  16%|█▌        | 40/250 [00:33<02:45,  1.27batch/s, loss=0.07]  "
     ]
    },
    {
     "name": "stderr",
     "output_type": "stream",
     "text": [
      "\r",
      "Epoch 2/20:  16%|█▋        | 41/250 [00:33<02:46,  1.26batch/s, loss=0.07]"
     ]
    },
    {
     "name": "stderr",
     "output_type": "stream",
     "text": [
      "\r",
      "Epoch 2/20:  16%|█▋        | 41/250 [00:34<02:46,  1.26batch/s, loss=0.0937]"
     ]
    },
    {
     "name": "stderr",
     "output_type": "stream",
     "text": [
      "\r",
      "Epoch 2/20:  17%|█▋        | 42/250 [00:34<02:46,  1.25batch/s, loss=0.0937]"
     ]
    },
    {
     "name": "stderr",
     "output_type": "stream",
     "text": [
      "\r",
      "Epoch 2/20:  17%|█▋        | 42/250 [00:34<02:46,  1.25batch/s, loss=0.0493]"
     ]
    },
    {
     "name": "stderr",
     "output_type": "stream",
     "text": [
      "\r",
      "Epoch 2/20:  17%|█▋        | 43/250 [00:34<02:45,  1.25batch/s, loss=0.0493]"
     ]
    },
    {
     "name": "stderr",
     "output_type": "stream",
     "text": [
      "\r",
      "Epoch 2/20:  17%|█▋        | 43/250 [00:35<02:45,  1.25batch/s, loss=0.0729]"
     ]
    },
    {
     "name": "stderr",
     "output_type": "stream",
     "text": [
      "\r",
      "Epoch 2/20:  18%|█▊        | 44/250 [00:35<02:43,  1.26batch/s, loss=0.0729]"
     ]
    },
    {
     "name": "stderr",
     "output_type": "stream",
     "text": [
      "\r",
      "Epoch 2/20:  18%|█▊        | 44/250 [00:36<02:43,  1.26batch/s, loss=0.0515]"
     ]
    },
    {
     "name": "stderr",
     "output_type": "stream",
     "text": [
      "\r",
      "Epoch 2/20:  18%|█▊        | 45/250 [00:36<02:43,  1.26batch/s, loss=0.0515]"
     ]
    },
    {
     "name": "stderr",
     "output_type": "stream",
     "text": [
      "\r",
      "Epoch 2/20:  18%|█▊        | 45/250 [00:37<02:43,  1.26batch/s, loss=0.0928]"
     ]
    },
    {
     "name": "stderr",
     "output_type": "stream",
     "text": [
      "\r",
      "Epoch 2/20:  18%|█▊        | 46/250 [00:37<02:41,  1.26batch/s, loss=0.0928]"
     ]
    },
    {
     "name": "stderr",
     "output_type": "stream",
     "text": [
      "\r",
      "Epoch 2/20:  18%|█▊        | 46/250 [00:38<02:41,  1.26batch/s, loss=0.0734]"
     ]
    },
    {
     "name": "stderr",
     "output_type": "stream",
     "text": [
      "\r",
      "Epoch 2/20:  19%|█▉        | 47/250 [00:38<02:38,  1.28batch/s, loss=0.0734]"
     ]
    },
    {
     "name": "stderr",
     "output_type": "stream",
     "text": [
      "\r",
      "Epoch 2/20:  19%|█▉        | 47/250 [00:38<02:38,  1.28batch/s, loss=0.0789]"
     ]
    },
    {
     "name": "stderr",
     "output_type": "stream",
     "text": [
      "\r",
      "Epoch 2/20:  19%|█▉        | 48/250 [00:38<02:38,  1.27batch/s, loss=0.0789]"
     ]
    },
    {
     "name": "stderr",
     "output_type": "stream",
     "text": [
      "\r",
      "Epoch 2/20:  19%|█▉        | 48/250 [00:39<02:38,  1.27batch/s, loss=0.105] "
     ]
    },
    {
     "name": "stderr",
     "output_type": "stream",
     "text": [
      "\r",
      "Epoch 2/20:  20%|█▉        | 49/250 [00:39<02:38,  1.27batch/s, loss=0.105]"
     ]
    },
    {
     "name": "stderr",
     "output_type": "stream",
     "text": [
      "\r",
      "Epoch 2/20:  20%|█▉        | 49/250 [00:40<02:38,  1.27batch/s, loss=0.0923]"
     ]
    },
    {
     "name": "stderr",
     "output_type": "stream",
     "text": [
      "\r",
      "Epoch 2/20:  20%|██        | 50/250 [00:40<02:38,  1.26batch/s, loss=0.0923]"
     ]
    },
    {
     "name": "stderr",
     "output_type": "stream",
     "text": [
      "\r",
      "Epoch 2/20:  20%|██        | 50/250 [00:41<02:38,  1.26batch/s, loss=0.0924]"
     ]
    },
    {
     "name": "stderr",
     "output_type": "stream",
     "text": [
      "\r",
      "Epoch 2/20:  20%|██        | 51/250 [00:41<02:36,  1.27batch/s, loss=0.0924]"
     ]
    },
    {
     "name": "stderr",
     "output_type": "stream",
     "text": [
      "\r",
      "Epoch 2/20:  20%|██        | 51/250 [00:41<02:36,  1.27batch/s, loss=0.117] "
     ]
    },
    {
     "name": "stderr",
     "output_type": "stream",
     "text": [
      "\r",
      "Epoch 2/20:  21%|██        | 52/250 [00:41<02:34,  1.28batch/s, loss=0.117]"
     ]
    },
    {
     "name": "stderr",
     "output_type": "stream",
     "text": [
      "\r",
      "Epoch 2/20:  21%|██        | 52/250 [00:42<02:34,  1.28batch/s, loss=0.104]"
     ]
    },
    {
     "name": "stderr",
     "output_type": "stream",
     "text": [
      "\r",
      "Epoch 2/20:  21%|██        | 53/250 [00:42<02:33,  1.28batch/s, loss=0.104]"
     ]
    },
    {
     "name": "stderr",
     "output_type": "stream",
     "text": [
      "\r",
      "Epoch 2/20:  21%|██        | 53/250 [00:43<02:33,  1.28batch/s, loss=0.0567]"
     ]
    },
    {
     "name": "stderr",
     "output_type": "stream",
     "text": [
      "\r",
      "Epoch 2/20:  22%|██▏       | 54/250 [00:43<02:33,  1.28batch/s, loss=0.0567]"
     ]
    },
    {
     "name": "stderr",
     "output_type": "stream",
     "text": [
      "\r",
      "Epoch 2/20:  22%|██▏       | 54/250 [00:44<02:33,  1.28batch/s, loss=0.0733]"
     ]
    },
    {
     "name": "stderr",
     "output_type": "stream",
     "text": [
      "\r",
      "Epoch 2/20:  22%|██▏       | 55/250 [00:44<02:33,  1.27batch/s, loss=0.0733]"
     ]
    },
    {
     "name": "stderr",
     "output_type": "stream",
     "text": [
      "\r",
      "Epoch 2/20:  22%|██▏       | 55/250 [00:45<02:33,  1.27batch/s, loss=0.0746]"
     ]
    },
    {
     "name": "stderr",
     "output_type": "stream",
     "text": [
      "\r",
      "Epoch 2/20:  22%|██▏       | 56/250 [00:45<02:33,  1.27batch/s, loss=0.0746]"
     ]
    },
    {
     "name": "stderr",
     "output_type": "stream",
     "text": [
      "\r",
      "Epoch 2/20:  22%|██▏       | 56/250 [00:45<02:33,  1.27batch/s, loss=0.0499]"
     ]
    },
    {
     "name": "stderr",
     "output_type": "stream",
     "text": [
      "\r",
      "Epoch 2/20:  23%|██▎       | 57/250 [00:45<02:31,  1.28batch/s, loss=0.0499]"
     ]
    },
    {
     "name": "stderr",
     "output_type": "stream",
     "text": [
      "\r",
      "Epoch 2/20:  23%|██▎       | 57/250 [00:46<02:31,  1.28batch/s, loss=0.0979]"
     ]
    },
    {
     "name": "stderr",
     "output_type": "stream",
     "text": [
      "\r",
      "Epoch 2/20:  23%|██▎       | 58/250 [00:46<02:29,  1.28batch/s, loss=0.0979]"
     ]
    },
    {
     "name": "stderr",
     "output_type": "stream",
     "text": [
      "\r",
      "Epoch 2/20:  23%|██▎       | 58/250 [00:47<02:29,  1.28batch/s, loss=0.0733]"
     ]
    },
    {
     "name": "stderr",
     "output_type": "stream",
     "text": [
      "\r",
      "Epoch 2/20:  24%|██▎       | 59/250 [00:47<02:28,  1.28batch/s, loss=0.0733]"
     ]
    },
    {
     "name": "stderr",
     "output_type": "stream",
     "text": [
      "\r",
      "Epoch 2/20:  24%|██▎       | 59/250 [00:48<02:28,  1.28batch/s, loss=0.0521]"
     ]
    },
    {
     "name": "stderr",
     "output_type": "stream",
     "text": [
      "\r",
      "Epoch 2/20:  24%|██▍       | 60/250 [00:48<02:27,  1.29batch/s, loss=0.0521]"
     ]
    },
    {
     "name": "stderr",
     "output_type": "stream",
     "text": [
      "\r",
      "Epoch 2/20:  24%|██▍       | 60/250 [00:48<02:27,  1.29batch/s, loss=0.103] "
     ]
    },
    {
     "name": "stderr",
     "output_type": "stream",
     "text": [
      "\r",
      "Epoch 2/20:  24%|██▍       | 61/250 [00:48<02:26,  1.29batch/s, loss=0.103]"
     ]
    },
    {
     "name": "stderr",
     "output_type": "stream",
     "text": [
      "\r",
      "Epoch 2/20:  24%|██▍       | 61/250 [00:49<02:26,  1.29batch/s, loss=0.0872]"
     ]
    },
    {
     "name": "stderr",
     "output_type": "stream",
     "text": [
      "\r",
      "Epoch 2/20:  25%|██▍       | 62/250 [00:49<02:25,  1.29batch/s, loss=0.0872]"
     ]
    },
    {
     "name": "stderr",
     "output_type": "stream",
     "text": [
      "\r",
      "Epoch 2/20:  25%|██▍       | 62/250 [00:50<02:25,  1.29batch/s, loss=0.0814]"
     ]
    },
    {
     "name": "stderr",
     "output_type": "stream",
     "text": [
      "\r",
      "Epoch 2/20:  25%|██▌       | 63/250 [00:50<02:24,  1.29batch/s, loss=0.0814]"
     ]
    },
    {
     "name": "stderr",
     "output_type": "stream",
     "text": [
      "\r",
      "Epoch 2/20:  25%|██▌       | 63/250 [00:51<02:24,  1.29batch/s, loss=0.0835]"
     ]
    },
    {
     "name": "stderr",
     "output_type": "stream",
     "text": [
      "\r",
      "Epoch 2/20:  26%|██▌       | 64/250 [00:51<02:24,  1.28batch/s, loss=0.0835]"
     ]
    },
    {
     "name": "stderr",
     "output_type": "stream",
     "text": [
      "\r",
      "Epoch 2/20:  26%|██▌       | 64/250 [00:52<02:24,  1.28batch/s, loss=0.0549]"
     ]
    },
    {
     "name": "stderr",
     "output_type": "stream",
     "text": [
      "\r",
      "Epoch 2/20:  26%|██▌       | 65/250 [00:52<02:24,  1.28batch/s, loss=0.0549]"
     ]
    },
    {
     "name": "stderr",
     "output_type": "stream",
     "text": [
      "\r",
      "Epoch 2/20:  26%|██▌       | 65/250 [00:52<02:24,  1.28batch/s, loss=0.0613]"
     ]
    },
    {
     "name": "stderr",
     "output_type": "stream",
     "text": [
      "\r",
      "Epoch 2/20:  26%|██▋       | 66/250 [00:52<02:23,  1.28batch/s, loss=0.0613]"
     ]
    },
    {
     "name": "stderr",
     "output_type": "stream",
     "text": [
      "\r",
      "Epoch 2/20:  26%|██▋       | 66/250 [00:53<02:23,  1.28batch/s, loss=0.0774]"
     ]
    },
    {
     "name": "stderr",
     "output_type": "stream",
     "text": [
      "\r",
      "Epoch 2/20:  27%|██▋       | 67/250 [00:53<02:22,  1.29batch/s, loss=0.0774]"
     ]
    },
    {
     "name": "stderr",
     "output_type": "stream",
     "text": [
      "\r",
      "Epoch 2/20:  27%|██▋       | 67/250 [00:54<02:22,  1.29batch/s, loss=0.0799]"
     ]
    },
    {
     "name": "stderr",
     "output_type": "stream",
     "text": [
      "\r",
      "Epoch 2/20:  27%|██▋       | 68/250 [00:54<02:20,  1.29batch/s, loss=0.0799]"
     ]
    },
    {
     "name": "stderr",
     "output_type": "stream",
     "text": [
      "\r",
      "Epoch 2/20:  27%|██▋       | 68/250 [00:55<02:20,  1.29batch/s, loss=0.0714]"
     ]
    },
    {
     "name": "stderr",
     "output_type": "stream",
     "text": [
      "\r",
      "Epoch 2/20:  28%|██▊       | 69/250 [00:55<02:21,  1.28batch/s, loss=0.0714]"
     ]
    },
    {
     "name": "stderr",
     "output_type": "stream",
     "text": [
      "\r",
      "Epoch 2/20:  28%|██▊       | 69/250 [00:55<02:21,  1.28batch/s, loss=0.0781]"
     ]
    },
    {
     "name": "stderr",
     "output_type": "stream",
     "text": [
      "\r",
      "Epoch 2/20:  28%|██▊       | 70/250 [00:55<02:19,  1.29batch/s, loss=0.0781]"
     ]
    },
    {
     "name": "stderr",
     "output_type": "stream",
     "text": [
      "\r",
      "Epoch 2/20:  28%|██▊       | 70/250 [00:56<02:19,  1.29batch/s, loss=0.0709]"
     ]
    },
    {
     "name": "stderr",
     "output_type": "stream",
     "text": [
      "\r",
      "Epoch 2/20:  28%|██▊       | 71/250 [00:56<02:17,  1.30batch/s, loss=0.0709]"
     ]
    },
    {
     "name": "stderr",
     "output_type": "stream",
     "text": [
      "\r",
      "Epoch 2/20:  28%|██▊       | 71/250 [00:57<02:17,  1.30batch/s, loss=0.112] "
     ]
    },
    {
     "name": "stderr",
     "output_type": "stream",
     "text": [
      "\r",
      "Epoch 2/20:  29%|██▉       | 72/250 [00:57<02:17,  1.29batch/s, loss=0.112]"
     ]
    },
    {
     "name": "stderr",
     "output_type": "stream",
     "text": [
      "\r",
      "Epoch 2/20:  29%|██▉       | 72/250 [00:58<02:17,  1.29batch/s, loss=0.0868]"
     ]
    },
    {
     "name": "stderr",
     "output_type": "stream",
     "text": [
      "\r",
      "Epoch 2/20:  29%|██▉       | 73/250 [00:58<02:16,  1.30batch/s, loss=0.0868]"
     ]
    },
    {
     "name": "stderr",
     "output_type": "stream",
     "text": [
      "\r",
      "Epoch 2/20:  29%|██▉       | 73/250 [00:59<02:16,  1.30batch/s, loss=0.0896]"
     ]
    },
    {
     "name": "stderr",
     "output_type": "stream",
     "text": [
      "\r",
      "Epoch 2/20:  30%|██▉       | 74/250 [00:59<02:15,  1.30batch/s, loss=0.0896]"
     ]
    },
    {
     "name": "stderr",
     "output_type": "stream",
     "text": [
      "\r",
      "Epoch 2/20:  30%|██▉       | 74/250 [00:59<02:15,  1.30batch/s, loss=0.0456]"
     ]
    },
    {
     "name": "stderr",
     "output_type": "stream",
     "text": [
      "\r",
      "Epoch 2/20:  30%|███       | 75/250 [00:59<02:14,  1.30batch/s, loss=0.0456]"
     ]
    },
    {
     "name": "stderr",
     "output_type": "stream",
     "text": [
      "\r",
      "Epoch 2/20:  30%|███       | 75/250 [01:00<02:14,  1.30batch/s, loss=0.0582]"
     ]
    },
    {
     "name": "stderr",
     "output_type": "stream",
     "text": [
      "\r",
      "Epoch 2/20:  30%|███       | 76/250 [01:00<02:14,  1.30batch/s, loss=0.0582]"
     ]
    },
    {
     "name": "stderr",
     "output_type": "stream",
     "text": [
      "\r",
      "Epoch 2/20:  30%|███       | 76/250 [01:01<02:14,  1.30batch/s, loss=0.074] "
     ]
    },
    {
     "name": "stderr",
     "output_type": "stream",
     "text": [
      "\r",
      "Epoch 2/20:  31%|███       | 77/250 [01:01<02:14,  1.29batch/s, loss=0.074]"
     ]
    },
    {
     "name": "stderr",
     "output_type": "stream",
     "text": [
      "\r",
      "Epoch 2/20:  31%|███       | 77/250 [01:02<02:14,  1.29batch/s, loss=0.113]"
     ]
    },
    {
     "name": "stderr",
     "output_type": "stream",
     "text": [
      "\r",
      "Epoch 2/20:  31%|███       | 78/250 [01:02<02:14,  1.28batch/s, loss=0.113]"
     ]
    },
    {
     "name": "stderr",
     "output_type": "stream",
     "text": [
      "\r",
      "Epoch 2/20:  31%|███       | 78/250 [01:02<02:14,  1.28batch/s, loss=0.106]"
     ]
    },
    {
     "name": "stderr",
     "output_type": "stream",
     "text": [
      "\r",
      "Epoch 2/20:  32%|███▏      | 79/250 [01:02<02:13,  1.28batch/s, loss=0.106]"
     ]
    },
    {
     "name": "stderr",
     "output_type": "stream",
     "text": [
      "\r",
      "Epoch 2/20:  32%|███▏      | 79/250 [01:03<02:13,  1.28batch/s, loss=0.0714]"
     ]
    },
    {
     "name": "stderr",
     "output_type": "stream",
     "text": [
      "\r",
      "Epoch 2/20:  32%|███▏      | 80/250 [01:03<02:12,  1.29batch/s, loss=0.0714]"
     ]
    },
    {
     "name": "stderr",
     "output_type": "stream",
     "text": [
      "\r",
      "Epoch 2/20:  32%|███▏      | 80/250 [01:04<02:12,  1.29batch/s, loss=0.057] "
     ]
    },
    {
     "name": "stderr",
     "output_type": "stream",
     "text": [
      "\r",
      "Epoch 2/20:  32%|███▏      | 81/250 [01:04<02:10,  1.29batch/s, loss=0.057]"
     ]
    },
    {
     "name": "stderr",
     "output_type": "stream",
     "text": [
      "\r",
      "Epoch 2/20:  32%|███▏      | 81/250 [01:05<02:10,  1.29batch/s, loss=0.104]"
     ]
    },
    {
     "name": "stderr",
     "output_type": "stream",
     "text": [
      "\r",
      "Epoch 2/20:  33%|███▎      | 82/250 [01:05<02:09,  1.29batch/s, loss=0.104]"
     ]
    },
    {
     "name": "stderr",
     "output_type": "stream",
     "text": [
      "\r",
      "Epoch 2/20:  33%|███▎      | 82/250 [01:05<02:09,  1.29batch/s, loss=0.0658]"
     ]
    },
    {
     "name": "stderr",
     "output_type": "stream",
     "text": [
      "\r",
      "Epoch 2/20:  33%|███▎      | 83/250 [01:05<02:07,  1.31batch/s, loss=0.0658]"
     ]
    },
    {
     "name": "stderr",
     "output_type": "stream",
     "text": [
      "\r",
      "Epoch 2/20:  33%|███▎      | 83/250 [01:06<02:07,  1.31batch/s, loss=0.0653]"
     ]
    },
    {
     "name": "stderr",
     "output_type": "stream",
     "text": [
      "\r",
      "Epoch 2/20:  34%|███▎      | 84/250 [01:06<02:07,  1.30batch/s, loss=0.0653]"
     ]
    },
    {
     "name": "stderr",
     "output_type": "stream",
     "text": [
      "\r",
      "Epoch 2/20:  34%|███▎      | 84/250 [01:07<02:07,  1.30batch/s, loss=0.0878]"
     ]
    },
    {
     "name": "stderr",
     "output_type": "stream",
     "text": [
      "\r",
      "Epoch 2/20:  34%|███▍      | 85/250 [01:07<02:07,  1.30batch/s, loss=0.0878]"
     ]
    },
    {
     "name": "stderr",
     "output_type": "stream",
     "text": [
      "\r",
      "Epoch 2/20:  34%|███▍      | 85/250 [01:08<02:07,  1.30batch/s, loss=0.0667]"
     ]
    },
    {
     "name": "stderr",
     "output_type": "stream",
     "text": [
      "\r",
      "Epoch 2/20:  34%|███▍      | 86/250 [01:08<02:06,  1.29batch/s, loss=0.0667]"
     ]
    },
    {
     "name": "stderr",
     "output_type": "stream",
     "text": [
      "\r",
      "Epoch 2/20:  34%|███▍      | 86/250 [01:09<02:06,  1.29batch/s, loss=0.117] "
     ]
    },
    {
     "name": "stderr",
     "output_type": "stream",
     "text": [
      "\r",
      "Epoch 2/20:  35%|███▍      | 87/250 [01:09<02:05,  1.30batch/s, loss=0.117]"
     ]
    },
    {
     "name": "stderr",
     "output_type": "stream",
     "text": [
      "\r",
      "Epoch 2/20:  35%|███▍      | 87/250 [01:09<02:05,  1.30batch/s, loss=0.049]"
     ]
    },
    {
     "name": "stderr",
     "output_type": "stream",
     "text": [
      "\r",
      "Epoch 2/20:  35%|███▌      | 88/250 [01:09<02:05,  1.29batch/s, loss=0.049]"
     ]
    },
    {
     "name": "stderr",
     "output_type": "stream",
     "text": [
      "\r",
      "Epoch 2/20:  35%|███▌      | 88/250 [01:10<02:05,  1.29batch/s, loss=0.0783]"
     ]
    },
    {
     "name": "stderr",
     "output_type": "stream",
     "text": [
      "\r",
      "Epoch 2/20:  36%|███▌      | 89/250 [01:10<02:04,  1.29batch/s, loss=0.0783]"
     ]
    },
    {
     "name": "stderr",
     "output_type": "stream",
     "text": [
      "\r",
      "Epoch 2/20:  36%|███▌      | 89/250 [01:11<02:04,  1.29batch/s, loss=0.0871]"
     ]
    },
    {
     "name": "stderr",
     "output_type": "stream",
     "text": [
      "\r",
      "Epoch 2/20:  36%|███▌      | 90/250 [01:11<02:03,  1.29batch/s, loss=0.0871]"
     ]
    },
    {
     "name": "stderr",
     "output_type": "stream",
     "text": [
      "\r",
      "Epoch 2/20:  36%|███▌      | 90/250 [01:12<02:03,  1.29batch/s, loss=0.0703]"
     ]
    },
    {
     "name": "stderr",
     "output_type": "stream",
     "text": [
      "\r",
      "Epoch 2/20:  36%|███▋      | 91/250 [01:12<02:03,  1.28batch/s, loss=0.0703]"
     ]
    },
    {
     "name": "stderr",
     "output_type": "stream",
     "text": [
      "\r",
      "Epoch 2/20:  36%|███▋      | 91/250 [01:13<02:03,  1.28batch/s, loss=0.074] "
     ]
    },
    {
     "name": "stderr",
     "output_type": "stream",
     "text": [
      "\r",
      "Epoch 2/20:  37%|███▋      | 92/250 [01:13<02:03,  1.27batch/s, loss=0.074]"
     ]
    },
    {
     "name": "stderr",
     "output_type": "stream",
     "text": [
      "\r",
      "Epoch 2/20:  37%|███▋      | 92/250 [01:13<02:03,  1.27batch/s, loss=0.088]"
     ]
    },
    {
     "name": "stderr",
     "output_type": "stream",
     "text": [
      "\r",
      "Epoch 2/20:  37%|███▋      | 93/250 [01:13<02:03,  1.28batch/s, loss=0.088]"
     ]
    },
    {
     "name": "stderr",
     "output_type": "stream",
     "text": [
      "\r",
      "Epoch 2/20:  37%|███▋      | 93/250 [01:14<02:03,  1.28batch/s, loss=0.0868]"
     ]
    },
    {
     "name": "stderr",
     "output_type": "stream",
     "text": [
      "\r",
      "Epoch 2/20:  38%|███▊      | 94/250 [01:14<02:02,  1.28batch/s, loss=0.0868]"
     ]
    },
    {
     "name": "stderr",
     "output_type": "stream",
     "text": [
      "\r",
      "Epoch 2/20:  38%|███▊      | 94/250 [01:15<02:02,  1.28batch/s, loss=0.106] "
     ]
    },
    {
     "name": "stderr",
     "output_type": "stream",
     "text": [
      "\r",
      "Epoch 2/20:  38%|███▊      | 95/250 [01:15<02:01,  1.28batch/s, loss=0.106]"
     ]
    },
    {
     "name": "stderr",
     "output_type": "stream",
     "text": [
      "\r",
      "Epoch 2/20:  38%|███▊      | 95/250 [01:16<02:01,  1.28batch/s, loss=0.0855]"
     ]
    },
    {
     "name": "stderr",
     "output_type": "stream",
     "text": [
      "\r",
      "Epoch 2/20:  38%|███▊      | 96/250 [01:16<02:00,  1.28batch/s, loss=0.0855]"
     ]
    },
    {
     "name": "stderr",
     "output_type": "stream",
     "text": [
      "\r",
      "Epoch 2/20:  38%|███▊      | 96/250 [01:16<02:00,  1.28batch/s, loss=0.0767]"
     ]
    },
    {
     "name": "stderr",
     "output_type": "stream",
     "text": [
      "\r",
      "Epoch 2/20:  39%|███▉      | 97/250 [01:16<02:00,  1.27batch/s, loss=0.0767]"
     ]
    },
    {
     "name": "stderr",
     "output_type": "stream",
     "text": [
      "\r",
      "Epoch 2/20:  39%|███▉      | 97/250 [01:17<02:00,  1.27batch/s, loss=0.0609]"
     ]
    },
    {
     "name": "stderr",
     "output_type": "stream",
     "text": [
      "\r",
      "Epoch 2/20:  39%|███▉      | 98/250 [01:17<01:58,  1.28batch/s, loss=0.0609]"
     ]
    },
    {
     "name": "stderr",
     "output_type": "stream",
     "text": [
      "\r",
      "Epoch 2/20:  39%|███▉      | 98/250 [01:18<01:58,  1.28batch/s, loss=0.0788]"
     ]
    },
    {
     "name": "stderr",
     "output_type": "stream",
     "text": [
      "\r",
      "Epoch 2/20:  40%|███▉      | 99/250 [01:18<01:59,  1.27batch/s, loss=0.0788]"
     ]
    },
    {
     "name": "stderr",
     "output_type": "stream",
     "text": [
      "\r",
      "Epoch 2/20:  40%|███▉      | 99/250 [01:19<01:59,  1.27batch/s, loss=0.063] "
     ]
    },
    {
     "name": "stderr",
     "output_type": "stream",
     "text": [
      "\r",
      "Epoch 2/20:  40%|████      | 100/250 [01:19<01:57,  1.27batch/s, loss=0.063]"
     ]
    },
    {
     "name": "stderr",
     "output_type": "stream",
     "text": [
      "\r",
      "Epoch 2/20:  40%|████      | 100/250 [01:20<01:57,  1.27batch/s, loss=0.0521]"
     ]
    },
    {
     "name": "stderr",
     "output_type": "stream",
     "text": [
      "\r",
      "Epoch 2/20:  40%|████      | 101/250 [01:20<01:57,  1.27batch/s, loss=0.0521]"
     ]
    },
    {
     "name": "stderr",
     "output_type": "stream",
     "text": [
      "\r",
      "Epoch 2/20:  40%|████      | 101/250 [01:20<01:57,  1.27batch/s, loss=0.102] "
     ]
    },
    {
     "name": "stderr",
     "output_type": "stream",
     "text": [
      "\r",
      "Epoch 2/20:  41%|████      | 102/250 [01:20<01:55,  1.28batch/s, loss=0.102]"
     ]
    },
    {
     "name": "stderr",
     "output_type": "stream",
     "text": [
      "\r",
      "Epoch 2/20:  41%|████      | 102/250 [01:21<01:55,  1.28batch/s, loss=0.0959]"
     ]
    },
    {
     "name": "stderr",
     "output_type": "stream",
     "text": [
      "\r",
      "Epoch 2/20:  41%|████      | 103/250 [01:21<01:55,  1.27batch/s, loss=0.0959]"
     ]
    },
    {
     "name": "stderr",
     "output_type": "stream",
     "text": [
      "\r",
      "Epoch 2/20:  41%|████      | 103/250 [01:22<01:55,  1.27batch/s, loss=0.101] "
     ]
    },
    {
     "name": "stderr",
     "output_type": "stream",
     "text": [
      "\r",
      "Epoch 2/20:  42%|████▏     | 104/250 [01:22<01:54,  1.27batch/s, loss=0.101]"
     ]
    },
    {
     "name": "stderr",
     "output_type": "stream",
     "text": [
      "\r",
      "Epoch 2/20:  42%|████▏     | 104/250 [01:23<01:54,  1.27batch/s, loss=0.0922]"
     ]
    },
    {
     "name": "stderr",
     "output_type": "stream",
     "text": [
      "\r",
      "Epoch 2/20:  42%|████▏     | 105/250 [01:23<01:54,  1.27batch/s, loss=0.0922]"
     ]
    },
    {
     "name": "stderr",
     "output_type": "stream",
     "text": [
      "\r",
      "Epoch 2/20:  42%|████▏     | 105/250 [01:24<01:54,  1.27batch/s, loss=0.0783]"
     ]
    },
    {
     "name": "stderr",
     "output_type": "stream",
     "text": [
      "\r",
      "Epoch 2/20:  42%|████▏     | 106/250 [01:24<01:52,  1.27batch/s, loss=0.0783]"
     ]
    },
    {
     "name": "stderr",
     "output_type": "stream",
     "text": [
      "\r",
      "Epoch 2/20:  42%|████▏     | 106/250 [01:24<01:52,  1.27batch/s, loss=0.0589]"
     ]
    },
    {
     "name": "stderr",
     "output_type": "stream",
     "text": [
      "\r",
      "Epoch 2/20:  43%|████▎     | 107/250 [01:24<01:52,  1.28batch/s, loss=0.0589]"
     ]
    },
    {
     "name": "stderr",
     "output_type": "stream",
     "text": [
      "\r",
      "Epoch 2/20:  43%|████▎     | 107/250 [01:25<01:52,  1.28batch/s, loss=0.0861]"
     ]
    },
    {
     "name": "stderr",
     "output_type": "stream",
     "text": [
      "\r",
      "Epoch 2/20:  43%|████▎     | 108/250 [01:25<01:51,  1.27batch/s, loss=0.0861]"
     ]
    },
    {
     "name": "stderr",
     "output_type": "stream",
     "text": [
      "\r",
      "Epoch 2/20:  43%|████▎     | 108/250 [01:26<01:51,  1.27batch/s, loss=0.0515]"
     ]
    },
    {
     "name": "stderr",
     "output_type": "stream",
     "text": [
      "\r",
      "Epoch 2/20:  44%|████▎     | 109/250 [01:26<01:50,  1.27batch/s, loss=0.0515]"
     ]
    },
    {
     "name": "stderr",
     "output_type": "stream",
     "text": [
      "\r",
      "Epoch 2/20:  44%|████▎     | 109/250 [01:27<01:50,  1.27batch/s, loss=0.0699]"
     ]
    },
    {
     "name": "stderr",
     "output_type": "stream",
     "text": [
      "\r",
      "Epoch 2/20:  44%|████▍     | 110/250 [01:27<01:50,  1.27batch/s, loss=0.0699]"
     ]
    },
    {
     "name": "stderr",
     "output_type": "stream",
     "text": [
      "\r",
      "Epoch 2/20:  44%|████▍     | 110/250 [01:27<01:50,  1.27batch/s, loss=0.0979]"
     ]
    },
    {
     "name": "stderr",
     "output_type": "stream",
     "text": [
      "\r",
      "Epoch 2/20:  44%|████▍     | 111/250 [01:27<01:49,  1.26batch/s, loss=0.0979]"
     ]
    },
    {
     "name": "stderr",
     "output_type": "stream",
     "text": [
      "\r",
      "Epoch 2/20:  44%|████▍     | 111/250 [01:28<01:49,  1.26batch/s, loss=0.0883]"
     ]
    },
    {
     "name": "stderr",
     "output_type": "stream",
     "text": [
      "\r",
      "Epoch 2/20:  45%|████▍     | 112/250 [01:28<01:49,  1.26batch/s, loss=0.0883]"
     ]
    },
    {
     "name": "stderr",
     "output_type": "stream",
     "text": [
      "\r",
      "Epoch 2/20:  45%|████▍     | 112/250 [01:29<01:49,  1.26batch/s, loss=0.124] "
     ]
    },
    {
     "name": "stderr",
     "output_type": "stream",
     "text": [
      "\r",
      "Epoch 2/20:  45%|████▌     | 113/250 [01:29<01:48,  1.26batch/s, loss=0.124]"
     ]
    },
    {
     "name": "stderr",
     "output_type": "stream",
     "text": [
      "\r",
      "Epoch 2/20:  45%|████▌     | 113/250 [01:30<01:48,  1.26batch/s, loss=0.0983]"
     ]
    },
    {
     "name": "stderr",
     "output_type": "stream",
     "text": [
      "\r",
      "Epoch 2/20:  46%|████▌     | 114/250 [01:30<01:47,  1.26batch/s, loss=0.0983]"
     ]
    },
    {
     "name": "stderr",
     "output_type": "stream",
     "text": [
      "\r",
      "Epoch 2/20:  46%|████▌     | 114/250 [01:31<01:47,  1.26batch/s, loss=0.0559]"
     ]
    },
    {
     "name": "stderr",
     "output_type": "stream",
     "text": [
      "\r",
      "Epoch 2/20:  46%|████▌     | 115/250 [01:31<01:46,  1.27batch/s, loss=0.0559]"
     ]
    },
    {
     "name": "stderr",
     "output_type": "stream",
     "text": [
      "\r",
      "Epoch 2/20:  46%|████▌     | 115/250 [01:31<01:46,  1.27batch/s, loss=0.0404]"
     ]
    },
    {
     "name": "stderr",
     "output_type": "stream",
     "text": [
      "\r",
      "Epoch 2/20:  46%|████▋     | 116/250 [01:31<01:45,  1.27batch/s, loss=0.0404]"
     ]
    },
    {
     "name": "stderr",
     "output_type": "stream",
     "text": [
      "\r",
      "Epoch 2/20:  46%|████▋     | 116/250 [01:32<01:45,  1.27batch/s, loss=0.0624]"
     ]
    },
    {
     "name": "stderr",
     "output_type": "stream",
     "text": [
      "\r",
      "Epoch 2/20:  47%|████▋     | 117/250 [01:32<01:44,  1.27batch/s, loss=0.0624]"
     ]
    },
    {
     "name": "stderr",
     "output_type": "stream",
     "text": [
      "\r",
      "Epoch 2/20:  47%|████▋     | 117/250 [01:33<01:44,  1.27batch/s, loss=0.0706]"
     ]
    },
    {
     "name": "stderr",
     "output_type": "stream",
     "text": [
      "\r",
      "Epoch 2/20:  47%|████▋     | 118/250 [01:33<01:44,  1.27batch/s, loss=0.0706]"
     ]
    },
    {
     "name": "stderr",
     "output_type": "stream",
     "text": [
      "\r",
      "Epoch 2/20:  47%|████▋     | 118/250 [01:34<01:44,  1.27batch/s, loss=0.0493]"
     ]
    },
    {
     "name": "stderr",
     "output_type": "stream",
     "text": [
      "\r",
      "Epoch 2/20:  48%|████▊     | 119/250 [01:34<01:43,  1.27batch/s, loss=0.0493]"
     ]
    },
    {
     "name": "stderr",
     "output_type": "stream",
     "text": [
      "\r",
      "Epoch 2/20:  48%|████▊     | 119/250 [01:35<01:43,  1.27batch/s, loss=0.0601]"
     ]
    },
    {
     "name": "stderr",
     "output_type": "stream",
     "text": [
      "\r",
      "Epoch 2/20:  48%|████▊     | 120/250 [01:35<01:42,  1.27batch/s, loss=0.0601]"
     ]
    },
    {
     "name": "stderr",
     "output_type": "stream",
     "text": [
      "\r",
      "Epoch 2/20:  48%|████▊     | 120/250 [01:35<01:42,  1.27batch/s, loss=0.0946]"
     ]
    },
    {
     "name": "stderr",
     "output_type": "stream",
     "text": [
      "\r",
      "Epoch 2/20:  48%|████▊     | 121/250 [01:35<01:42,  1.26batch/s, loss=0.0946]"
     ]
    },
    {
     "name": "stderr",
     "output_type": "stream",
     "text": [
      "\r",
      "Epoch 2/20:  48%|████▊     | 121/250 [01:36<01:42,  1.26batch/s, loss=0.0511]"
     ]
    },
    {
     "name": "stderr",
     "output_type": "stream",
     "text": [
      "\r",
      "Epoch 2/20:  49%|████▉     | 122/250 [01:36<01:41,  1.27batch/s, loss=0.0511]"
     ]
    },
    {
     "name": "stderr",
     "output_type": "stream",
     "text": [
      "\r",
      "Epoch 2/20:  49%|████▉     | 122/250 [01:37<01:41,  1.27batch/s, loss=0.105] "
     ]
    },
    {
     "name": "stderr",
     "output_type": "stream",
     "text": [
      "\r",
      "Epoch 2/20:  49%|████▉     | 123/250 [01:37<01:40,  1.26batch/s, loss=0.105]"
     ]
    },
    {
     "name": "stderr",
     "output_type": "stream",
     "text": [
      "\r",
      "Epoch 2/20:  49%|████▉     | 123/250 [01:38<01:40,  1.26batch/s, loss=0.0467]"
     ]
    },
    {
     "name": "stderr",
     "output_type": "stream",
     "text": [
      "\r",
      "Epoch 2/20:  50%|████▉     | 124/250 [01:38<01:40,  1.26batch/s, loss=0.0467]"
     ]
    },
    {
     "name": "stderr",
     "output_type": "stream",
     "text": [
      "\r",
      "Epoch 2/20:  50%|████▉     | 124/250 [01:39<01:40,  1.26batch/s, loss=0.0754]"
     ]
    },
    {
     "name": "stderr",
     "output_type": "stream",
     "text": [
      "\r",
      "Epoch 2/20:  50%|█████     | 125/250 [01:39<01:38,  1.27batch/s, loss=0.0754]"
     ]
    },
    {
     "name": "stderr",
     "output_type": "stream",
     "text": [
      "\r",
      "Epoch 2/20:  50%|█████     | 125/250 [01:39<01:38,  1.27batch/s, loss=0.0604]"
     ]
    },
    {
     "name": "stderr",
     "output_type": "stream",
     "text": [
      "\r",
      "Epoch 2/20:  50%|█████     | 126/250 [01:39<01:37,  1.27batch/s, loss=0.0604]"
     ]
    },
    {
     "name": "stderr",
     "output_type": "stream",
     "text": [
      "\r",
      "Epoch 2/20:  50%|█████     | 126/250 [01:40<01:37,  1.27batch/s, loss=0.0545]"
     ]
    },
    {
     "name": "stderr",
     "output_type": "stream",
     "text": [
      "\r",
      "Epoch 2/20:  51%|█████     | 127/250 [01:40<01:37,  1.26batch/s, loss=0.0545]"
     ]
    },
    {
     "name": "stderr",
     "output_type": "stream",
     "text": [
      "\r",
      "Epoch 2/20:  51%|█████     | 127/250 [01:41<01:37,  1.26batch/s, loss=0.0992]"
     ]
    },
    {
     "name": "stderr",
     "output_type": "stream",
     "text": [
      "\r",
      "Epoch 2/20:  51%|█████     | 128/250 [01:41<01:36,  1.26batch/s, loss=0.0992]"
     ]
    },
    {
     "name": "stderr",
     "output_type": "stream",
     "text": [
      "\r",
      "Epoch 2/20:  51%|█████     | 128/250 [01:42<01:36,  1.26batch/s, loss=0.0771]"
     ]
    },
    {
     "name": "stderr",
     "output_type": "stream",
     "text": [
      "\r",
      "Epoch 2/20:  52%|█████▏    | 129/250 [01:42<01:36,  1.25batch/s, loss=0.0771]"
     ]
    },
    {
     "name": "stderr",
     "output_type": "stream",
     "text": [
      "\r",
      "Epoch 2/20:  52%|█████▏    | 129/250 [01:42<01:36,  1.25batch/s, loss=0.0585]"
     ]
    },
    {
     "name": "stderr",
     "output_type": "stream",
     "text": [
      "\r",
      "Epoch 2/20:  52%|█████▏    | 130/250 [01:42<01:34,  1.27batch/s, loss=0.0585]"
     ]
    },
    {
     "name": "stderr",
     "output_type": "stream",
     "text": [
      "\r",
      "Epoch 2/20:  52%|█████▏    | 130/250 [01:43<01:34,  1.27batch/s, loss=0.0851]"
     ]
    },
    {
     "name": "stderr",
     "output_type": "stream",
     "text": [
      "\r",
      "Epoch 2/20:  52%|█████▏    | 131/250 [01:43<01:34,  1.26batch/s, loss=0.0851]"
     ]
    },
    {
     "name": "stderr",
     "output_type": "stream",
     "text": [
      "\r",
      "Epoch 2/20:  52%|█████▏    | 131/250 [01:44<01:34,  1.26batch/s, loss=0.0851]"
     ]
    },
    {
     "name": "stderr",
     "output_type": "stream",
     "text": [
      "\r",
      "Epoch 2/20:  53%|█████▎    | 132/250 [01:44<01:33,  1.26batch/s, loss=0.0851]"
     ]
    },
    {
     "name": "stderr",
     "output_type": "stream",
     "text": [
      "\r",
      "Epoch 2/20:  53%|█████▎    | 132/250 [01:45<01:33,  1.26batch/s, loss=0.0872]"
     ]
    },
    {
     "name": "stderr",
     "output_type": "stream",
     "text": [
      "\r",
      "Epoch 2/20:  53%|█████▎    | 133/250 [01:45<01:32,  1.26batch/s, loss=0.0872]"
     ]
    },
    {
     "name": "stderr",
     "output_type": "stream",
     "text": [
      "\r",
      "Epoch 2/20:  53%|█████▎    | 133/250 [01:46<01:32,  1.26batch/s, loss=0.0592]"
     ]
    },
    {
     "name": "stderr",
     "output_type": "stream",
     "text": [
      "\r",
      "Epoch 2/20:  54%|█████▎    | 134/250 [01:46<01:31,  1.27batch/s, loss=0.0592]"
     ]
    },
    {
     "name": "stderr",
     "output_type": "stream",
     "text": [
      "\r",
      "Epoch 2/20:  54%|█████▎    | 134/250 [01:46<01:31,  1.27batch/s, loss=0.0831]"
     ]
    },
    {
     "name": "stderr",
     "output_type": "stream",
     "text": [
      "\r",
      "Epoch 2/20:  54%|█████▍    | 135/250 [01:46<01:30,  1.27batch/s, loss=0.0831]"
     ]
    },
    {
     "name": "stderr",
     "output_type": "stream",
     "text": [
      "\r",
      "Epoch 2/20:  54%|█████▍    | 135/250 [01:47<01:30,  1.27batch/s, loss=0.0665]"
     ]
    },
    {
     "name": "stderr",
     "output_type": "stream",
     "text": [
      "\r",
      "Epoch 2/20:  54%|█████▍    | 136/250 [01:47<01:30,  1.26batch/s, loss=0.0665]"
     ]
    },
    {
     "name": "stderr",
     "output_type": "stream",
     "text": [
      "\r",
      "Epoch 2/20:  54%|█████▍    | 136/250 [01:48<01:30,  1.26batch/s, loss=0.0731]"
     ]
    },
    {
     "name": "stderr",
     "output_type": "stream",
     "text": [
      "\r",
      "Epoch 2/20:  55%|█████▍    | 137/250 [01:48<01:29,  1.26batch/s, loss=0.0731]"
     ]
    },
    {
     "name": "stderr",
     "output_type": "stream",
     "text": [
      "\r",
      "Epoch 2/20:  55%|█████▍    | 137/250 [01:49<01:29,  1.26batch/s, loss=0.0596]"
     ]
    },
    {
     "name": "stderr",
     "output_type": "stream",
     "text": [
      "\r",
      "Epoch 2/20:  55%|█████▌    | 138/250 [01:49<01:28,  1.26batch/s, loss=0.0596]"
     ]
    },
    {
     "name": "stderr",
     "output_type": "stream",
     "text": [
      "\r",
      "Epoch 2/20:  55%|█████▌    | 138/250 [01:50<01:28,  1.26batch/s, loss=0.0588]"
     ]
    },
    {
     "name": "stderr",
     "output_type": "stream",
     "text": [
      "\r",
      "Epoch 2/20:  56%|█████▌    | 139/250 [01:50<01:27,  1.26batch/s, loss=0.0588]"
     ]
    },
    {
     "name": "stderr",
     "output_type": "stream",
     "text": [
      "\r",
      "Epoch 2/20:  56%|█████▌    | 139/250 [01:50<01:27,  1.26batch/s, loss=0.0691]"
     ]
    },
    {
     "name": "stderr",
     "output_type": "stream",
     "text": [
      "\r",
      "Epoch 2/20:  56%|█████▌    | 140/250 [01:50<01:26,  1.27batch/s, loss=0.0691]"
     ]
    },
    {
     "name": "stderr",
     "output_type": "stream",
     "text": [
      "\r",
      "Epoch 2/20:  56%|█████▌    | 140/250 [01:51<01:26,  1.27batch/s, loss=0.0568]"
     ]
    },
    {
     "name": "stderr",
     "output_type": "stream",
     "text": [
      "\r",
      "Epoch 2/20:  56%|█████▋    | 141/250 [01:51<01:25,  1.27batch/s, loss=0.0568]"
     ]
    },
    {
     "name": "stderr",
     "output_type": "stream",
     "text": [
      "\r",
      "Epoch 2/20:  56%|█████▋    | 141/250 [01:52<01:25,  1.27batch/s, loss=0.0677]"
     ]
    },
    {
     "name": "stderr",
     "output_type": "stream",
     "text": [
      "\r",
      "Epoch 2/20:  57%|█████▋    | 142/250 [01:52<01:25,  1.27batch/s, loss=0.0677]"
     ]
    },
    {
     "name": "stderr",
     "output_type": "stream",
     "text": [
      "\r",
      "Epoch 2/20:  57%|█████▋    | 142/250 [01:53<01:25,  1.27batch/s, loss=0.0801]"
     ]
    },
    {
     "name": "stderr",
     "output_type": "stream",
     "text": [
      "\r",
      "Epoch 2/20:  57%|█████▋    | 143/250 [01:53<01:23,  1.27batch/s, loss=0.0801]"
     ]
    },
    {
     "name": "stderr",
     "output_type": "stream",
     "text": [
      "\r",
      "Epoch 2/20:  57%|█████▋    | 143/250 [01:54<01:23,  1.27batch/s, loss=0.0581]"
     ]
    },
    {
     "name": "stderr",
     "output_type": "stream",
     "text": [
      "\r",
      "Epoch 2/20:  58%|█████▊    | 144/250 [01:54<01:23,  1.27batch/s, loss=0.0581]"
     ]
    },
    {
     "name": "stderr",
     "output_type": "stream",
     "text": [
      "\r",
      "Epoch 2/20:  58%|█████▊    | 144/250 [01:54<01:23,  1.27batch/s, loss=0.058] "
     ]
    },
    {
     "name": "stderr",
     "output_type": "stream",
     "text": [
      "\r",
      "Epoch 2/20:  58%|█████▊    | 145/250 [01:54<01:23,  1.26batch/s, loss=0.058]"
     ]
    },
    {
     "name": "stderr",
     "output_type": "stream",
     "text": [
      "\r",
      "Epoch 2/20:  58%|█████▊    | 145/250 [01:55<01:23,  1.26batch/s, loss=0.067]"
     ]
    },
    {
     "name": "stderr",
     "output_type": "stream",
     "text": [
      "\r",
      "Epoch 2/20:  58%|█████▊    | 146/250 [01:55<01:22,  1.26batch/s, loss=0.067]"
     ]
    },
    {
     "name": "stderr",
     "output_type": "stream",
     "text": [
      "\r",
      "Epoch 2/20:  58%|█████▊    | 146/250 [01:56<01:22,  1.26batch/s, loss=0.0788]"
     ]
    },
    {
     "name": "stderr",
     "output_type": "stream",
     "text": [
      "\r",
      "Epoch 2/20:  59%|█████▉    | 147/250 [01:56<01:21,  1.27batch/s, loss=0.0788]"
     ]
    },
    {
     "name": "stderr",
     "output_type": "stream",
     "text": [
      "\r",
      "Epoch 2/20:  59%|█████▉    | 147/250 [01:57<01:21,  1.27batch/s, loss=0.0607]"
     ]
    },
    {
     "name": "stderr",
     "output_type": "stream",
     "text": [
      "\r",
      "Epoch 2/20:  59%|█████▉    | 148/250 [01:57<01:20,  1.27batch/s, loss=0.0607]"
     ]
    },
    {
     "name": "stderr",
     "output_type": "stream",
     "text": [
      "\r",
      "Epoch 2/20:  59%|█████▉    | 148/250 [01:57<01:20,  1.27batch/s, loss=0.0697]"
     ]
    },
    {
     "name": "stderr",
     "output_type": "stream",
     "text": [
      "\r",
      "Epoch 2/20:  60%|█████▉    | 149/250 [01:57<01:19,  1.28batch/s, loss=0.0697]"
     ]
    },
    {
     "name": "stderr",
     "output_type": "stream",
     "text": [
      "\r",
      "Epoch 2/20:  60%|█████▉    | 149/250 [01:58<01:19,  1.28batch/s, loss=0.0852]"
     ]
    },
    {
     "name": "stderr",
     "output_type": "stream",
     "text": [
      "\r",
      "Epoch 2/20:  60%|██████    | 150/250 [01:58<01:18,  1.27batch/s, loss=0.0852]"
     ]
    },
    {
     "name": "stderr",
     "output_type": "stream",
     "text": [
      "\r",
      "Epoch 2/20:  60%|██████    | 150/250 [01:59<01:18,  1.27batch/s, loss=0.0718]"
     ]
    },
    {
     "name": "stderr",
     "output_type": "stream",
     "text": [
      "\r",
      "Epoch 2/20:  60%|██████    | 151/250 [01:59<01:17,  1.27batch/s, loss=0.0718]"
     ]
    },
    {
     "name": "stderr",
     "output_type": "stream",
     "text": [
      "\r",
      "Epoch 2/20:  60%|██████    | 151/250 [02:00<01:17,  1.27batch/s, loss=0.076] "
     ]
    },
    {
     "name": "stderr",
     "output_type": "stream",
     "text": [
      "\r",
      "Epoch 2/20:  61%|██████    | 152/250 [02:00<01:16,  1.28batch/s, loss=0.076]"
     ]
    },
    {
     "name": "stderr",
     "output_type": "stream",
     "text": [
      "\r",
      "Epoch 2/20:  61%|██████    | 152/250 [02:01<01:16,  1.28batch/s, loss=0.0623]"
     ]
    },
    {
     "name": "stderr",
     "output_type": "stream",
     "text": [
      "\r",
      "Epoch 2/20:  61%|██████    | 153/250 [02:01<01:15,  1.28batch/s, loss=0.0623]"
     ]
    },
    {
     "name": "stderr",
     "output_type": "stream",
     "text": [
      "\r",
      "Epoch 2/20:  61%|██████    | 153/250 [02:01<01:15,  1.28batch/s, loss=0.0845]"
     ]
    },
    {
     "name": "stderr",
     "output_type": "stream",
     "text": [
      "\r",
      "Epoch 2/20:  62%|██████▏   | 154/250 [02:01<01:15,  1.28batch/s, loss=0.0845]"
     ]
    },
    {
     "name": "stderr",
     "output_type": "stream",
     "text": [
      "\r",
      "Epoch 2/20:  62%|██████▏   | 154/250 [02:02<01:15,  1.28batch/s, loss=0.0597]"
     ]
    },
    {
     "name": "stderr",
     "output_type": "stream",
     "text": [
      "\r",
      "Epoch 2/20:  62%|██████▏   | 155/250 [02:02<01:14,  1.27batch/s, loss=0.0597]"
     ]
    },
    {
     "name": "stderr",
     "output_type": "stream",
     "text": [
      "\r",
      "Epoch 2/20:  62%|██████▏   | 155/250 [02:03<01:14,  1.27batch/s, loss=0.0672]"
     ]
    },
    {
     "name": "stderr",
     "output_type": "stream",
     "text": [
      "\r",
      "Epoch 2/20:  62%|██████▏   | 156/250 [02:03<01:13,  1.27batch/s, loss=0.0672]"
     ]
    },
    {
     "name": "stderr",
     "output_type": "stream",
     "text": [
      "\r",
      "Epoch 2/20:  62%|██████▏   | 156/250 [02:04<01:13,  1.27batch/s, loss=0.0361]"
     ]
    },
    {
     "name": "stderr",
     "output_type": "stream",
     "text": [
      "\r",
      "Epoch 2/20:  63%|██████▎   | 157/250 [02:04<01:12,  1.28batch/s, loss=0.0361]"
     ]
    },
    {
     "name": "stderr",
     "output_type": "stream",
     "text": [
      "\r",
      "Epoch 2/20:  63%|██████▎   | 157/250 [02:05<01:12,  1.28batch/s, loss=0.057] "
     ]
    },
    {
     "name": "stderr",
     "output_type": "stream",
     "text": [
      "\r",
      "Epoch 2/20:  63%|██████▎   | 158/250 [02:05<01:12,  1.28batch/s, loss=0.057]"
     ]
    },
    {
     "name": "stderr",
     "output_type": "stream",
     "text": [
      "\r",
      "Epoch 2/20:  63%|██████▎   | 158/250 [02:05<01:12,  1.28batch/s, loss=0.0594]"
     ]
    },
    {
     "name": "stderr",
     "output_type": "stream",
     "text": [
      "\r",
      "Epoch 2/20:  64%|██████▎   | 159/250 [02:05<01:11,  1.27batch/s, loss=0.0594]"
     ]
    },
    {
     "name": "stderr",
     "output_type": "stream",
     "text": [
      "\r",
      "Epoch 2/20:  64%|██████▎   | 159/250 [02:06<01:11,  1.27batch/s, loss=0.087] "
     ]
    },
    {
     "name": "stderr",
     "output_type": "stream",
     "text": [
      "\r",
      "Epoch 2/20:  64%|██████▍   | 160/250 [02:06<01:10,  1.27batch/s, loss=0.087]"
     ]
    },
    {
     "name": "stderr",
     "output_type": "stream",
     "text": [
      "\r",
      "Epoch 2/20:  64%|██████▍   | 160/250 [02:07<01:10,  1.27batch/s, loss=0.0758]"
     ]
    },
    {
     "name": "stderr",
     "output_type": "stream",
     "text": [
      "\r",
      "Epoch 2/20:  64%|██████▍   | 161/250 [02:07<01:09,  1.27batch/s, loss=0.0758]"
     ]
    },
    {
     "name": "stderr",
     "output_type": "stream",
     "text": [
      "\r",
      "Epoch 2/20:  64%|██████▍   | 161/250 [02:08<01:09,  1.27batch/s, loss=0.057] "
     ]
    },
    {
     "name": "stderr",
     "output_type": "stream",
     "text": [
      "\r",
      "Epoch 2/20:  65%|██████▍   | 162/250 [02:08<01:08,  1.28batch/s, loss=0.057]"
     ]
    },
    {
     "name": "stderr",
     "output_type": "stream",
     "text": [
      "\r",
      "Epoch 2/20:  65%|██████▍   | 162/250 [02:08<01:08,  1.28batch/s, loss=0.0594]"
     ]
    },
    {
     "name": "stderr",
     "output_type": "stream",
     "text": [
      "\r",
      "Epoch 2/20:  65%|██████▌   | 163/250 [02:08<01:08,  1.27batch/s, loss=0.0594]"
     ]
    },
    {
     "name": "stderr",
     "output_type": "stream",
     "text": [
      "\r",
      "Epoch 2/20:  65%|██████▌   | 163/250 [02:09<01:08,  1.27batch/s, loss=0.0684]"
     ]
    },
    {
     "name": "stderr",
     "output_type": "stream",
     "text": [
      "\r",
      "Epoch 2/20:  66%|██████▌   | 164/250 [02:09<01:07,  1.28batch/s, loss=0.0684]"
     ]
    },
    {
     "name": "stderr",
     "output_type": "stream",
     "text": [
      "\r",
      "Epoch 2/20:  66%|██████▌   | 164/250 [02:10<01:07,  1.28batch/s, loss=0.0613]"
     ]
    },
    {
     "name": "stderr",
     "output_type": "stream",
     "text": [
      "\r",
      "Epoch 2/20:  66%|██████▌   | 165/250 [02:10<01:06,  1.28batch/s, loss=0.0613]"
     ]
    },
    {
     "name": "stderr",
     "output_type": "stream",
     "text": [
      "\r",
      "Epoch 2/20:  66%|██████▌   | 165/250 [02:11<01:06,  1.28batch/s, loss=0.0592]"
     ]
    },
    {
     "name": "stderr",
     "output_type": "stream",
     "text": [
      "\r",
      "Epoch 2/20:  66%|██████▋   | 166/250 [02:11<01:05,  1.29batch/s, loss=0.0592]"
     ]
    },
    {
     "name": "stderr",
     "output_type": "stream",
     "text": [
      "\r",
      "Epoch 2/20:  66%|██████▋   | 166/250 [02:12<01:05,  1.29batch/s, loss=0.0607]"
     ]
    },
    {
     "name": "stderr",
     "output_type": "stream",
     "text": [
      "\r",
      "Epoch 2/20:  67%|██████▋   | 167/250 [02:12<01:04,  1.28batch/s, loss=0.0607]"
     ]
    },
    {
     "name": "stderr",
     "output_type": "stream",
     "text": [
      "\r",
      "Epoch 2/20:  67%|██████▋   | 167/250 [02:12<01:04,  1.28batch/s, loss=0.062] "
     ]
    },
    {
     "name": "stderr",
     "output_type": "stream",
     "text": [
      "\r",
      "Epoch 2/20:  67%|██████▋   | 168/250 [02:12<01:04,  1.28batch/s, loss=0.062]"
     ]
    },
    {
     "name": "stderr",
     "output_type": "stream",
     "text": [
      "\r",
      "Epoch 2/20:  67%|██████▋   | 168/250 [02:13<01:04,  1.28batch/s, loss=0.0782]"
     ]
    },
    {
     "name": "stderr",
     "output_type": "stream",
     "text": [
      "\r",
      "Epoch 2/20:  68%|██████▊   | 169/250 [02:13<01:03,  1.28batch/s, loss=0.0782]"
     ]
    },
    {
     "name": "stderr",
     "output_type": "stream",
     "text": [
      "\r",
      "Epoch 2/20:  68%|██████▊   | 169/250 [02:14<01:03,  1.28batch/s, loss=0.085] "
     ]
    },
    {
     "name": "stderr",
     "output_type": "stream",
     "text": [
      "\r",
      "Epoch 2/20:  68%|██████▊   | 170/250 [02:14<01:02,  1.27batch/s, loss=0.085]"
     ]
    },
    {
     "name": "stderr",
     "output_type": "stream",
     "text": [
      "\r",
      "Epoch 2/20:  68%|██████▊   | 170/250 [02:15<01:02,  1.27batch/s, loss=0.0864]"
     ]
    },
    {
     "name": "stderr",
     "output_type": "stream",
     "text": [
      "\r",
      "Epoch 2/20:  68%|██████▊   | 171/250 [02:15<01:02,  1.27batch/s, loss=0.0864]"
     ]
    },
    {
     "name": "stderr",
     "output_type": "stream",
     "text": [
      "\r",
      "Epoch 2/20:  68%|██████▊   | 171/250 [02:15<01:02,  1.27batch/s, loss=0.0532]"
     ]
    },
    {
     "name": "stderr",
     "output_type": "stream",
     "text": [
      "\r",
      "Epoch 2/20:  69%|██████▉   | 172/250 [02:15<01:01,  1.28batch/s, loss=0.0532]"
     ]
    },
    {
     "name": "stderr",
     "output_type": "stream",
     "text": [
      "\r",
      "Epoch 2/20:  69%|██████▉   | 172/250 [02:16<01:01,  1.28batch/s, loss=0.0801]"
     ]
    },
    {
     "name": "stderr",
     "output_type": "stream",
     "text": [
      "\r",
      "Epoch 2/20:  69%|██████▉   | 173/250 [02:16<01:00,  1.27batch/s, loss=0.0801]"
     ]
    },
    {
     "name": "stderr",
     "output_type": "stream",
     "text": [
      "\r",
      "Epoch 2/20:  69%|██████▉   | 173/250 [02:17<01:00,  1.27batch/s, loss=0.0555]"
     ]
    },
    {
     "name": "stderr",
     "output_type": "stream",
     "text": [
      "\r",
      "Epoch 2/20:  70%|██████▉   | 174/250 [02:17<00:59,  1.28batch/s, loss=0.0555]"
     ]
    },
    {
     "name": "stderr",
     "output_type": "stream",
     "text": [
      "\r",
      "Epoch 2/20:  70%|██████▉   | 174/250 [02:18<00:59,  1.28batch/s, loss=0.0653]"
     ]
    },
    {
     "name": "stderr",
     "output_type": "stream",
     "text": [
      "\r",
      "Epoch 2/20:  70%|███████   | 175/250 [02:18<00:59,  1.26batch/s, loss=0.0653]"
     ]
    },
    {
     "name": "stderr",
     "output_type": "stream",
     "text": [
      "\r",
      "Epoch 2/20:  70%|███████   | 175/250 [02:19<00:59,  1.26batch/s, loss=0.0642]"
     ]
    },
    {
     "name": "stderr",
     "output_type": "stream",
     "text": [
      "\r",
      "Epoch 2/20:  70%|███████   | 176/250 [02:19<00:58,  1.27batch/s, loss=0.0642]"
     ]
    },
    {
     "name": "stderr",
     "output_type": "stream",
     "text": [
      "\r",
      "Epoch 2/20:  70%|███████   | 176/250 [02:19<00:58,  1.27batch/s, loss=0.052] "
     ]
    },
    {
     "name": "stderr",
     "output_type": "stream",
     "text": [
      "\r",
      "Epoch 2/20:  71%|███████   | 177/250 [02:19<00:57,  1.27batch/s, loss=0.052]"
     ]
    },
    {
     "name": "stderr",
     "output_type": "stream",
     "text": [
      "\r",
      "Epoch 2/20:  71%|███████   | 177/250 [02:20<00:57,  1.27batch/s, loss=0.0569]"
     ]
    },
    {
     "name": "stderr",
     "output_type": "stream",
     "text": [
      "\r",
      "Epoch 2/20:  71%|███████   | 178/250 [02:20<00:56,  1.28batch/s, loss=0.0569]"
     ]
    },
    {
     "name": "stderr",
     "output_type": "stream",
     "text": [
      "\r",
      "Epoch 2/20:  71%|███████   | 178/250 [02:21<00:56,  1.28batch/s, loss=0.0607]"
     ]
    },
    {
     "name": "stderr",
     "output_type": "stream",
     "text": [
      "\r",
      "Epoch 2/20:  72%|███████▏  | 179/250 [02:21<00:55,  1.27batch/s, loss=0.0607]"
     ]
    },
    {
     "name": "stderr",
     "output_type": "stream",
     "text": [
      "\r",
      "Epoch 2/20:  72%|███████▏  | 179/250 [02:22<00:55,  1.27batch/s, loss=0.109] "
     ]
    },
    {
     "name": "stderr",
     "output_type": "stream",
     "text": [
      "\r",
      "Epoch 2/20:  72%|███████▏  | 180/250 [02:22<00:54,  1.28batch/s, loss=0.109]"
     ]
    },
    {
     "name": "stderr",
     "output_type": "stream",
     "text": [
      "\r",
      "Epoch 2/20:  72%|███████▏  | 180/250 [02:23<00:54,  1.28batch/s, loss=0.0712]"
     ]
    },
    {
     "name": "stderr",
     "output_type": "stream",
     "text": [
      "\r",
      "Epoch 2/20:  72%|███████▏  | 181/250 [02:23<00:53,  1.28batch/s, loss=0.0712]"
     ]
    },
    {
     "name": "stderr",
     "output_type": "stream",
     "text": [
      "\r",
      "Epoch 2/20:  72%|███████▏  | 181/250 [02:23<00:53,  1.28batch/s, loss=0.0474]"
     ]
    },
    {
     "name": "stderr",
     "output_type": "stream",
     "text": [
      "\r",
      "Epoch 2/20:  73%|███████▎  | 182/250 [02:23<00:52,  1.28batch/s, loss=0.0474]"
     ]
    },
    {
     "name": "stderr",
     "output_type": "stream",
     "text": [
      "\r",
      "Epoch 2/20:  73%|███████▎  | 182/250 [02:24<00:52,  1.28batch/s, loss=0.0559]"
     ]
    },
    {
     "name": "stderr",
     "output_type": "stream",
     "text": [
      "\r",
      "Epoch 2/20:  73%|███████▎  | 183/250 [02:24<00:52,  1.28batch/s, loss=0.0559]"
     ]
    },
    {
     "name": "stderr",
     "output_type": "stream",
     "text": [
      "\r",
      "Epoch 2/20:  73%|███████▎  | 183/250 [02:25<00:52,  1.28batch/s, loss=0.0694]"
     ]
    },
    {
     "name": "stderr",
     "output_type": "stream",
     "text": [
      "\r",
      "Epoch 2/20:  74%|███████▎  | 184/250 [02:25<00:51,  1.29batch/s, loss=0.0694]"
     ]
    },
    {
     "name": "stderr",
     "output_type": "stream",
     "text": [
      "\r",
      "Epoch 2/20:  74%|███████▎  | 184/250 [02:26<00:51,  1.29batch/s, loss=0.0526]"
     ]
    },
    {
     "name": "stderr",
     "output_type": "stream",
     "text": [
      "\r",
      "Epoch 2/20:  74%|███████▍  | 185/250 [02:26<00:50,  1.29batch/s, loss=0.0526]"
     ]
    },
    {
     "name": "stderr",
     "output_type": "stream",
     "text": [
      "\r",
      "Epoch 2/20:  74%|███████▍  | 185/250 [02:26<00:50,  1.29batch/s, loss=0.0639]"
     ]
    },
    {
     "name": "stderr",
     "output_type": "stream",
     "text": [
      "\r",
      "Epoch 2/20:  74%|███████▍  | 186/250 [02:26<00:49,  1.29batch/s, loss=0.0639]"
     ]
    },
    {
     "name": "stderr",
     "output_type": "stream",
     "text": [
      "\r",
      "Epoch 2/20:  74%|███████▍  | 186/250 [02:27<00:49,  1.29batch/s, loss=0.0829]"
     ]
    },
    {
     "name": "stderr",
     "output_type": "stream",
     "text": [
      "\r",
      "Epoch 2/20:  75%|███████▍  | 187/250 [02:27<00:48,  1.29batch/s, loss=0.0829]"
     ]
    },
    {
     "name": "stderr",
     "output_type": "stream",
     "text": [
      "\r",
      "Epoch 2/20:  75%|███████▍  | 187/250 [02:28<00:48,  1.29batch/s, loss=0.0818]"
     ]
    },
    {
     "name": "stderr",
     "output_type": "stream",
     "text": [
      "\r",
      "Epoch 2/20:  75%|███████▌  | 188/250 [02:28<00:48,  1.29batch/s, loss=0.0818]"
     ]
    },
    {
     "name": "stderr",
     "output_type": "stream",
     "text": [
      "\r",
      "Epoch 2/20:  75%|███████▌  | 188/250 [02:29<00:48,  1.29batch/s, loss=0.0596]"
     ]
    },
    {
     "name": "stderr",
     "output_type": "stream",
     "text": [
      "\r",
      "Epoch 2/20:  76%|███████▌  | 189/250 [02:29<00:47,  1.28batch/s, loss=0.0596]"
     ]
    },
    {
     "name": "stderr",
     "output_type": "stream",
     "text": [
      "\r",
      "Epoch 2/20:  76%|███████▌  | 189/250 [02:30<00:47,  1.28batch/s, loss=0.0688]"
     ]
    },
    {
     "name": "stderr",
     "output_type": "stream",
     "text": [
      "\r",
      "Epoch 2/20:  76%|███████▌  | 190/250 [02:30<00:46,  1.29batch/s, loss=0.0688]"
     ]
    },
    {
     "name": "stderr",
     "output_type": "stream",
     "text": [
      "\r",
      "Epoch 2/20:  76%|███████▌  | 190/250 [02:30<00:46,  1.29batch/s, loss=0.0905]"
     ]
    },
    {
     "name": "stderr",
     "output_type": "stream",
     "text": [
      "\r",
      "Epoch 2/20:  76%|███████▋  | 191/250 [02:30<00:46,  1.28batch/s, loss=0.0905]"
     ]
    },
    {
     "name": "stderr",
     "output_type": "stream",
     "text": [
      "\r",
      "Epoch 2/20:  76%|███████▋  | 191/250 [02:31<00:46,  1.28batch/s, loss=0.0787]"
     ]
    },
    {
     "name": "stderr",
     "output_type": "stream",
     "text": [
      "\r",
      "Epoch 2/20:  77%|███████▋  | 192/250 [02:31<00:45,  1.28batch/s, loss=0.0787]"
     ]
    },
    {
     "name": "stderr",
     "output_type": "stream",
     "text": [
      "\r",
      "Epoch 2/20:  77%|███████▋  | 192/250 [02:32<00:45,  1.28batch/s, loss=0.0547]"
     ]
    },
    {
     "name": "stderr",
     "output_type": "stream",
     "text": [
      "\r",
      "Epoch 2/20:  77%|███████▋  | 193/250 [02:32<00:44,  1.28batch/s, loss=0.0547]"
     ]
    },
    {
     "name": "stderr",
     "output_type": "stream",
     "text": [
      "\r",
      "Epoch 2/20:  77%|███████▋  | 193/250 [02:33<00:44,  1.28batch/s, loss=0.0904]"
     ]
    },
    {
     "name": "stderr",
     "output_type": "stream",
     "text": [
      "\r",
      "Epoch 2/20:  78%|███████▊  | 194/250 [02:33<00:43,  1.29batch/s, loss=0.0904]"
     ]
    },
    {
     "name": "stderr",
     "output_type": "stream",
     "text": [
      "\r",
      "Epoch 2/20:  78%|███████▊  | 194/250 [02:33<00:43,  1.29batch/s, loss=0.0946]"
     ]
    },
    {
     "name": "stderr",
     "output_type": "stream",
     "text": [
      "\r",
      "Epoch 2/20:  78%|███████▊  | 195/250 [02:33<00:43,  1.27batch/s, loss=0.0946]"
     ]
    },
    {
     "name": "stderr",
     "output_type": "stream",
     "text": [
      "\r",
      "Epoch 2/20:  78%|███████▊  | 195/250 [02:34<00:43,  1.27batch/s, loss=0.112] "
     ]
    },
    {
     "name": "stderr",
     "output_type": "stream",
     "text": [
      "\r",
      "Epoch 2/20:  78%|███████▊  | 196/250 [02:34<00:42,  1.28batch/s, loss=0.112]"
     ]
    },
    {
     "name": "stderr",
     "output_type": "stream",
     "text": [
      "\r",
      "Epoch 2/20:  78%|███████▊  | 196/250 [02:35<00:42,  1.28batch/s, loss=0.0749]"
     ]
    },
    {
     "name": "stderr",
     "output_type": "stream",
     "text": [
      "\r",
      "Epoch 2/20:  79%|███████▉  | 197/250 [02:35<00:41,  1.28batch/s, loss=0.0749]"
     ]
    },
    {
     "name": "stderr",
     "output_type": "stream",
     "text": [
      "\r",
      "Epoch 2/20:  79%|███████▉  | 197/250 [02:36<00:41,  1.28batch/s, loss=0.0678]"
     ]
    },
    {
     "name": "stderr",
     "output_type": "stream",
     "text": [
      "\r",
      "Epoch 2/20:  79%|███████▉  | 198/250 [02:36<00:40,  1.28batch/s, loss=0.0678]"
     ]
    },
    {
     "name": "stderr",
     "output_type": "stream",
     "text": [
      "\r",
      "Epoch 2/20:  79%|███████▉  | 198/250 [02:37<00:40,  1.28batch/s, loss=0.0465]"
     ]
    },
    {
     "name": "stderr",
     "output_type": "stream",
     "text": [
      "\r",
      "Epoch 2/20:  80%|███████▉  | 199/250 [02:37<00:39,  1.28batch/s, loss=0.0465]"
     ]
    },
    {
     "name": "stderr",
     "output_type": "stream",
     "text": [
      "\r",
      "Epoch 2/20:  80%|███████▉  | 199/250 [02:37<00:39,  1.28batch/s, loss=0.0679]"
     ]
    },
    {
     "name": "stderr",
     "output_type": "stream",
     "text": [
      "\r",
      "Epoch 2/20:  80%|████████  | 200/250 [02:37<00:39,  1.28batch/s, loss=0.0679]"
     ]
    },
    {
     "name": "stderr",
     "output_type": "stream",
     "text": [
      "\r",
      "Epoch 2/20:  80%|████████  | 200/250 [02:38<00:39,  1.28batch/s, loss=0.0415]"
     ]
    },
    {
     "name": "stderr",
     "output_type": "stream",
     "text": [
      "\r",
      "Epoch 2/20:  80%|████████  | 201/250 [02:38<00:38,  1.28batch/s, loss=0.0415]"
     ]
    },
    {
     "name": "stderr",
     "output_type": "stream",
     "text": [
      "\r",
      "Epoch 2/20:  80%|████████  | 201/250 [02:39<00:38,  1.28batch/s, loss=0.0553]"
     ]
    },
    {
     "name": "stderr",
     "output_type": "stream",
     "text": [
      "\r",
      "Epoch 2/20:  81%|████████  | 202/250 [02:39<00:37,  1.27batch/s, loss=0.0553]"
     ]
    },
    {
     "name": "stderr",
     "output_type": "stream",
     "text": [
      "\r",
      "Epoch 2/20:  81%|████████  | 202/250 [02:40<00:37,  1.27batch/s, loss=0.0861]"
     ]
    },
    {
     "name": "stderr",
     "output_type": "stream",
     "text": [
      "\r",
      "Epoch 2/20:  81%|████████  | 203/250 [02:40<00:37,  1.26batch/s, loss=0.0861]"
     ]
    },
    {
     "name": "stderr",
     "output_type": "stream",
     "text": [
      "\r",
      "Epoch 2/20:  81%|████████  | 203/250 [02:41<00:37,  1.26batch/s, loss=0.0733]"
     ]
    },
    {
     "name": "stderr",
     "output_type": "stream",
     "text": [
      "\r",
      "Epoch 2/20:  82%|████████▏ | 204/250 [02:41<00:36,  1.27batch/s, loss=0.0733]"
     ]
    },
    {
     "name": "stderr",
     "output_type": "stream",
     "text": [
      "\r",
      "Epoch 2/20:  82%|████████▏ | 204/250 [02:41<00:36,  1.27batch/s, loss=0.0826]"
     ]
    },
    {
     "name": "stderr",
     "output_type": "stream",
     "text": [
      "\r",
      "Epoch 2/20:  82%|████████▏ | 205/250 [02:41<00:35,  1.28batch/s, loss=0.0826]"
     ]
    },
    {
     "name": "stderr",
     "output_type": "stream",
     "text": [
      "\r",
      "Epoch 2/20:  82%|████████▏ | 205/250 [02:42<00:35,  1.28batch/s, loss=0.0582]"
     ]
    },
    {
     "name": "stderr",
     "output_type": "stream",
     "text": [
      "\r",
      "Epoch 2/20:  82%|████████▏ | 206/250 [02:42<00:34,  1.28batch/s, loss=0.0582]"
     ]
    },
    {
     "name": "stderr",
     "output_type": "stream",
     "text": [
      "\r",
      "Epoch 2/20:  82%|████████▏ | 206/250 [02:43<00:34,  1.28batch/s, loss=0.0988]"
     ]
    },
    {
     "name": "stderr",
     "output_type": "stream",
     "text": [
      "\r",
      "Epoch 2/20:  83%|████████▎ | 207/250 [02:43<00:33,  1.28batch/s, loss=0.0988]"
     ]
    },
    {
     "name": "stderr",
     "output_type": "stream",
     "text": [
      "\r",
      "Epoch 2/20:  83%|████████▎ | 207/250 [02:44<00:33,  1.28batch/s, loss=0.0907]"
     ]
    },
    {
     "name": "stderr",
     "output_type": "stream",
     "text": [
      "\r",
      "Epoch 2/20:  83%|████████▎ | 208/250 [02:44<00:32,  1.29batch/s, loss=0.0907]"
     ]
    },
    {
     "name": "stderr",
     "output_type": "stream",
     "text": [
      "\r",
      "Epoch 2/20:  83%|████████▎ | 208/250 [02:44<00:32,  1.29batch/s, loss=0.117] "
     ]
    },
    {
     "name": "stderr",
     "output_type": "stream",
     "text": [
      "\r",
      "Epoch 2/20:  84%|████████▎ | 209/250 [02:44<00:31,  1.29batch/s, loss=0.117]"
     ]
    },
    {
     "name": "stderr",
     "output_type": "stream",
     "text": [
      "\r",
      "Epoch 2/20:  84%|████████▎ | 209/250 [02:45<00:31,  1.29batch/s, loss=0.0647]"
     ]
    },
    {
     "name": "stderr",
     "output_type": "stream",
     "text": [
      "\r",
      "Epoch 2/20:  84%|████████▍ | 210/250 [02:45<00:31,  1.29batch/s, loss=0.0647]"
     ]
    },
    {
     "name": "stderr",
     "output_type": "stream",
     "text": [
      "\r",
      "Epoch 2/20:  84%|████████▍ | 210/250 [02:46<00:31,  1.29batch/s, loss=0.0664]"
     ]
    },
    {
     "name": "stderr",
     "output_type": "stream",
     "text": [
      "\r",
      "Epoch 2/20:  84%|████████▍ | 211/250 [02:46<00:30,  1.28batch/s, loss=0.0664]"
     ]
    },
    {
     "name": "stderr",
     "output_type": "stream",
     "text": [
      "\r",
      "Epoch 2/20:  84%|████████▍ | 211/250 [02:47<00:30,  1.28batch/s, loss=0.0799]"
     ]
    },
    {
     "name": "stderr",
     "output_type": "stream",
     "text": [
      "\r",
      "Epoch 2/20:  85%|████████▍ | 212/250 [02:47<00:29,  1.28batch/s, loss=0.0799]"
     ]
    },
    {
     "name": "stderr",
     "output_type": "stream",
     "text": [
      "\r",
      "Epoch 2/20:  85%|████████▍ | 212/250 [02:48<00:29,  1.28batch/s, loss=0.101] "
     ]
    },
    {
     "name": "stderr",
     "output_type": "stream",
     "text": [
      "\r",
      "Epoch 2/20:  85%|████████▌ | 213/250 [02:48<00:28,  1.28batch/s, loss=0.101]"
     ]
    },
    {
     "name": "stderr",
     "output_type": "stream",
     "text": [
      "\r",
      "Epoch 2/20:  85%|████████▌ | 213/250 [02:48<00:28,  1.28batch/s, loss=0.0794]"
     ]
    },
    {
     "name": "stderr",
     "output_type": "stream",
     "text": [
      "\r",
      "Epoch 2/20:  86%|████████▌ | 214/250 [02:48<00:27,  1.29batch/s, loss=0.0794]"
     ]
    },
    {
     "name": "stderr",
     "output_type": "stream",
     "text": [
      "\r",
      "Epoch 2/20:  86%|████████▌ | 214/250 [02:49<00:27,  1.29batch/s, loss=0.0737]"
     ]
    },
    {
     "name": "stderr",
     "output_type": "stream",
     "text": [
      "\r",
      "Epoch 2/20:  86%|████████▌ | 215/250 [02:49<00:27,  1.28batch/s, loss=0.0737]"
     ]
    },
    {
     "name": "stderr",
     "output_type": "stream",
     "text": [
      "\r",
      "Epoch 2/20:  86%|████████▌ | 215/250 [02:50<00:27,  1.28batch/s, loss=0.0755]"
     ]
    },
    {
     "name": "stderr",
     "output_type": "stream",
     "text": [
      "\r",
      "Epoch 2/20:  86%|████████▋ | 216/250 [02:50<00:26,  1.28batch/s, loss=0.0755]"
     ]
    },
    {
     "name": "stderr",
     "output_type": "stream",
     "text": [
      "\r",
      "Epoch 2/20:  86%|████████▋ | 216/250 [02:51<00:26,  1.28batch/s, loss=0.0831]"
     ]
    }
   ],
   "source": [
    "import os\n",
    "import cv2\n",
    "import numpy as np\n",
    "import copy\n",
    "from tqdm import tqdm\n",
    "import requests\n",
    "from PIL import Image \n",
    "\n",
    "import torch\n",
    "from torch.utils.data import Dataset, DataLoader\n",
    "from torchvision.transforms.functional import to_tensor\n",
    "from torchvision import transforms as TF\n",
    "import torch.nn.functional as F\n",
    "from torch.optim import AdamW\n",
    "\n",
    "from transformers import SegformerForSemanticSegmentation\n",
    "from transformers import get_scheduler\n",
    "\n",
    "from sklearn.metrics import jaccard_score\n",
    "\n",
    "class BDDDataset(Dataset):\n",
    "    def __init__(self, images_dir, masks_dir, transform=None, num_images=None):\n",
    "        self.images_dir = images_dir\n",
    "        self.masks_dir = masks_dir\n",
    "        self.transform = transform\n",
    "        self.images = [img for img in os.listdir(images_dir) if img.endswith('.jpg')]\n",
    "\n",
    "        # Ensure the dataset has the same number of images and masks\n",
    "        if num_images:\n",
    "            if num_images > len(self.images):\n",
    "                print(f\"Requested {num_images} images, but only {len(self.images)} available. Using all available images.\")\n",
    "            else:\n",
    "                self.images = self.images[:num_images]\n",
    "\n",
    "        self.masks = [img.replace('.jpg', '.png') for img in self.images]\n",
    "\n",
    "    def __len__(self):\n",
    "        return len(self.images)\n",
    "\n",
    "    def __getitem__(self, idx):\n",
    "        image_path = os.path.join(self.images_dir, self.images[idx])\n",
    "        mask_path = os.path.join(self.masks_dir, self.masks[idx])\n",
    "        image = Image.open(image_path).convert(\"RGB\")\n",
    "        mask = Image.open(mask_path).convert('L')  # Convert mask to grayscale\n",
    "        \n",
    "        # Convert mask to binary format with 0 and 1 values\n",
    "        mask = np.array(mask)\n",
    "        mask = (mask > 0).astype(np.uint8)  # Assuming non-zero pixels are lanes\n",
    "        \n",
    "        # Convert to PIL Image for consistency in transforms\n",
    "        mask = Image.fromarray(mask)\n",
    "\n",
    "        if self.transform:\n",
    "            image = self.transform(image)\n",
    "        \n",
    "        mask = TF.functional.resize(img=mask, size=[360, 640], interpolation=Image.NEAREST)\n",
    "        mask = TF.functional.to_tensor(mask)\n",
    "        mask = (mask > 0).long()  # Threshold back to binary and convert to LongTensor\n",
    "\n",
    "        return image, mask\n",
    "\n",
    "def mean_iou(preds, labels, num_classes):\n",
    "    # Flatten predictions and labels\n",
    "    preds_flat = preds.view(-1)\n",
    "    labels_flat = labels.view(-1)\n",
    "\n",
    "    # Check that the number of elements in the flattened predictions\n",
    "    # and labels are equal\n",
    "    if preds_flat.shape[0] != labels_flat.shape[0]:\n",
    "        raise ValueError(f\"Predictions and labels have mismatched shapes: \"\n",
    "                         f\"{preds_flat.shape} vs {labels_flat.shape}\")\n",
    "\n",
    "    # Calculate the Jaccard score for each class\n",
    "    iou = jaccard_score(labels_flat.cpu().numpy(), preds_flat.cpu().numpy(),\n",
    "                        average=None, labels=range(num_classes))\n",
    "\n",
    "    # Return the mean IoU\n",
    "    return np.mean(iou)\n",
    "\n",
    "# Define the appropriate transformations\n",
    "transform = TF.Compose([\n",
    "    TF.Resize((360, 640)),\n",
    "    TF.ToTensor(),\n",
    "    TF.Normalize(mean=[0.485, 0.456, 0.406], std=[0.229, 0.224, 0.225])\n",
    "])\n",
    "\n",
    "# Create the dataset with the specified number of images\n",
    "train_dataset = BDDDataset(images_dir='/kaggle/input/lanedetection/deep_drive_10K/train/images',\n",
    "                           masks_dir='/kaggle/input/lanedetection/deep_drive_10K/train/masks',\n",
    "                           transform=transform,\n",
    "                           num_images=1000)\n",
    "\n",
    "valid_dataset = BDDDataset(images_dir='/kaggle/input/lanedetection/deep_drive_10K/valid/images',\n",
    "                           masks_dir='/kaggle/input/lanedetection/deep_drive_10K/valid/masks',\n",
    "                           transform=transform,\n",
    "                           num_images=250)\n",
    "\n",
    "# Create the data loaders\n",
    "train_loader = DataLoader(train_dataset, batch_size=4, shuffle=True, num_workers=6)\n",
    "valid_loader = DataLoader(valid_dataset, batch_size=4, shuffle=False, num_workers=6)\n",
    "\n",
    "# Load the pre-trained model\n",
    "model = SegformerForSemanticSegmentation.from_pretrained('nvidia/segformer-b2-finetuned-ade-512-512')\n",
    "\n",
    "# Adjust the number of classes for BDD dataset\n",
    "model.config.num_labels = 2  # Replace with the actual number of classes\n",
    "\n",
    "# Check for CUDA acceleration\n",
    "device = torch.device('cuda' if torch.cuda.is_available() else 'cpu')\n",
    "model.to(device)\n",
    "\n",
    "# Define the optimizer\n",
    "optimizer = AdamW(model.parameters(), lr=5e-5)\n",
    "\n",
    "# Define the learning rate scheduler\n",
    "num_epochs = 20\n",
    "num_training_steps = num_epochs * len(train_loader)\n",
    "lr_scheduler = get_scheduler(\n",
    "    \"linear\",\n",
    "    optimizer=optimizer,\n",
    "    num_warmup_steps=0,\n",
    "    num_training_steps=num_training_steps\n",
    ")\n",
    "\n",
    "# Placeholder for best mean IoU and best model weights\n",
    "best_iou = 0.0\n",
    "best_model_wts = copy.deepcopy(model.state_dict())\n",
    "\n",
    "# Lists to store the loss values\n",
    "train_losses = []\n",
    "valid_ious = []\n",
    "\n",
    "for epoch in range(num_epochs):\n",
    "    model.train()\n",
    "    train_iterator = tqdm(train_loader, desc=f\"Epoch {epoch + 1}/{num_epochs}\", unit=\"batch\")\n",
    "    epoch_train_loss = 0.0\n",
    "\n",
    "    for batch in train_iterator:\n",
    "        images, masks = batch\n",
    "        images = images.to(device)\n",
    "        masks = masks.to(device).long()  # Ensure masks are LongTensors\n",
    "\n",
    "        # Remove the channel dimension from the masks tensor\n",
    "        masks = masks.squeeze(1)  # This changes the shape from [batch, 1, H, W] to [batch, H, W]\n",
    "        optimizer.zero_grad()\n",
    "\n",
    "        # Pass pixel_values and labels to the model\n",
    "        outputs = model(pixel_values=images, labels=masks, return_dict=True)\n",
    "        \n",
    "        loss = outputs[\"loss\"]\n",
    "        loss.backward()\n",
    "\n",
    "        optimizer.step()\n",
    "        lr_scheduler.step()\n",
    "        outputs = F.interpolate(outputs[\"logits\"], size=masks.shape[-2:], mode=\"bilinear\", align_corners=False)\n",
    "        \n",
    "        epoch_train_loss += loss.item()\n",
    "        train_iterator.set_postfix(loss=loss.item())\n",
    "\n",
    "    avg_train_loss = epoch_train_loss / len(train_loader)\n",
    "    train_losses.append(avg_train_loss)\n",
    "\n",
    "    # Evaluation loop for each epoch\n",
    "    model.eval()\n",
    "    total_iou = 0\n",
    "    num_batches = 0\n",
    "    valid_iterator = tqdm(valid_loader, desc=\"Validation\", unit=\"batch\")\n",
    "\n",
    "    for batch in valid_iterator:\n",
    "        images, masks = batch\n",
    "        images = images.to(device)\n",
    "        masks = masks.to(device).long()\n",
    "    \n",
    "        with torch.no_grad():\n",
    "            # Get the logits from the model and apply argmax to get the predictions\n",
    "            outputs = model(pixel_values=images, return_dict=True)\n",
    "            outputs = F.interpolate(outputs[\"logits\"], size=masks.shape[-2:], mode=\"bilinear\", align_corners=False)\n",
    "            preds = torch.argmax(outputs, dim=1)\n",
    "            preds = torch.unsqueeze(preds, dim=1)\n",
    "\n",
    "        preds = preds.view(-1)\n",
    "        masks = masks.view(-1)\n",
    "    \n",
    "        # Compute IoU\n",
    "        iou = mean_iou(preds, masks, model.config.num_labels)\n",
    "        total_iou += iou\n",
    "        num_batches += 1\n",
    "        valid_iterator.set_postfix(mean_iou=iou)\n",
    "    \n",
    "    epoch_iou = total_iou / num_batches\n",
    "    valid_ious.append(epoch_iou)\n",
    "    print(f\"Epoch {epoch+1}/{num_epochs} - Mean IoU: {epoch_iou:.4f}\")\n",
    "\n",
    "    # Check for improvement\n",
    "    if epoch_iou > best_iou:\n",
    "        print(f\"Validation IoU improved from {best_iou:.4f} to {epoch_iou:.4f}\")\n",
    "        best_iou = epoch_iou\n",
    "        best_model_wts = copy.deepcopy(model.state_dict())\n",
    "        torch.save(best_model_wts, '/kaggle/working/best_model.pth')\n",
    "\n",
    "# After all epochs, load the best model weights - optional\n"
   ]
  },
  {
   "cell_type": "code",
   "execution_count": null,
   "id": "903707e7",
   "metadata": {
    "execution": {
     "iopub.execute_input": "2024-06-27T14:49:49.606220Z",
     "iopub.status.busy": "2024-06-27T14:49:49.605852Z",
     "iopub.status.idle": "2024-06-27T14:49:50.215195Z",
     "shell.execute_reply": "2024-06-27T14:49:50.214137Z",
     "shell.execute_reply.started": "2024-06-27T14:49:49.606193Z"
    },
    "papermill": {
     "duration": null,
     "end_time": null,
     "exception": null,
     "start_time": null,
     "status": "pending"
    },
    "tags": []
   },
   "outputs": [],
   "source": [
    "import matplotlib.pyplot as plt\n",
    "plt.figure(figsize=(12, 5))\n",
    "\n",
    "plt.subplot(1, 2, 1)\n",
    "plt.plot(train_losses, label='Training Loss')\n",
    "plt.xlabel('Epoch')\n",
    "plt.ylabel('Loss')\n",
    "plt.title('Training Loss')\n",
    "plt.legend()\n",
    "\n",
    "plt.subplot(1, 2, 2)\n",
    "plt.plot(valid_ious, label='Validation IoU')\n",
    "plt.xlabel('Epoch')\n",
    "plt.ylabel('Mean IoU')\n",
    "plt.title('Validation Mean IoU')\n",
    "plt.legend()\n",
    "\n",
    "plt.show()"
   ]
  },
  {
   "cell_type": "code",
   "execution_count": null,
   "id": "84a2c7e6",
   "metadata": {
    "execution": {
     "iopub.execute_input": "2024-06-27T12:32:38.782093Z",
     "iopub.status.busy": "2024-06-27T12:32:38.781714Z",
     "iopub.status.idle": "2024-06-27T12:33:08.468259Z",
     "shell.execute_reply": "2024-06-27T12:33:08.466852Z",
     "shell.execute_reply.started": "2024-06-27T12:32:38.782063Z"
    },
    "papermill": {
     "duration": null,
     "end_time": null,
     "exception": null,
     "start_time": null,
     "status": "pending"
    },
    "tags": []
   },
   "outputs": [],
   "source": [
    "# Code written by Pranav Durai for Lane Detection Inference using Fine-Tuned SegFormer Model\n",
    "# Import necessary libraries\n",
    "import cv2\n",
    "from PIL import Image\n",
    "import torch\n",
    "import numpy as np\n",
    "from torchvision import transforms as TF\n",
    "import torch.nn.functional as F\n",
    "from transformers import SegformerForSemanticSegmentation\n",
    "\n",
    "# Load the trained model \n",
    "device = torch.device('cuda' if torch.cuda.is_available() else 'cpu')\n",
    "model = SegformerForSemanticSegmentation.from_pretrained('nvidia/segformer-b3-finetuned-ade-512-512')\n",
    "\n",
    "# Replace with the actual number of classes\n",
    "model.config.num_labels = 2  \n",
    "\n",
    "# Load the state from the fine-tuned model and set to model.eval() mode\n",
    "model.load_state_dict(torch.load('/kaggle/working/best_model.pth'))\n",
    "model.to(device)\n",
    "model.eval()\n",
    "\n",
    "# Video inference\n",
    "cap = cv2.VideoCapture('/kaggle/input/video-test-2/videoplayback.mp4')\n",
    "fourcc = cv2.VideoWriter_fourcc(*'XVID')\n",
    "out = cv2.VideoWriter('/kaggle/working/output_video.avi', fourcc, 20.0, (int(cap.get(3)), int(cap.get(4))))\n",
    "\n",
    "# Perform transformations\n",
    "data_transforms = TF.Compose([\n",
    "    TF.ToPILImage(),\n",
    "    TF.Resize((360, 640)),\n",
    "    TF.ToTensor(),\n",
    "    TF.Normalize(mean=[0.485, 0.456, 0.406], std=[0.229, 0.224, 0.225])\n",
    "])\n",
    "\n",
    "# Inference loop \n",
    "while(cap.isOpened()):\n",
    "    ret, frame = cap.read()\n",
    "    if ret == True:\n",
    "        # Preprocess the frame\n",
    "        input_tensor = data_transforms(frame).unsqueeze(0).to(device)\n",
    "        \n",
    "        with torch.no_grad():\n",
    "            outputs = model(pixel_values=input_tensor,return_dict=True)\n",
    "            outputs = F.interpolate(outputs[\"logits\"], size=(360, 640), mode=\"bilinear\", align_corners=False)\n",
    "            \n",
    "            preds = torch.argmax(outputs, dim=1)\n",
    "            preds = torch.unsqueeze(preds, dim=1)\n",
    "            predicted_mask = (torch.sigmoid(preds) > 0.5).float()\n",
    "\n",
    "        # Create an RGB version of the mask to overlay on the original frame\n",
    "        mask_np = predicted_mask.cpu().squeeze().numpy()\n",
    "        mask_resized = cv2.resize(mask_np, (frame.shape[1], frame.shape[0]))\n",
    "        \n",
    "        # Modify this section to create a green mask\n",
    "        mask_rgb = np.zeros((mask_resized.shape[0], mask_resized.shape[1], 3), dtype=np.uint8)\n",
    "        mask_rgb[:, :, 1] = (mask_resized * 255).astype(np.uint8)  # Set only the green channel\n",
    "\n",
    "        # Post-processing for mask smoothening\n",
    "        # Remove noise\n",
    "        kernel = np.ones((3,3), np.uint8)\n",
    "        opening = cv2.morphologyEx(mask_rgb, cv2.MORPH_OPEN, kernel, iterations=2)\n",
    "        \n",
    "        # Close small holes\n",
    "        closing = cv2.morphologyEx(opening, cv2.MORPH_CLOSE, kernel, iterations=2)\n",
    "\n",
    "        # Overlay the mask on the frame\n",
    "        blended = cv2.addWeighted(frame, 0.65, closing, 0.6, 0)\n",
    "        \n",
    "        # Write the blended frame to the output video\n",
    "        out.write(blended)\n",
    "    else:\n",
    "        break\n",
    "\n",
    "cap.release()\n",
    "out.release()\n",
    "cv2.destroyAllWindows()"
   ]
  },
  {
   "cell_type": "code",
   "execution_count": null,
   "id": "46d6d464",
   "metadata": {
    "execution": {
     "iopub.execute_input": "2024-06-23T10:12:51.750359Z",
     "iopub.status.busy": "2024-06-23T10:12:51.750019Z",
     "iopub.status.idle": "2024-06-23T10:12:52.250858Z",
     "shell.execute_reply": "2024-06-23T10:12:52.249890Z",
     "shell.execute_reply.started": "2024-06-23T10:12:51.750332Z"
    },
    "papermill": {
     "duration": null,
     "end_time": null,
     "exception": null,
     "start_time": null,
     "status": "pending"
    },
    "tags": []
   },
   "outputs": [],
   "source": [
    "import matplotlib.pyplot as plt\n",
    "plt.imshow(image)"
   ]
  },
  {
   "cell_type": "code",
   "execution_count": null,
   "id": "99682aa2",
   "metadata": {
    "execution": {
     "iopub.execute_input": "2024-06-22T14:54:09.429538Z",
     "iopub.status.busy": "2024-06-22T14:54:09.429168Z",
     "iopub.status.idle": "2024-06-22T14:54:09.449859Z",
     "shell.execute_reply": "2024-06-22T14:54:09.448995Z",
     "shell.execute_reply.started": "2024-06-22T14:54:09.429510Z"
    },
    "papermill": {
     "duration": null,
     "end_time": null,
     "exception": null,
     "start_time": null,
     "status": "pending"
    },
    "tags": []
   },
   "outputs": [],
   "source": [
    "len(np.unique(image))"
   ]
  },
  {
   "cell_type": "code",
   "execution_count": null,
   "id": "b7bf11ba",
   "metadata": {
    "papermill": {
     "duration": null,
     "end_time": null,
     "exception": null,
     "start_time": null,
     "status": "pending"
    },
    "tags": []
   },
   "outputs": [],
   "source": []
  }
 ],
 "metadata": {
  "kaggle": {
   "accelerator": "nvidiaTeslaT4",
   "dataSources": [
    {
     "datasetId": 5168143,
     "sourceId": 8631289,
     "sourceType": "datasetVersion"
    },
    {
     "datasetId": 5172829,
     "sourceId": 8637957,
     "sourceType": "datasetVersion"
    },
    {
     "datasetId": 5174419,
     "sourceId": 8640154,
     "sourceType": "datasetVersion"
    },
    {
     "datasetId": 5175741,
     "sourceId": 8642049,
     "sourceType": "datasetVersion"
    },
    {
     "datasetId": 5177366,
     "sourceId": 8644672,
     "sourceType": "datasetVersion"
    },
    {
     "datasetId": 5243684,
     "sourceId": 8735239,
     "sourceType": "datasetVersion"
    },
    {
     "datasetId": 5259509,
     "sourceId": 8755155,
     "sourceType": "datasetVersion"
    },
    {
     "datasetId": 5262429,
     "sourceId": 8759132,
     "sourceType": "datasetVersion"
    },
    {
     "datasetId": 5262491,
     "sourceId": 8759213,
     "sourceType": "datasetVersion"
    },
    {
     "datasetId": 5274254,
     "sourceId": 8775506,
     "sourceType": "datasetVersion"
    },
    {
     "datasetId": 5291078,
     "sourceId": 8799090,
     "sourceType": "datasetVersion"
    },
    {
     "datasetId": 5292513,
     "sourceId": 8800974,
     "sourceType": "datasetVersion"
    }
   ],
   "dockerImageVersionId": 30732,
   "isGpuEnabled": true,
   "isInternetEnabled": true,
   "language": "python",
   "sourceType": "notebook"
  },
  "kernelspec": {
   "display_name": "Python 3",
   "language": "python",
   "name": "python3"
  },
  "language_info": {
   "codemirror_mode": {
    "name": "ipython",
    "version": 3
   },
   "file_extension": ".py",
   "mimetype": "text/x-python",
   "name": "python",
   "nbconvert_exporter": "python",
   "pygments_lexer": "ipython3",
   "version": "3.10.13"
  },
  "papermill": {
   "default_parameters": {},
   "duration": null,
   "end_time": null,
   "environment_variables": {},
   "exception": null,
   "input_path": "__notebook__.ipynb",
   "output_path": "__notebook__.ipynb",
   "parameters": {},
   "start_time": "2024-06-27T14:50:40.575548",
   "version": "2.5.0"
  }
 },
 "nbformat": 4,
 "nbformat_minor": 5
}